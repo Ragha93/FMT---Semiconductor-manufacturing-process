{
 "cells": [
  {
   "cell_type": "markdown",
   "metadata": {},
   "source": [
    "# Project 5"
   ]
  },
  {
   "cell_type": "markdown",
   "metadata": {},
   "source": [
    "### Import and explore the data."
   ]
  },
  {
   "cell_type": "code",
   "execution_count": 1,
   "metadata": {},
   "outputs": [],
   "source": [
    "import numpy as np\n",
    "import pandas as pd\n",
    "from sklearn.model_selection import GridSearchCV,train_test_split\n",
    "import matplotlib.pyplot as plt\n",
    "import seaborn as sns\n",
    "%matplotlib inline\n",
    "import warnings\n",
    "warnings.filterwarnings('ignore')\n",
    "from sklearn.model_selection import train_test_split,GridSearchCV,StratifiedKFold,KFold\n",
    "from sklearn.pipeline import Pipeline\n",
    "from imblearn import over_sampling,under_sampling\n",
    "from imblearn.over_sampling import SMOTE\n",
    "from scipy.stats import f_oneway,ttest_ind\n",
    "from sklearn.metrics import classification_report,confusion_matrix,accuracy_score\n",
    "from sklearn import metrics\n",
    "from sklearn.preprocessing import StandardScaler\n",
    "from sklearn.decomposition import PCA\n",
    "from sklearn.linear_model import LogisticRegression\n",
    "from sklearn.svm import SVC\n",
    "from sklearn.naive_bayes import GaussianNB\n",
    "from sklearn.tree import DecisionTreeClassifier\n",
    "from sklearn.ensemble import AdaBoostClassifier,GradientBoostingClassifier,RandomForestClassifier\n",
    "from sklearn.impute import KNNImputer\n",
    "from sklearn.metrics import roc_curve"
   ]
  },
  {
   "cell_type": "code",
   "execution_count": 2,
   "metadata": {},
   "outputs": [],
   "source": [
    "df_sig = pd.read_csv('signal-data.csv')\n",
    "df = pd.read_excel('Future_predictions.xlsx')"
   ]
  },
  {
   "cell_type": "code",
   "execution_count": 750,
   "metadata": {},
   "outputs": [],
   "source": [
    "df_sig1 = pd.read_csv('signal-data.csv')"
   ]
  },
  {
   "cell_type": "code",
   "execution_count": 416,
   "metadata": {
    "scrolled": true
   },
   "outputs": [
    {
     "data": {
      "text/html": [
       "<div>\n",
       "<style scoped>\n",
       "    .dataframe tbody tr th:only-of-type {\n",
       "        vertical-align: middle;\n",
       "    }\n",
       "\n",
       "    .dataframe tbody tr th {\n",
       "        vertical-align: top;\n",
       "    }\n",
       "\n",
       "    .dataframe thead th {\n",
       "        text-align: right;\n",
       "    }\n",
       "</style>\n",
       "<table border=\"1\" class=\"dataframe\">\n",
       "  <thead>\n",
       "    <tr style=\"text-align: right;\">\n",
       "      <th></th>\n",
       "      <th>Time</th>\n",
       "      <th>0</th>\n",
       "      <th>1</th>\n",
       "      <th>2</th>\n",
       "      <th>3</th>\n",
       "      <th>4</th>\n",
       "      <th>5</th>\n",
       "      <th>6</th>\n",
       "      <th>7</th>\n",
       "      <th>8</th>\n",
       "      <th>...</th>\n",
       "      <th>581</th>\n",
       "      <th>582</th>\n",
       "      <th>583</th>\n",
       "      <th>584</th>\n",
       "      <th>585</th>\n",
       "      <th>586</th>\n",
       "      <th>587</th>\n",
       "      <th>588</th>\n",
       "      <th>589</th>\n",
       "      <th>Pass/Fail</th>\n",
       "    </tr>\n",
       "  </thead>\n",
       "  <tbody>\n",
       "    <tr>\n",
       "      <th>0</th>\n",
       "      <td>2008-07-19 11:55:00</td>\n",
       "      <td>3030.93</td>\n",
       "      <td>2564.00</td>\n",
       "      <td>2187.7333</td>\n",
       "      <td>1411.1265</td>\n",
       "      <td>1.3602</td>\n",
       "      <td>100.0</td>\n",
       "      <td>97.6133</td>\n",
       "      <td>0.1242</td>\n",
       "      <td>1.5005</td>\n",
       "      <td>...</td>\n",
       "      <td>NaN</td>\n",
       "      <td>0.5005</td>\n",
       "      <td>0.0118</td>\n",
       "      <td>0.0035</td>\n",
       "      <td>2.3630</td>\n",
       "      <td>NaN</td>\n",
       "      <td>NaN</td>\n",
       "      <td>NaN</td>\n",
       "      <td>NaN</td>\n",
       "      <td>-1</td>\n",
       "    </tr>\n",
       "    <tr>\n",
       "      <th>1</th>\n",
       "      <td>2008-07-19 12:32:00</td>\n",
       "      <td>3095.78</td>\n",
       "      <td>2465.14</td>\n",
       "      <td>2230.4222</td>\n",
       "      <td>1463.6606</td>\n",
       "      <td>0.8294</td>\n",
       "      <td>100.0</td>\n",
       "      <td>102.3433</td>\n",
       "      <td>0.1247</td>\n",
       "      <td>1.4966</td>\n",
       "      <td>...</td>\n",
       "      <td>208.2045</td>\n",
       "      <td>0.5019</td>\n",
       "      <td>0.0223</td>\n",
       "      <td>0.0055</td>\n",
       "      <td>4.4447</td>\n",
       "      <td>0.0096</td>\n",
       "      <td>0.0201</td>\n",
       "      <td>0.0060</td>\n",
       "      <td>208.2045</td>\n",
       "      <td>-1</td>\n",
       "    </tr>\n",
       "    <tr>\n",
       "      <th>2</th>\n",
       "      <td>2008-07-19 13:17:00</td>\n",
       "      <td>2932.61</td>\n",
       "      <td>2559.94</td>\n",
       "      <td>2186.4111</td>\n",
       "      <td>1698.0172</td>\n",
       "      <td>1.5102</td>\n",
       "      <td>100.0</td>\n",
       "      <td>95.4878</td>\n",
       "      <td>0.1241</td>\n",
       "      <td>1.4436</td>\n",
       "      <td>...</td>\n",
       "      <td>82.8602</td>\n",
       "      <td>0.4958</td>\n",
       "      <td>0.0157</td>\n",
       "      <td>0.0039</td>\n",
       "      <td>3.1745</td>\n",
       "      <td>0.0584</td>\n",
       "      <td>0.0484</td>\n",
       "      <td>0.0148</td>\n",
       "      <td>82.8602</td>\n",
       "      <td>1</td>\n",
       "    </tr>\n",
       "    <tr>\n",
       "      <th>3</th>\n",
       "      <td>2008-07-19 14:43:00</td>\n",
       "      <td>2988.72</td>\n",
       "      <td>2479.90</td>\n",
       "      <td>2199.0333</td>\n",
       "      <td>909.7926</td>\n",
       "      <td>1.3204</td>\n",
       "      <td>100.0</td>\n",
       "      <td>104.2367</td>\n",
       "      <td>0.1217</td>\n",
       "      <td>1.4882</td>\n",
       "      <td>...</td>\n",
       "      <td>73.8432</td>\n",
       "      <td>0.4990</td>\n",
       "      <td>0.0103</td>\n",
       "      <td>0.0025</td>\n",
       "      <td>2.0544</td>\n",
       "      <td>0.0202</td>\n",
       "      <td>0.0149</td>\n",
       "      <td>0.0044</td>\n",
       "      <td>73.8432</td>\n",
       "      <td>-1</td>\n",
       "    </tr>\n",
       "    <tr>\n",
       "      <th>4</th>\n",
       "      <td>2008-07-19 15:22:00</td>\n",
       "      <td>3032.24</td>\n",
       "      <td>2502.87</td>\n",
       "      <td>2233.3667</td>\n",
       "      <td>1326.5200</td>\n",
       "      <td>1.5334</td>\n",
       "      <td>100.0</td>\n",
       "      <td>100.3967</td>\n",
       "      <td>0.1235</td>\n",
       "      <td>1.5031</td>\n",
       "      <td>...</td>\n",
       "      <td>NaN</td>\n",
       "      <td>0.4800</td>\n",
       "      <td>0.4766</td>\n",
       "      <td>0.1045</td>\n",
       "      <td>99.3032</td>\n",
       "      <td>0.0202</td>\n",
       "      <td>0.0149</td>\n",
       "      <td>0.0044</td>\n",
       "      <td>73.8432</td>\n",
       "      <td>-1</td>\n",
       "    </tr>\n",
       "  </tbody>\n",
       "</table>\n",
       "<p>5 rows × 592 columns</p>\n",
       "</div>"
      ],
      "text/plain": [
       "                  Time        0        1          2          3       4      5  \\\n",
       "0  2008-07-19 11:55:00  3030.93  2564.00  2187.7333  1411.1265  1.3602  100.0   \n",
       "1  2008-07-19 12:32:00  3095.78  2465.14  2230.4222  1463.6606  0.8294  100.0   \n",
       "2  2008-07-19 13:17:00  2932.61  2559.94  2186.4111  1698.0172  1.5102  100.0   \n",
       "3  2008-07-19 14:43:00  2988.72  2479.90  2199.0333   909.7926  1.3204  100.0   \n",
       "4  2008-07-19 15:22:00  3032.24  2502.87  2233.3667  1326.5200  1.5334  100.0   \n",
       "\n",
       "          6       7       8  ...       581     582     583     584      585  \\\n",
       "0   97.6133  0.1242  1.5005  ...       NaN  0.5005  0.0118  0.0035   2.3630   \n",
       "1  102.3433  0.1247  1.4966  ...  208.2045  0.5019  0.0223  0.0055   4.4447   \n",
       "2   95.4878  0.1241  1.4436  ...   82.8602  0.4958  0.0157  0.0039   3.1745   \n",
       "3  104.2367  0.1217  1.4882  ...   73.8432  0.4990  0.0103  0.0025   2.0544   \n",
       "4  100.3967  0.1235  1.5031  ...       NaN  0.4800  0.4766  0.1045  99.3032   \n",
       "\n",
       "      586     587     588       589  Pass/Fail  \n",
       "0     NaN     NaN     NaN       NaN         -1  \n",
       "1  0.0096  0.0201  0.0060  208.2045         -1  \n",
       "2  0.0584  0.0484  0.0148   82.8602          1  \n",
       "3  0.0202  0.0149  0.0044   73.8432         -1  \n",
       "4  0.0202  0.0149  0.0044   73.8432         -1  \n",
       "\n",
       "[5 rows x 592 columns]"
      ]
     },
     "execution_count": 416,
     "metadata": {},
     "output_type": "execute_result"
    }
   ],
   "source": [
    "df_sig.head()\n",
    "# While checking the dataframe's columns we notice a lot of NaN values"
   ]
  },
  {
   "cell_type": "code",
   "execution_count": 417,
   "metadata": {},
   "outputs": [
    {
     "data": {
      "text/html": [
       "<div>\n",
       "<style scoped>\n",
       "    .dataframe tbody tr th:only-of-type {\n",
       "        vertical-align: middle;\n",
       "    }\n",
       "\n",
       "    .dataframe tbody tr th {\n",
       "        vertical-align: top;\n",
       "    }\n",
       "\n",
       "    .dataframe thead th {\n",
       "        text-align: right;\n",
       "    }\n",
       "</style>\n",
       "<table border=\"1\" class=\"dataframe\">\n",
       "  <thead>\n",
       "    <tr style=\"text-align: right;\">\n",
       "      <th></th>\n",
       "      <th>Time</th>\n",
       "      <th>20</th>\n",
       "      <th>86</th>\n",
       "      <th>87</th>\n",
       "      <th>88</th>\n",
       "      <th>113</th>\n",
       "      <th>114</th>\n",
       "      <th>115</th>\n",
       "      <th>116</th>\n",
       "      <th>117</th>\n",
       "      <th>...</th>\n",
       "      <th>527</th>\n",
       "      <th>570</th>\n",
       "      <th>571</th>\n",
       "      <th>572</th>\n",
       "      <th>573</th>\n",
       "      <th>574</th>\n",
       "      <th>575</th>\n",
       "      <th>576</th>\n",
       "      <th>577</th>\n",
       "      <th>Pass/Fail</th>\n",
       "    </tr>\n",
       "  </thead>\n",
       "  <tbody>\n",
       "    <tr>\n",
       "      <th>0</th>\n",
       "      <td>2008-07-19 11:55:00</td>\n",
       "      <td>1.4026</td>\n",
       "      <td>2.3895</td>\n",
       "      <td>0.9690</td>\n",
       "      <td>1747.6049</td>\n",
       "      <td>0.9460</td>\n",
       "      <td>0.0</td>\n",
       "      <td>748.6115</td>\n",
       "      <td>0.9908</td>\n",
       "      <td>58.4306</td>\n",
       "      <td>...</td>\n",
       "      <td>6.6926</td>\n",
       "      <td>533.8500</td>\n",
       "      <td>2.1113</td>\n",
       "      <td>8.95</td>\n",
       "      <td>0.3157</td>\n",
       "      <td>3.0624</td>\n",
       "      <td>0.1026</td>\n",
       "      <td>1.6765</td>\n",
       "      <td>14.9509</td>\n",
       "      <td>-1</td>\n",
       "    </tr>\n",
       "    <tr>\n",
       "      <th>1</th>\n",
       "      <td>2008-07-19 12:32:00</td>\n",
       "      <td>1.3825</td>\n",
       "      <td>2.3754</td>\n",
       "      <td>0.9894</td>\n",
       "      <td>1931.6464</td>\n",
       "      <td>0.9425</td>\n",
       "      <td>0.0</td>\n",
       "      <td>731.2517</td>\n",
       "      <td>0.9902</td>\n",
       "      <td>58.6680</td>\n",
       "      <td>...</td>\n",
       "      <td>8.8370</td>\n",
       "      <td>535.0164</td>\n",
       "      <td>2.4335</td>\n",
       "      <td>5.92</td>\n",
       "      <td>0.2653</td>\n",
       "      <td>2.0111</td>\n",
       "      <td>0.0772</td>\n",
       "      <td>1.1065</td>\n",
       "      <td>10.9003</td>\n",
       "      <td>-1</td>\n",
       "    </tr>\n",
       "    <tr>\n",
       "      <th>2</th>\n",
       "      <td>2008-07-19 13:17:00</td>\n",
       "      <td>1.4123</td>\n",
       "      <td>2.4532</td>\n",
       "      <td>0.9880</td>\n",
       "      <td>1685.8514</td>\n",
       "      <td>0.9231</td>\n",
       "      <td>0.0</td>\n",
       "      <td>718.5777</td>\n",
       "      <td>0.9899</td>\n",
       "      <td>58.4808</td>\n",
       "      <td>...</td>\n",
       "      <td>6.4568</td>\n",
       "      <td>535.0245</td>\n",
       "      <td>2.0293</td>\n",
       "      <td>11.21</td>\n",
       "      <td>0.1882</td>\n",
       "      <td>4.0923</td>\n",
       "      <td>0.0640</td>\n",
       "      <td>2.0952</td>\n",
       "      <td>9.2721</td>\n",
       "      <td>1</td>\n",
       "    </tr>\n",
       "    <tr>\n",
       "      <th>3</th>\n",
       "      <td>2008-07-19 14:43:00</td>\n",
       "      <td>1.4011</td>\n",
       "      <td>2.4004</td>\n",
       "      <td>0.9904</td>\n",
       "      <td>1752.0968</td>\n",
       "      <td>0.9564</td>\n",
       "      <td>0.0</td>\n",
       "      <td>709.0867</td>\n",
       "      <td>0.9906</td>\n",
       "      <td>58.6635</td>\n",
       "      <td>...</td>\n",
       "      <td>6.4865</td>\n",
       "      <td>530.5682</td>\n",
       "      <td>2.0253</td>\n",
       "      <td>9.33</td>\n",
       "      <td>0.1738</td>\n",
       "      <td>2.8971</td>\n",
       "      <td>0.0525</td>\n",
       "      <td>1.7585</td>\n",
       "      <td>8.5831</td>\n",
       "      <td>-1</td>\n",
       "    </tr>\n",
       "    <tr>\n",
       "      <th>4</th>\n",
       "      <td>2008-07-19 15:22:00</td>\n",
       "      <td>1.3888</td>\n",
       "      <td>2.4530</td>\n",
       "      <td>0.9902</td>\n",
       "      <td>1828.3846</td>\n",
       "      <td>0.9424</td>\n",
       "      <td>0.0</td>\n",
       "      <td>796.5950</td>\n",
       "      <td>0.9908</td>\n",
       "      <td>58.3858</td>\n",
       "      <td>...</td>\n",
       "      <td>6.3745</td>\n",
       "      <td>532.0155</td>\n",
       "      <td>2.0275</td>\n",
       "      <td>8.83</td>\n",
       "      <td>0.2224</td>\n",
       "      <td>3.1776</td>\n",
       "      <td>0.0706</td>\n",
       "      <td>1.6597</td>\n",
       "      <td>10.9698</td>\n",
       "      <td>-1</td>\n",
       "    </tr>\n",
       "    <tr>\n",
       "      <th>...</th>\n",
       "      <td>...</td>\n",
       "      <td>...</td>\n",
       "      <td>...</td>\n",
       "      <td>...</td>\n",
       "      <td>...</td>\n",
       "      <td>...</td>\n",
       "      <td>...</td>\n",
       "      <td>...</td>\n",
       "      <td>...</td>\n",
       "      <td>...</td>\n",
       "      <td>...</td>\n",
       "      <td>...</td>\n",
       "      <td>...</td>\n",
       "      <td>...</td>\n",
       "      <td>...</td>\n",
       "      <td>...</td>\n",
       "      <td>...</td>\n",
       "      <td>...</td>\n",
       "      <td>...</td>\n",
       "      <td>...</td>\n",
       "      <td>...</td>\n",
       "    </tr>\n",
       "    <tr>\n",
       "      <th>1562</th>\n",
       "      <td>2008-10-16 15:13:00</td>\n",
       "      <td>1.4072</td>\n",
       "      <td>2.3762</td>\n",
       "      <td>0.9861</td>\n",
       "      <td>1869.4215</td>\n",
       "      <td>0.9520</td>\n",
       "      <td>0.0</td>\n",
       "      <td>727.6761</td>\n",
       "      <td>0.9894</td>\n",
       "      <td>58.3514</td>\n",
       "      <td>...</td>\n",
       "      <td>2.6649</td>\n",
       "      <td>536.3418</td>\n",
       "      <td>2.0153</td>\n",
       "      <td>7.98</td>\n",
       "      <td>0.2363</td>\n",
       "      <td>2.6401</td>\n",
       "      <td>0.0785</td>\n",
       "      <td>1.4879</td>\n",
       "      <td>11.7256</td>\n",
       "      <td>-1</td>\n",
       "    </tr>\n",
       "    <tr>\n",
       "      <th>1563</th>\n",
       "      <td>2008-10-16 20:49:00</td>\n",
       "      <td>1.3949</td>\n",
       "      <td>2.4880</td>\n",
       "      <td>0.9911</td>\n",
       "      <td>1872.5133</td>\n",
       "      <td>0.9561</td>\n",
       "      <td>0.0</td>\n",
       "      <td>755.7527</td>\n",
       "      <td>0.9899</td>\n",
       "      <td>57.1020</td>\n",
       "      <td>...</td>\n",
       "      <td>6.0192</td>\n",
       "      <td>537.9264</td>\n",
       "      <td>2.1814</td>\n",
       "      <td>5.48</td>\n",
       "      <td>0.3891</td>\n",
       "      <td>1.9077</td>\n",
       "      <td>0.1213</td>\n",
       "      <td>1.0187</td>\n",
       "      <td>17.8379</td>\n",
       "      <td>-1</td>\n",
       "    </tr>\n",
       "    <tr>\n",
       "      <th>1564</th>\n",
       "      <td>2008-10-17 05:26:00</td>\n",
       "      <td>1.4256</td>\n",
       "      <td>2.4590</td>\n",
       "      <td>0.9869</td>\n",
       "      <td>1820.3629</td>\n",
       "      <td>0.9488</td>\n",
       "      <td>0.0</td>\n",
       "      <td>704.2686</td>\n",
       "      <td>0.9891</td>\n",
       "      <td>59.2046</td>\n",
       "      <td>...</td>\n",
       "      <td>5.4641</td>\n",
       "      <td>530.3709</td>\n",
       "      <td>2.3435</td>\n",
       "      <td>6.49</td>\n",
       "      <td>0.4154</td>\n",
       "      <td>2.1760</td>\n",
       "      <td>0.1352</td>\n",
       "      <td>1.2237</td>\n",
       "      <td>17.7267</td>\n",
       "      <td>-1</td>\n",
       "    </tr>\n",
       "    <tr>\n",
       "      <th>1565</th>\n",
       "      <td>2008-10-17 06:01:00</td>\n",
       "      <td>1.3868</td>\n",
       "      <td>2.3600</td>\n",
       "      <td>0.9796</td>\n",
       "      <td>1627.4714</td>\n",
       "      <td>0.9485</td>\n",
       "      <td>0.0</td>\n",
       "      <td>605.6190</td>\n",
       "      <td>0.9896</td>\n",
       "      <td>58.2686</td>\n",
       "      <td>...</td>\n",
       "      <td>6.5512</td>\n",
       "      <td>534.3936</td>\n",
       "      <td>1.9098</td>\n",
       "      <td>9.13</td>\n",
       "      <td>0.3669</td>\n",
       "      <td>3.2524</td>\n",
       "      <td>0.1040</td>\n",
       "      <td>1.7085</td>\n",
       "      <td>19.2104</td>\n",
       "      <td>-1</td>\n",
       "    </tr>\n",
       "    <tr>\n",
       "      <th>1566</th>\n",
       "      <td>2008-10-17 06:07:00</td>\n",
       "      <td>1.4048</td>\n",
       "      <td>2.3701</td>\n",
       "      <td>0.9758</td>\n",
       "      <td>1759.9908</td>\n",
       "      <td>0.9432</td>\n",
       "      <td>0.0</td>\n",
       "      <td>683.5622</td>\n",
       "      <td>0.9893</td>\n",
       "      <td>59.8578</td>\n",
       "      <td>...</td>\n",
       "      <td>4.1651</td>\n",
       "      <td>528.7918</td>\n",
       "      <td>2.0831</td>\n",
       "      <td>6.81</td>\n",
       "      <td>0.4774</td>\n",
       "      <td>2.2727</td>\n",
       "      <td>0.1495</td>\n",
       "      <td>1.2878</td>\n",
       "      <td>22.9183</td>\n",
       "      <td>-1</td>\n",
       "    </tr>\n",
       "  </tbody>\n",
       "</table>\n",
       "<p>1567 rows × 54 columns</p>\n",
       "</div>"
      ],
      "text/plain": [
       "                     Time      20      86      87         88     113  114  \\\n",
       "0     2008-07-19 11:55:00  1.4026  2.3895  0.9690  1747.6049  0.9460  0.0   \n",
       "1     2008-07-19 12:32:00  1.3825  2.3754  0.9894  1931.6464  0.9425  0.0   \n",
       "2     2008-07-19 13:17:00  1.4123  2.4532  0.9880  1685.8514  0.9231  0.0   \n",
       "3     2008-07-19 14:43:00  1.4011  2.4004  0.9904  1752.0968  0.9564  0.0   \n",
       "4     2008-07-19 15:22:00  1.3888  2.4530  0.9902  1828.3846  0.9424  0.0   \n",
       "...                   ...     ...     ...     ...        ...     ...  ...   \n",
       "1562  2008-10-16 15:13:00  1.4072  2.3762  0.9861  1869.4215  0.9520  0.0   \n",
       "1563  2008-10-16 20:49:00  1.3949  2.4880  0.9911  1872.5133  0.9561  0.0   \n",
       "1564  2008-10-17 05:26:00  1.4256  2.4590  0.9869  1820.3629  0.9488  0.0   \n",
       "1565  2008-10-17 06:01:00  1.3868  2.3600  0.9796  1627.4714  0.9485  0.0   \n",
       "1566  2008-10-17 06:07:00  1.4048  2.3701  0.9758  1759.9908  0.9432  0.0   \n",
       "\n",
       "           115     116      117  ...     527       570     571    572     573  \\\n",
       "0     748.6115  0.9908  58.4306  ...  6.6926  533.8500  2.1113   8.95  0.3157   \n",
       "1     731.2517  0.9902  58.6680  ...  8.8370  535.0164  2.4335   5.92  0.2653   \n",
       "2     718.5777  0.9899  58.4808  ...  6.4568  535.0245  2.0293  11.21  0.1882   \n",
       "3     709.0867  0.9906  58.6635  ...  6.4865  530.5682  2.0253   9.33  0.1738   \n",
       "4     796.5950  0.9908  58.3858  ...  6.3745  532.0155  2.0275   8.83  0.2224   \n",
       "...        ...     ...      ...  ...     ...       ...     ...    ...     ...   \n",
       "1562  727.6761  0.9894  58.3514  ...  2.6649  536.3418  2.0153   7.98  0.2363   \n",
       "1563  755.7527  0.9899  57.1020  ...  6.0192  537.9264  2.1814   5.48  0.3891   \n",
       "1564  704.2686  0.9891  59.2046  ...  5.4641  530.3709  2.3435   6.49  0.4154   \n",
       "1565  605.6190  0.9896  58.2686  ...  6.5512  534.3936  1.9098   9.13  0.3669   \n",
       "1566  683.5622  0.9893  59.8578  ...  4.1651  528.7918  2.0831   6.81  0.4774   \n",
       "\n",
       "         574     575     576      577  Pass/Fail  \n",
       "0     3.0624  0.1026  1.6765  14.9509         -1  \n",
       "1     2.0111  0.0772  1.1065  10.9003         -1  \n",
       "2     4.0923  0.0640  2.0952   9.2721          1  \n",
       "3     2.8971  0.0525  1.7585   8.5831         -1  \n",
       "4     3.1776  0.0706  1.6597  10.9698         -1  \n",
       "...      ...     ...     ...      ...        ...  \n",
       "1562  2.6401  0.0785  1.4879  11.7256         -1  \n",
       "1563  1.9077  0.1213  1.0187  17.8379         -1  \n",
       "1564  2.1760  0.1352  1.2237  17.7267         -1  \n",
       "1565  3.2524  0.1040  1.7085  19.2104         -1  \n",
       "1566  2.2727  0.1495  1.2878  22.9183         -1  \n",
       "\n",
       "[1567 rows x 54 columns]"
      ]
     },
     "execution_count": 417,
     "metadata": {},
     "output_type": "execute_result"
    }
   ],
   "source": [
    "df_sig.dropna(axis=1)\n",
    "# We try dropping the columns that have NaN and notice that only 54 columns are left, we cannot afford to lose 538 columns"
   ]
  },
  {
   "cell_type": "markdown",
   "metadata": {},
   "source": [
    "### Target column “ –1” corresponds to a pass and “1” corresponds to a fail and the data time stamp is for that specific test point.\n",
    "\n",
    "### We convert the target Pass from \"-1\" to \"1\" and Fail from \"1\" to \"0\" as the system can understand the binary categorical values better than normal binary values.\n",
    "\n",
    "### Also the global way of treating  Pass is with 1 and fail is with 0"
   ]
  },
  {
   "cell_type": "code",
   "execution_count": 161,
   "metadata": {},
   "outputs": [],
   "source": [
    "df_sig['Pass/Fail'].replace({1:0,-1:1},inplace=True)"
   ]
  },
  {
   "cell_type": "code",
   "execution_count": 162,
   "metadata": {},
   "outputs": [
    {
     "data": {
      "text/html": [
       "<div>\n",
       "<style scoped>\n",
       "    .dataframe tbody tr th:only-of-type {\n",
       "        vertical-align: middle;\n",
       "    }\n",
       "\n",
       "    .dataframe tbody tr th {\n",
       "        vertical-align: top;\n",
       "    }\n",
       "\n",
       "    .dataframe thead th {\n",
       "        text-align: right;\n",
       "    }\n",
       "</style>\n",
       "<table border=\"1\" class=\"dataframe\">\n",
       "  <thead>\n",
       "    <tr style=\"text-align: right;\">\n",
       "      <th></th>\n",
       "      <th>Time</th>\n",
       "      <th>0</th>\n",
       "      <th>1</th>\n",
       "      <th>2</th>\n",
       "      <th>3</th>\n",
       "      <th>4</th>\n",
       "      <th>5</th>\n",
       "      <th>6</th>\n",
       "      <th>7</th>\n",
       "      <th>8</th>\n",
       "      <th>...</th>\n",
       "      <th>581</th>\n",
       "      <th>582</th>\n",
       "      <th>583</th>\n",
       "      <th>584</th>\n",
       "      <th>585</th>\n",
       "      <th>586</th>\n",
       "      <th>587</th>\n",
       "      <th>588</th>\n",
       "      <th>589</th>\n",
       "      <th>Pass/Fail</th>\n",
       "    </tr>\n",
       "  </thead>\n",
       "  <tbody>\n",
       "    <tr>\n",
       "      <th>0</th>\n",
       "      <td>2008-07-19 11:55:00</td>\n",
       "      <td>3030.93</td>\n",
       "      <td>2564.00</td>\n",
       "      <td>2187.7333</td>\n",
       "      <td>1411.1265</td>\n",
       "      <td>1.3602</td>\n",
       "      <td>100.0</td>\n",
       "      <td>97.6133</td>\n",
       "      <td>0.1242</td>\n",
       "      <td>1.5005</td>\n",
       "      <td>...</td>\n",
       "      <td>NaN</td>\n",
       "      <td>0.5005</td>\n",
       "      <td>0.0118</td>\n",
       "      <td>0.0035</td>\n",
       "      <td>2.3630</td>\n",
       "      <td>NaN</td>\n",
       "      <td>NaN</td>\n",
       "      <td>NaN</td>\n",
       "      <td>NaN</td>\n",
       "      <td>1</td>\n",
       "    </tr>\n",
       "    <tr>\n",
       "      <th>1</th>\n",
       "      <td>2008-07-19 12:32:00</td>\n",
       "      <td>3095.78</td>\n",
       "      <td>2465.14</td>\n",
       "      <td>2230.4222</td>\n",
       "      <td>1463.6606</td>\n",
       "      <td>0.8294</td>\n",
       "      <td>100.0</td>\n",
       "      <td>102.3433</td>\n",
       "      <td>0.1247</td>\n",
       "      <td>1.4966</td>\n",
       "      <td>...</td>\n",
       "      <td>208.2045</td>\n",
       "      <td>0.5019</td>\n",
       "      <td>0.0223</td>\n",
       "      <td>0.0055</td>\n",
       "      <td>4.4447</td>\n",
       "      <td>0.0096</td>\n",
       "      <td>0.0201</td>\n",
       "      <td>0.0060</td>\n",
       "      <td>208.2045</td>\n",
       "      <td>1</td>\n",
       "    </tr>\n",
       "    <tr>\n",
       "      <th>2</th>\n",
       "      <td>2008-07-19 13:17:00</td>\n",
       "      <td>2932.61</td>\n",
       "      <td>2559.94</td>\n",
       "      <td>2186.4111</td>\n",
       "      <td>1698.0172</td>\n",
       "      <td>1.5102</td>\n",
       "      <td>100.0</td>\n",
       "      <td>95.4878</td>\n",
       "      <td>0.1241</td>\n",
       "      <td>1.4436</td>\n",
       "      <td>...</td>\n",
       "      <td>82.8602</td>\n",
       "      <td>0.4958</td>\n",
       "      <td>0.0157</td>\n",
       "      <td>0.0039</td>\n",
       "      <td>3.1745</td>\n",
       "      <td>0.0584</td>\n",
       "      <td>0.0484</td>\n",
       "      <td>0.0148</td>\n",
       "      <td>82.8602</td>\n",
       "      <td>0</td>\n",
       "    </tr>\n",
       "    <tr>\n",
       "      <th>3</th>\n",
       "      <td>2008-07-19 14:43:00</td>\n",
       "      <td>2988.72</td>\n",
       "      <td>2479.90</td>\n",
       "      <td>2199.0333</td>\n",
       "      <td>909.7926</td>\n",
       "      <td>1.3204</td>\n",
       "      <td>100.0</td>\n",
       "      <td>104.2367</td>\n",
       "      <td>0.1217</td>\n",
       "      <td>1.4882</td>\n",
       "      <td>...</td>\n",
       "      <td>73.8432</td>\n",
       "      <td>0.4990</td>\n",
       "      <td>0.0103</td>\n",
       "      <td>0.0025</td>\n",
       "      <td>2.0544</td>\n",
       "      <td>0.0202</td>\n",
       "      <td>0.0149</td>\n",
       "      <td>0.0044</td>\n",
       "      <td>73.8432</td>\n",
       "      <td>1</td>\n",
       "    </tr>\n",
       "    <tr>\n",
       "      <th>4</th>\n",
       "      <td>2008-07-19 15:22:00</td>\n",
       "      <td>3032.24</td>\n",
       "      <td>2502.87</td>\n",
       "      <td>2233.3667</td>\n",
       "      <td>1326.5200</td>\n",
       "      <td>1.5334</td>\n",
       "      <td>100.0</td>\n",
       "      <td>100.3967</td>\n",
       "      <td>0.1235</td>\n",
       "      <td>1.5031</td>\n",
       "      <td>...</td>\n",
       "      <td>NaN</td>\n",
       "      <td>0.4800</td>\n",
       "      <td>0.4766</td>\n",
       "      <td>0.1045</td>\n",
       "      <td>99.3032</td>\n",
       "      <td>0.0202</td>\n",
       "      <td>0.0149</td>\n",
       "      <td>0.0044</td>\n",
       "      <td>73.8432</td>\n",
       "      <td>1</td>\n",
       "    </tr>\n",
       "    <tr>\n",
       "      <th>...</th>\n",
       "      <td>...</td>\n",
       "      <td>...</td>\n",
       "      <td>...</td>\n",
       "      <td>...</td>\n",
       "      <td>...</td>\n",
       "      <td>...</td>\n",
       "      <td>...</td>\n",
       "      <td>...</td>\n",
       "      <td>...</td>\n",
       "      <td>...</td>\n",
       "      <td>...</td>\n",
       "      <td>...</td>\n",
       "      <td>...</td>\n",
       "      <td>...</td>\n",
       "      <td>...</td>\n",
       "      <td>...</td>\n",
       "      <td>...</td>\n",
       "      <td>...</td>\n",
       "      <td>...</td>\n",
       "      <td>...</td>\n",
       "      <td>...</td>\n",
       "    </tr>\n",
       "    <tr>\n",
       "      <th>1562</th>\n",
       "      <td>2008-10-16 15:13:00</td>\n",
       "      <td>2899.41</td>\n",
       "      <td>2464.36</td>\n",
       "      <td>2179.7333</td>\n",
       "      <td>3085.3781</td>\n",
       "      <td>1.4843</td>\n",
       "      <td>100.0</td>\n",
       "      <td>82.2467</td>\n",
       "      <td>0.1248</td>\n",
       "      <td>1.3424</td>\n",
       "      <td>...</td>\n",
       "      <td>203.1720</td>\n",
       "      <td>0.4988</td>\n",
       "      <td>0.0143</td>\n",
       "      <td>0.0039</td>\n",
       "      <td>2.8669</td>\n",
       "      <td>0.0068</td>\n",
       "      <td>0.0138</td>\n",
       "      <td>0.0047</td>\n",
       "      <td>203.1720</td>\n",
       "      <td>1</td>\n",
       "    </tr>\n",
       "    <tr>\n",
       "      <th>1563</th>\n",
       "      <td>2008-10-16 20:49:00</td>\n",
       "      <td>3052.31</td>\n",
       "      <td>2522.55</td>\n",
       "      <td>2198.5667</td>\n",
       "      <td>1124.6595</td>\n",
       "      <td>0.8763</td>\n",
       "      <td>100.0</td>\n",
       "      <td>98.4689</td>\n",
       "      <td>0.1205</td>\n",
       "      <td>1.4333</td>\n",
       "      <td>...</td>\n",
       "      <td>NaN</td>\n",
       "      <td>0.4975</td>\n",
       "      <td>0.0131</td>\n",
       "      <td>0.0036</td>\n",
       "      <td>2.6238</td>\n",
       "      <td>0.0068</td>\n",
       "      <td>0.0138</td>\n",
       "      <td>0.0047</td>\n",
       "      <td>203.1720</td>\n",
       "      <td>1</td>\n",
       "    </tr>\n",
       "    <tr>\n",
       "      <th>1564</th>\n",
       "      <td>2008-10-17 05:26:00</td>\n",
       "      <td>2978.81</td>\n",
       "      <td>2379.78</td>\n",
       "      <td>2206.3000</td>\n",
       "      <td>1110.4967</td>\n",
       "      <td>0.8236</td>\n",
       "      <td>100.0</td>\n",
       "      <td>99.4122</td>\n",
       "      <td>0.1208</td>\n",
       "      <td>NaN</td>\n",
       "      <td>...</td>\n",
       "      <td>43.5231</td>\n",
       "      <td>0.4987</td>\n",
       "      <td>0.0153</td>\n",
       "      <td>0.0041</td>\n",
       "      <td>3.0590</td>\n",
       "      <td>0.0197</td>\n",
       "      <td>0.0086</td>\n",
       "      <td>0.0025</td>\n",
       "      <td>43.5231</td>\n",
       "      <td>1</td>\n",
       "    </tr>\n",
       "    <tr>\n",
       "      <th>1565</th>\n",
       "      <td>2008-10-17 06:01:00</td>\n",
       "      <td>2894.92</td>\n",
       "      <td>2532.01</td>\n",
       "      <td>2177.0333</td>\n",
       "      <td>1183.7287</td>\n",
       "      <td>1.5726</td>\n",
       "      <td>100.0</td>\n",
       "      <td>98.7978</td>\n",
       "      <td>0.1213</td>\n",
       "      <td>1.4622</td>\n",
       "      <td>...</td>\n",
       "      <td>93.4941</td>\n",
       "      <td>0.5004</td>\n",
       "      <td>0.0178</td>\n",
       "      <td>0.0038</td>\n",
       "      <td>3.5662</td>\n",
       "      <td>0.0262</td>\n",
       "      <td>0.0245</td>\n",
       "      <td>0.0075</td>\n",
       "      <td>93.4941</td>\n",
       "      <td>1</td>\n",
       "    </tr>\n",
       "    <tr>\n",
       "      <th>1566</th>\n",
       "      <td>2008-10-17 06:07:00</td>\n",
       "      <td>2944.92</td>\n",
       "      <td>2450.76</td>\n",
       "      <td>2195.4444</td>\n",
       "      <td>2914.1792</td>\n",
       "      <td>1.5978</td>\n",
       "      <td>100.0</td>\n",
       "      <td>85.1011</td>\n",
       "      <td>0.1235</td>\n",
       "      <td>NaN</td>\n",
       "      <td>...</td>\n",
       "      <td>137.7844</td>\n",
       "      <td>0.4987</td>\n",
       "      <td>0.0181</td>\n",
       "      <td>0.0040</td>\n",
       "      <td>3.6275</td>\n",
       "      <td>0.0117</td>\n",
       "      <td>0.0162</td>\n",
       "      <td>0.0045</td>\n",
       "      <td>137.7844</td>\n",
       "      <td>1</td>\n",
       "    </tr>\n",
       "  </tbody>\n",
       "</table>\n",
       "<p>1567 rows × 592 columns</p>\n",
       "</div>"
      ],
      "text/plain": [
       "                     Time        0        1          2          3       4  \\\n",
       "0     2008-07-19 11:55:00  3030.93  2564.00  2187.7333  1411.1265  1.3602   \n",
       "1     2008-07-19 12:32:00  3095.78  2465.14  2230.4222  1463.6606  0.8294   \n",
       "2     2008-07-19 13:17:00  2932.61  2559.94  2186.4111  1698.0172  1.5102   \n",
       "3     2008-07-19 14:43:00  2988.72  2479.90  2199.0333   909.7926  1.3204   \n",
       "4     2008-07-19 15:22:00  3032.24  2502.87  2233.3667  1326.5200  1.5334   \n",
       "...                   ...      ...      ...        ...        ...     ...   \n",
       "1562  2008-10-16 15:13:00  2899.41  2464.36  2179.7333  3085.3781  1.4843   \n",
       "1563  2008-10-16 20:49:00  3052.31  2522.55  2198.5667  1124.6595  0.8763   \n",
       "1564  2008-10-17 05:26:00  2978.81  2379.78  2206.3000  1110.4967  0.8236   \n",
       "1565  2008-10-17 06:01:00  2894.92  2532.01  2177.0333  1183.7287  1.5726   \n",
       "1566  2008-10-17 06:07:00  2944.92  2450.76  2195.4444  2914.1792  1.5978   \n",
       "\n",
       "          5         6       7       8  ...       581     582     583     584  \\\n",
       "0     100.0   97.6133  0.1242  1.5005  ...       NaN  0.5005  0.0118  0.0035   \n",
       "1     100.0  102.3433  0.1247  1.4966  ...  208.2045  0.5019  0.0223  0.0055   \n",
       "2     100.0   95.4878  0.1241  1.4436  ...   82.8602  0.4958  0.0157  0.0039   \n",
       "3     100.0  104.2367  0.1217  1.4882  ...   73.8432  0.4990  0.0103  0.0025   \n",
       "4     100.0  100.3967  0.1235  1.5031  ...       NaN  0.4800  0.4766  0.1045   \n",
       "...     ...       ...     ...     ...  ...       ...     ...     ...     ...   \n",
       "1562  100.0   82.2467  0.1248  1.3424  ...  203.1720  0.4988  0.0143  0.0039   \n",
       "1563  100.0   98.4689  0.1205  1.4333  ...       NaN  0.4975  0.0131  0.0036   \n",
       "1564  100.0   99.4122  0.1208     NaN  ...   43.5231  0.4987  0.0153  0.0041   \n",
       "1565  100.0   98.7978  0.1213  1.4622  ...   93.4941  0.5004  0.0178  0.0038   \n",
       "1566  100.0   85.1011  0.1235     NaN  ...  137.7844  0.4987  0.0181  0.0040   \n",
       "\n",
       "          585     586     587     588       589  Pass/Fail  \n",
       "0      2.3630     NaN     NaN     NaN       NaN          1  \n",
       "1      4.4447  0.0096  0.0201  0.0060  208.2045          1  \n",
       "2      3.1745  0.0584  0.0484  0.0148   82.8602          0  \n",
       "3      2.0544  0.0202  0.0149  0.0044   73.8432          1  \n",
       "4     99.3032  0.0202  0.0149  0.0044   73.8432          1  \n",
       "...       ...     ...     ...     ...       ...        ...  \n",
       "1562   2.8669  0.0068  0.0138  0.0047  203.1720          1  \n",
       "1563   2.6238  0.0068  0.0138  0.0047  203.1720          1  \n",
       "1564   3.0590  0.0197  0.0086  0.0025   43.5231          1  \n",
       "1565   3.5662  0.0262  0.0245  0.0075   93.4941          1  \n",
       "1566   3.6275  0.0117  0.0162  0.0045  137.7844          1  \n",
       "\n",
       "[1567 rows x 592 columns]"
      ]
     },
     "execution_count": 162,
     "metadata": {},
     "output_type": "execute_result"
    }
   ],
   "source": [
    "df_sig"
   ]
  },
  {
   "cell_type": "markdown",
   "metadata": {},
   "source": [
    "# 2. Data cleansing:\n",
    "### • Missing value treatment.\n",
    "#### We notice that 1567 rows of data, we will see the number of missing values in each column"
   ]
  },
  {
   "cell_type": "code",
   "execution_count": 163,
   "metadata": {},
   "outputs": [],
   "source": [
    "Missing_values_percentage = []\n",
    "Missing_value_count = []\n",
    "for a,b in zip(df_sig.isnull().sum(),df_sig.columns):\n",
    "    percentage = (a/df_sig[b].count())\n",
    "    if a > 100:\n",
    "        df_sig.drop(b,axis=1,inplace=True)\n",
    "    else:\n",
    "        pass \n",
    "    \n",
    "# We notice that 52 columns have missing values that is greater than 100 NaN so we drop them using a function as filling\n",
    "# these columns will lead to change in data distributions.\n",
    "\n",
    "# we have 1567 rows of data, missing 100 rows is 6.3% of data and filling this 6.3% or more data will affect the \n",
    "# guassian distribution of original dataset."
   ]
  },
  {
   "cell_type": "code",
   "execution_count": 164,
   "metadata": {},
   "outputs": [
    {
     "data": {
      "text/html": [
       "<div>\n",
       "<style scoped>\n",
       "    .dataframe tbody tr th:only-of-type {\n",
       "        vertical-align: middle;\n",
       "    }\n",
       "\n",
       "    .dataframe tbody tr th {\n",
       "        vertical-align: top;\n",
       "    }\n",
       "\n",
       "    .dataframe thead th {\n",
       "        text-align: right;\n",
       "    }\n",
       "</style>\n",
       "<table border=\"1\" class=\"dataframe\">\n",
       "  <thead>\n",
       "    <tr style=\"text-align: right;\">\n",
       "      <th></th>\n",
       "      <th>Time</th>\n",
       "      <th>0</th>\n",
       "      <th>1</th>\n",
       "      <th>2</th>\n",
       "      <th>3</th>\n",
       "      <th>4</th>\n",
       "      <th>5</th>\n",
       "      <th>6</th>\n",
       "      <th>7</th>\n",
       "      <th>8</th>\n",
       "      <th>...</th>\n",
       "      <th>577</th>\n",
       "      <th>582</th>\n",
       "      <th>583</th>\n",
       "      <th>584</th>\n",
       "      <th>585</th>\n",
       "      <th>586</th>\n",
       "      <th>587</th>\n",
       "      <th>588</th>\n",
       "      <th>589</th>\n",
       "      <th>Pass/Fail</th>\n",
       "    </tr>\n",
       "  </thead>\n",
       "  <tbody>\n",
       "    <tr>\n",
       "      <th>0</th>\n",
       "      <td>2008-07-19 11:55:00</td>\n",
       "      <td>3030.93</td>\n",
       "      <td>2564.00</td>\n",
       "      <td>2187.7333</td>\n",
       "      <td>1411.1265</td>\n",
       "      <td>1.3602</td>\n",
       "      <td>100.0</td>\n",
       "      <td>97.6133</td>\n",
       "      <td>0.1242</td>\n",
       "      <td>1.5005</td>\n",
       "      <td>...</td>\n",
       "      <td>14.9509</td>\n",
       "      <td>0.5005</td>\n",
       "      <td>0.0118</td>\n",
       "      <td>0.0035</td>\n",
       "      <td>2.3630</td>\n",
       "      <td>NaN</td>\n",
       "      <td>NaN</td>\n",
       "      <td>NaN</td>\n",
       "      <td>NaN</td>\n",
       "      <td>1</td>\n",
       "    </tr>\n",
       "    <tr>\n",
       "      <th>1</th>\n",
       "      <td>2008-07-19 12:32:00</td>\n",
       "      <td>3095.78</td>\n",
       "      <td>2465.14</td>\n",
       "      <td>2230.4222</td>\n",
       "      <td>1463.6606</td>\n",
       "      <td>0.8294</td>\n",
       "      <td>100.0</td>\n",
       "      <td>102.3433</td>\n",
       "      <td>0.1247</td>\n",
       "      <td>1.4966</td>\n",
       "      <td>...</td>\n",
       "      <td>10.9003</td>\n",
       "      <td>0.5019</td>\n",
       "      <td>0.0223</td>\n",
       "      <td>0.0055</td>\n",
       "      <td>4.4447</td>\n",
       "      <td>0.0096</td>\n",
       "      <td>0.0201</td>\n",
       "      <td>0.0060</td>\n",
       "      <td>208.2045</td>\n",
       "      <td>1</td>\n",
       "    </tr>\n",
       "    <tr>\n",
       "      <th>2</th>\n",
       "      <td>2008-07-19 13:17:00</td>\n",
       "      <td>2932.61</td>\n",
       "      <td>2559.94</td>\n",
       "      <td>2186.4111</td>\n",
       "      <td>1698.0172</td>\n",
       "      <td>1.5102</td>\n",
       "      <td>100.0</td>\n",
       "      <td>95.4878</td>\n",
       "      <td>0.1241</td>\n",
       "      <td>1.4436</td>\n",
       "      <td>...</td>\n",
       "      <td>9.2721</td>\n",
       "      <td>0.4958</td>\n",
       "      <td>0.0157</td>\n",
       "      <td>0.0039</td>\n",
       "      <td>3.1745</td>\n",
       "      <td>0.0584</td>\n",
       "      <td>0.0484</td>\n",
       "      <td>0.0148</td>\n",
       "      <td>82.8602</td>\n",
       "      <td>0</td>\n",
       "    </tr>\n",
       "    <tr>\n",
       "      <th>3</th>\n",
       "      <td>2008-07-19 14:43:00</td>\n",
       "      <td>2988.72</td>\n",
       "      <td>2479.90</td>\n",
       "      <td>2199.0333</td>\n",
       "      <td>909.7926</td>\n",
       "      <td>1.3204</td>\n",
       "      <td>100.0</td>\n",
       "      <td>104.2367</td>\n",
       "      <td>0.1217</td>\n",
       "      <td>1.4882</td>\n",
       "      <td>...</td>\n",
       "      <td>8.5831</td>\n",
       "      <td>0.4990</td>\n",
       "      <td>0.0103</td>\n",
       "      <td>0.0025</td>\n",
       "      <td>2.0544</td>\n",
       "      <td>0.0202</td>\n",
       "      <td>0.0149</td>\n",
       "      <td>0.0044</td>\n",
       "      <td>73.8432</td>\n",
       "      <td>1</td>\n",
       "    </tr>\n",
       "    <tr>\n",
       "      <th>4</th>\n",
       "      <td>2008-07-19 15:22:00</td>\n",
       "      <td>3032.24</td>\n",
       "      <td>2502.87</td>\n",
       "      <td>2233.3667</td>\n",
       "      <td>1326.5200</td>\n",
       "      <td>1.5334</td>\n",
       "      <td>100.0</td>\n",
       "      <td>100.3967</td>\n",
       "      <td>0.1235</td>\n",
       "      <td>1.5031</td>\n",
       "      <td>...</td>\n",
       "      <td>10.9698</td>\n",
       "      <td>0.4800</td>\n",
       "      <td>0.4766</td>\n",
       "      <td>0.1045</td>\n",
       "      <td>99.3032</td>\n",
       "      <td>0.0202</td>\n",
       "      <td>0.0149</td>\n",
       "      <td>0.0044</td>\n",
       "      <td>73.8432</td>\n",
       "      <td>1</td>\n",
       "    </tr>\n",
       "    <tr>\n",
       "      <th>...</th>\n",
       "      <td>...</td>\n",
       "      <td>...</td>\n",
       "      <td>...</td>\n",
       "      <td>...</td>\n",
       "      <td>...</td>\n",
       "      <td>...</td>\n",
       "      <td>...</td>\n",
       "      <td>...</td>\n",
       "      <td>...</td>\n",
       "      <td>...</td>\n",
       "      <td>...</td>\n",
       "      <td>...</td>\n",
       "      <td>...</td>\n",
       "      <td>...</td>\n",
       "      <td>...</td>\n",
       "      <td>...</td>\n",
       "      <td>...</td>\n",
       "      <td>...</td>\n",
       "      <td>...</td>\n",
       "      <td>...</td>\n",
       "      <td>...</td>\n",
       "    </tr>\n",
       "    <tr>\n",
       "      <th>1562</th>\n",
       "      <td>2008-10-16 15:13:00</td>\n",
       "      <td>2899.41</td>\n",
       "      <td>2464.36</td>\n",
       "      <td>2179.7333</td>\n",
       "      <td>3085.3781</td>\n",
       "      <td>1.4843</td>\n",
       "      <td>100.0</td>\n",
       "      <td>82.2467</td>\n",
       "      <td>0.1248</td>\n",
       "      <td>1.3424</td>\n",
       "      <td>...</td>\n",
       "      <td>11.7256</td>\n",
       "      <td>0.4988</td>\n",
       "      <td>0.0143</td>\n",
       "      <td>0.0039</td>\n",
       "      <td>2.8669</td>\n",
       "      <td>0.0068</td>\n",
       "      <td>0.0138</td>\n",
       "      <td>0.0047</td>\n",
       "      <td>203.1720</td>\n",
       "      <td>1</td>\n",
       "    </tr>\n",
       "    <tr>\n",
       "      <th>1563</th>\n",
       "      <td>2008-10-16 20:49:00</td>\n",
       "      <td>3052.31</td>\n",
       "      <td>2522.55</td>\n",
       "      <td>2198.5667</td>\n",
       "      <td>1124.6595</td>\n",
       "      <td>0.8763</td>\n",
       "      <td>100.0</td>\n",
       "      <td>98.4689</td>\n",
       "      <td>0.1205</td>\n",
       "      <td>1.4333</td>\n",
       "      <td>...</td>\n",
       "      <td>17.8379</td>\n",
       "      <td>0.4975</td>\n",
       "      <td>0.0131</td>\n",
       "      <td>0.0036</td>\n",
       "      <td>2.6238</td>\n",
       "      <td>0.0068</td>\n",
       "      <td>0.0138</td>\n",
       "      <td>0.0047</td>\n",
       "      <td>203.1720</td>\n",
       "      <td>1</td>\n",
       "    </tr>\n",
       "    <tr>\n",
       "      <th>1564</th>\n",
       "      <td>2008-10-17 05:26:00</td>\n",
       "      <td>2978.81</td>\n",
       "      <td>2379.78</td>\n",
       "      <td>2206.3000</td>\n",
       "      <td>1110.4967</td>\n",
       "      <td>0.8236</td>\n",
       "      <td>100.0</td>\n",
       "      <td>99.4122</td>\n",
       "      <td>0.1208</td>\n",
       "      <td>NaN</td>\n",
       "      <td>...</td>\n",
       "      <td>17.7267</td>\n",
       "      <td>0.4987</td>\n",
       "      <td>0.0153</td>\n",
       "      <td>0.0041</td>\n",
       "      <td>3.0590</td>\n",
       "      <td>0.0197</td>\n",
       "      <td>0.0086</td>\n",
       "      <td>0.0025</td>\n",
       "      <td>43.5231</td>\n",
       "      <td>1</td>\n",
       "    </tr>\n",
       "    <tr>\n",
       "      <th>1565</th>\n",
       "      <td>2008-10-17 06:01:00</td>\n",
       "      <td>2894.92</td>\n",
       "      <td>2532.01</td>\n",
       "      <td>2177.0333</td>\n",
       "      <td>1183.7287</td>\n",
       "      <td>1.5726</td>\n",
       "      <td>100.0</td>\n",
       "      <td>98.7978</td>\n",
       "      <td>0.1213</td>\n",
       "      <td>1.4622</td>\n",
       "      <td>...</td>\n",
       "      <td>19.2104</td>\n",
       "      <td>0.5004</td>\n",
       "      <td>0.0178</td>\n",
       "      <td>0.0038</td>\n",
       "      <td>3.5662</td>\n",
       "      <td>0.0262</td>\n",
       "      <td>0.0245</td>\n",
       "      <td>0.0075</td>\n",
       "      <td>93.4941</td>\n",
       "      <td>1</td>\n",
       "    </tr>\n",
       "    <tr>\n",
       "      <th>1566</th>\n",
       "      <td>2008-10-17 06:07:00</td>\n",
       "      <td>2944.92</td>\n",
       "      <td>2450.76</td>\n",
       "      <td>2195.4444</td>\n",
       "      <td>2914.1792</td>\n",
       "      <td>1.5978</td>\n",
       "      <td>100.0</td>\n",
       "      <td>85.1011</td>\n",
       "      <td>0.1235</td>\n",
       "      <td>NaN</td>\n",
       "      <td>...</td>\n",
       "      <td>22.9183</td>\n",
       "      <td>0.4987</td>\n",
       "      <td>0.0181</td>\n",
       "      <td>0.0040</td>\n",
       "      <td>3.6275</td>\n",
       "      <td>0.0117</td>\n",
       "      <td>0.0162</td>\n",
       "      <td>0.0045</td>\n",
       "      <td>137.7844</td>\n",
       "      <td>1</td>\n",
       "    </tr>\n",
       "  </tbody>\n",
       "</table>\n",
       "<p>1567 rows × 540 columns</p>\n",
       "</div>"
      ],
      "text/plain": [
       "                     Time        0        1          2          3       4  \\\n",
       "0     2008-07-19 11:55:00  3030.93  2564.00  2187.7333  1411.1265  1.3602   \n",
       "1     2008-07-19 12:32:00  3095.78  2465.14  2230.4222  1463.6606  0.8294   \n",
       "2     2008-07-19 13:17:00  2932.61  2559.94  2186.4111  1698.0172  1.5102   \n",
       "3     2008-07-19 14:43:00  2988.72  2479.90  2199.0333   909.7926  1.3204   \n",
       "4     2008-07-19 15:22:00  3032.24  2502.87  2233.3667  1326.5200  1.5334   \n",
       "...                   ...      ...      ...        ...        ...     ...   \n",
       "1562  2008-10-16 15:13:00  2899.41  2464.36  2179.7333  3085.3781  1.4843   \n",
       "1563  2008-10-16 20:49:00  3052.31  2522.55  2198.5667  1124.6595  0.8763   \n",
       "1564  2008-10-17 05:26:00  2978.81  2379.78  2206.3000  1110.4967  0.8236   \n",
       "1565  2008-10-17 06:01:00  2894.92  2532.01  2177.0333  1183.7287  1.5726   \n",
       "1566  2008-10-17 06:07:00  2944.92  2450.76  2195.4444  2914.1792  1.5978   \n",
       "\n",
       "          5         6       7       8  ...      577     582     583     584  \\\n",
       "0     100.0   97.6133  0.1242  1.5005  ...  14.9509  0.5005  0.0118  0.0035   \n",
       "1     100.0  102.3433  0.1247  1.4966  ...  10.9003  0.5019  0.0223  0.0055   \n",
       "2     100.0   95.4878  0.1241  1.4436  ...   9.2721  0.4958  0.0157  0.0039   \n",
       "3     100.0  104.2367  0.1217  1.4882  ...   8.5831  0.4990  0.0103  0.0025   \n",
       "4     100.0  100.3967  0.1235  1.5031  ...  10.9698  0.4800  0.4766  0.1045   \n",
       "...     ...       ...     ...     ...  ...      ...     ...     ...     ...   \n",
       "1562  100.0   82.2467  0.1248  1.3424  ...  11.7256  0.4988  0.0143  0.0039   \n",
       "1563  100.0   98.4689  0.1205  1.4333  ...  17.8379  0.4975  0.0131  0.0036   \n",
       "1564  100.0   99.4122  0.1208     NaN  ...  17.7267  0.4987  0.0153  0.0041   \n",
       "1565  100.0   98.7978  0.1213  1.4622  ...  19.2104  0.5004  0.0178  0.0038   \n",
       "1566  100.0   85.1011  0.1235     NaN  ...  22.9183  0.4987  0.0181  0.0040   \n",
       "\n",
       "          585     586     587     588       589  Pass/Fail  \n",
       "0      2.3630     NaN     NaN     NaN       NaN          1  \n",
       "1      4.4447  0.0096  0.0201  0.0060  208.2045          1  \n",
       "2      3.1745  0.0584  0.0484  0.0148   82.8602          0  \n",
       "3      2.0544  0.0202  0.0149  0.0044   73.8432          1  \n",
       "4     99.3032  0.0202  0.0149  0.0044   73.8432          1  \n",
       "...       ...     ...     ...     ...       ...        ...  \n",
       "1562   2.8669  0.0068  0.0138  0.0047  203.1720          1  \n",
       "1563   2.6238  0.0068  0.0138  0.0047  203.1720          1  \n",
       "1564   3.0590  0.0197  0.0086  0.0025   43.5231          1  \n",
       "1565   3.5662  0.0262  0.0245  0.0075   93.4941          1  \n",
       "1566   3.6275  0.0117  0.0162  0.0045  137.7844          1  \n",
       "\n",
       "[1567 rows x 540 columns]"
      ]
     },
     "execution_count": 164,
     "metadata": {},
     "output_type": "execute_result"
    }
   ],
   "source": [
    "df_sig"
   ]
  },
  {
   "cell_type": "markdown",
   "metadata": {},
   "source": [
    "## 1. Now we have only columns that has missing values of 51 count which is 3.2% or even lesser of missing data.\n",
    "\n",
    "## 2. We can try filling these 3.2% missing values with the median data which will not affect the distribution.\n",
    "\n",
    "## 3. We will try to apply this in a seperate column and check for distributions change, if there is not much change then we shall proceed\n",
    "\n"
   ]
  },
  {
   "cell_type": "code",
   "execution_count": 165,
   "metadata": {},
   "outputs": [
    {
     "data": {
      "text/plain": [
       "496     51\n",
       "89      51\n",
       "90      51\n",
       "362     51\n",
       "363     51\n",
       "        ..\n",
       "255      0\n",
       "291      0\n",
       "359      0\n",
       "360      0\n",
       "Time     0\n",
       "Length: 540, dtype: int64"
      ]
     },
     "execution_count": 165,
     "metadata": {},
     "output_type": "execute_result"
    }
   ],
   "source": [
    "df_sig.isnull().sum().sort_values(ascending=False)\n",
    "\n",
    "#Maximum missing values is only 51"
   ]
  },
  {
   "cell_type": "code",
   "execution_count": 166,
   "metadata": {},
   "outputs": [
    {
     "data": {
      "text/plain": [
       "<AxesSubplot:xlabel='496', ylabel='Density'>"
      ]
     },
     "execution_count": 166,
     "metadata": {},
     "output_type": "execute_result"
    },
    {
     "data": {
      "image/png": "[encoded data removed]",
      "text/plain": [
       "<Figure size 864x576 with 1 Axes>"
      ]
     },
     "metadata": {
      "needs_background": "light"
     },
     "output_type": "display_data"
    }
   ],
   "source": [
    "plt.figure(figsize=(12,8))\n",
    "sns.distplot(df_sig['496'])\n",
    "\n",
    "#Column before filling missing values"
   ]
  },
  {
   "cell_type": "code",
   "execution_count": 167,
   "metadata": {},
   "outputs": [
    {
     "data": {
      "text/plain": [
       "<AxesSubplot:xlabel='496', ylabel='Density'>"
      ]
     },
     "execution_count": 167,
     "metadata": {},
     "output_type": "execute_result"
    },
    {
     "data": {
      "image/png": "[encoded data removed]",
      "text/plain": [
       "<Figure size 864x576 with 1 Axes>"
      ]
     },
     "metadata": {
      "needs_background": "light"
     },
     "output_type": "display_data"
    }
   ],
   "source": [
    "newdf = df_sig['496'].dropna(axis=0)\n",
    "newdf1 = df_sig['496']\n",
    "def fill(x):\n",
    "    if pd.isna(x):\n",
    "        return np.median(newdf)\n",
    "    else:\n",
    "        return x\n",
    "\n",
    "newdf1.apply(fill)\n",
    "plt.figure(figsize=(12,8))\n",
    "sns.distplot(newdf1)\n",
    "#Column after filling missing values"
   ]
  },
  {
   "cell_type": "markdown",
   "metadata": {},
   "source": [
    "# visuvalizing in box plot as well\n",
    "\n",
    "## The distribution does not change and it remains constant but we do notice a lot of outliers which we might have to handle"
   ]
  },
  {
   "cell_type": "code",
   "execution_count": 168,
   "metadata": {},
   "outputs": [
    {
     "data": {
      "text/plain": [
       "<AxesSubplot:xlabel='496'>"
      ]
     },
     "execution_count": 168,
     "metadata": {},
     "output_type": "execute_result"
    },
    {
     "data": {
      "image/png": "[encoded data removed]",
      "text/plain": [
       "<Figure size 864x576 with 1 Axes>"
      ]
     },
     "metadata": {
      "needs_background": "light"
     },
     "output_type": "display_data"
    }
   ],
   "source": [
    "plt.figure(figsize=(12,8))\n",
    "sns.boxplot(df_sig['496'])"
   ]
  },
  {
   "cell_type": "code",
   "execution_count": 169,
   "metadata": {},
   "outputs": [
    {
     "data": {
      "text/plain": [
       "<AxesSubplot:xlabel='496'>"
      ]
     },
     "execution_count": 169,
     "metadata": {},
     "output_type": "execute_result"
    },
    {
     "data": {
      "image/png": "[encoded data removed]",
      "text/plain": [
       "<Figure size 864x576 with 1 Axes>"
      ]
     },
     "metadata": {
      "needs_background": "light"
     },
     "output_type": "display_data"
    }
   ],
   "source": [
    "plt.figure(figsize=(12,8))\n",
    "sns.boxplot(newdf1)"
   ]
  },
  {
   "cell_type": "markdown",
   "metadata": {},
   "source": [
    "# Applying the median technique on all columns"
   ]
  },
  {
   "cell_type": "code",
   "execution_count": 181,
   "metadata": {},
   "outputs": [],
   "source": [
    "df_sig_copy = df_sig.copy()\n",
    "\n",
    "#We make a copy \"df_sig_copy\" of existing dataframe just so that if the actual raw file is required then \n",
    "#we shall use \"df_sig\"\n",
    "\n",
    "\n",
    "\n",
    "def step2(x):\n",
    "    knnimp = KNNImputer(n_neighbors=5)\n",
    "    x = x.drop('Time',axis=1)\n",
    "    b = knnimp.fit_transform(x)\n",
    "    dd = pd.DataFrame(b,columns=a.columns)\n",
    "    return dd\n",
    "    \n",
    "\n",
    "# for n in df_sig_copy.columns:\n",
    "#     if n == 'Time' or n == 'Pass/Fail':\n",
    "#         pass\n",
    "#     else:\n",
    "#         if df_sig_copy[n].isnull().sum()>0:\n",
    "#             df_sig_copy[n].fillna(np.median(df_sig_copy[n].dropna(axis=0)),axis=0,inplace=True)\n",
    "#         else:\n",
    "#             pass\n"
   ]
  },
  {
   "cell_type": "code",
   "execution_count": 183,
   "metadata": {},
   "outputs": [],
   "source": [
    "df_sig_copy = step2(df_sig_copy)"
   ]
  },
  {
   "cell_type": "markdown",
   "metadata": {},
   "source": [
    "# Drop attribute/s if required using relevant functional knowledge."
   ]
  },
  {
   "cell_type": "code",
   "execution_count": 184,
   "metadata": {},
   "outputs": [],
   "source": [
    "# df_sig_copy.drop('Time',axis=1,inplace=True)\n",
    "\n",
    "\n",
    "#We dropped time while imputing the missing values since we dont require time and date. Incase we were to \n",
    "#drop time seperately then we shall use above command"
   ]
  },
  {
   "cell_type": "markdown",
   "metadata": {},
   "source": [
    "# Make all relevant modifications on the data using both functional/logical reasoning/assumption"
   ]
  },
  {
   "cell_type": "code",
   "execution_count": 185,
   "metadata": {},
   "outputs": [
    {
     "data": {
      "text/plain": [
       "1.0    1463\n",
       "0.0     104\n",
       "Name: Pass/Fail, dtype: int64"
      ]
     },
     "execution_count": 185,
     "metadata": {},
     "output_type": "execute_result"
    }
   ],
   "source": [
    "df_sig_copy['Pass/Fail'].value_counts()\n",
    "#Classes completely unblanaced, requires balancing"
   ]
  },
  {
   "cell_type": "code",
   "execution_count": 186,
   "metadata": {},
   "outputs": [],
   "source": [
    "#We try to take correlation of each columns for the \"Pass/Fail\" Target. Doing this we notice that there were NaN's which\n",
    "#is due to constant values in those specific columns. For eg(as shown below): If we take column '5' from df_sig_copy\n",
    "#dataframe, we notice that the unique values present is 100 and similarly for column 504 the unique value is 0 and this\n",
    "#does not add any value in predicting the target \"Pass/Fail\""
   ]
  },
  {
   "cell_type": "code",
   "execution_count": 187,
   "metadata": {},
   "outputs": [
    {
     "data": {
      "text/plain": [
       "array([100.])"
      ]
     },
     "execution_count": 187,
     "metadata": {},
     "output_type": "execute_result"
    }
   ],
   "source": [
    "df_sig_copy['5'].unique()"
   ]
  },
  {
   "cell_type": "code",
   "execution_count": 188,
   "metadata": {},
   "outputs": [
    {
     "data": {
      "text/plain": [
       "array([0.])"
      ]
     },
     "execution_count": 188,
     "metadata": {},
     "output_type": "execute_result"
    }
   ],
   "source": [
    "df_sig_copy['504'].unique()"
   ]
  },
  {
   "cell_type": "markdown",
   "metadata": {},
   "source": [
    "#### In order to remove these columns, we will create a dataframe ff which will contain column 1 with column names and column 2 with the correlation values of each column against target \"Pass/Fail\""
   ]
  },
  {
   "cell_type": "code",
   "execution_count": 189,
   "metadata": {},
   "outputs": [],
   "source": [
    "ff = pd.DataFrame(df_sig_copy.corr()['Pass/Fail'].sort_values(ascending=False))\n",
    "ff.reset_index(inplace=True)"
   ]
  },
  {
   "cell_type": "code",
   "execution_count": 190,
   "metadata": {},
   "outputs": [],
   "source": [
    "drop_columns = ff[pd.isna(ff['Pass/Fail'])]['index'].values\n",
    "\n",
    "#Pulling the column names that has NaN as correlation values"
   ]
  },
  {
   "cell_type": "code",
   "execution_count": 191,
   "metadata": {},
   "outputs": [],
   "source": [
    "for a in drop_columns:\n",
    "    df_sig_copy.drop(a,axis=1,inplace=True)\n",
    "    \n",
    "#With this we have removed all the columns that had either no correlation with target or columns that had constant value\n",
    "#which does not add up to prediction."
   ]
  },
  {
   "cell_type": "markdown",
   "metadata": {},
   "source": [
    "## •Perform detailed relevant statistical analysis on the data.\n",
    "## •Perform a detailed univariate, bivariate and multivariate analysis with appropriate detailed comments after each analysis"
   ]
  },
  {
   "cell_type": "code",
   "execution_count": 192,
   "metadata": {},
   "outputs": [
    {
     "data": {
      "text/html": [
       "<div>\n",
       "<style scoped>\n",
       "    .dataframe tbody tr th:only-of-type {\n",
       "        vertical-align: middle;\n",
       "    }\n",
       "\n",
       "    .dataframe tbody tr th {\n",
       "        vertical-align: top;\n",
       "    }\n",
       "\n",
       "    .dataframe thead th {\n",
       "        text-align: right;\n",
       "    }\n",
       "</style>\n",
       "<table border=\"1\" class=\"dataframe\">\n",
       "  <thead>\n",
       "    <tr style=\"text-align: right;\">\n",
       "      <th></th>\n",
       "      <th>0</th>\n",
       "      <th>1</th>\n",
       "      <th>2</th>\n",
       "      <th>3</th>\n",
       "      <th>4</th>\n",
       "      <th>6</th>\n",
       "      <th>7</th>\n",
       "      <th>8</th>\n",
       "      <th>9</th>\n",
       "      <th>10</th>\n",
       "      <th>...</th>\n",
       "      <th>577</th>\n",
       "      <th>582</th>\n",
       "      <th>583</th>\n",
       "      <th>584</th>\n",
       "      <th>585</th>\n",
       "      <th>586</th>\n",
       "      <th>587</th>\n",
       "      <th>588</th>\n",
       "      <th>589</th>\n",
       "      <th>Pass/Fail</th>\n",
       "    </tr>\n",
       "  </thead>\n",
       "  <tbody>\n",
       "    <tr>\n",
       "      <th>0</th>\n",
       "      <td>3030.93</td>\n",
       "      <td>2564.00</td>\n",
       "      <td>2187.7333</td>\n",
       "      <td>1411.1265</td>\n",
       "      <td>1.3602</td>\n",
       "      <td>97.6133</td>\n",
       "      <td>0.1242</td>\n",
       "      <td>1.50050</td>\n",
       "      <td>0.01620</td>\n",
       "      <td>-0.00340</td>\n",
       "      <td>...</td>\n",
       "      <td>14.9509</td>\n",
       "      <td>0.5005</td>\n",
       "      <td>0.0118</td>\n",
       "      <td>0.0035</td>\n",
       "      <td>2.3630</td>\n",
       "      <td>0.01942</td>\n",
       "      <td>0.01266</td>\n",
       "      <td>0.00438</td>\n",
       "      <td>65.5742</td>\n",
       "      <td>1.0</td>\n",
       "    </tr>\n",
       "    <tr>\n",
       "      <th>1</th>\n",
       "      <td>3095.78</td>\n",
       "      <td>2465.14</td>\n",
       "      <td>2230.4222</td>\n",
       "      <td>1463.6606</td>\n",
       "      <td>0.8294</td>\n",
       "      <td>102.3433</td>\n",
       "      <td>0.1247</td>\n",
       "      <td>1.49660</td>\n",
       "      <td>-0.00050</td>\n",
       "      <td>-0.01480</td>\n",
       "      <td>...</td>\n",
       "      <td>10.9003</td>\n",
       "      <td>0.5019</td>\n",
       "      <td>0.0223</td>\n",
       "      <td>0.0055</td>\n",
       "      <td>4.4447</td>\n",
       "      <td>0.00960</td>\n",
       "      <td>0.02010</td>\n",
       "      <td>0.00600</td>\n",
       "      <td>208.2045</td>\n",
       "      <td>1.0</td>\n",
       "    </tr>\n",
       "    <tr>\n",
       "      <th>2</th>\n",
       "      <td>2932.61</td>\n",
       "      <td>2559.94</td>\n",
       "      <td>2186.4111</td>\n",
       "      <td>1698.0172</td>\n",
       "      <td>1.5102</td>\n",
       "      <td>95.4878</td>\n",
       "      <td>0.1241</td>\n",
       "      <td>1.44360</td>\n",
       "      <td>0.00410</td>\n",
       "      <td>0.00130</td>\n",
       "      <td>...</td>\n",
       "      <td>9.2721</td>\n",
       "      <td>0.4958</td>\n",
       "      <td>0.0157</td>\n",
       "      <td>0.0039</td>\n",
       "      <td>3.1745</td>\n",
       "      <td>0.05840</td>\n",
       "      <td>0.04840</td>\n",
       "      <td>0.01480</td>\n",
       "      <td>82.8602</td>\n",
       "      <td>0.0</td>\n",
       "    </tr>\n",
       "    <tr>\n",
       "      <th>3</th>\n",
       "      <td>2988.72</td>\n",
       "      <td>2479.90</td>\n",
       "      <td>2199.0333</td>\n",
       "      <td>909.7926</td>\n",
       "      <td>1.3204</td>\n",
       "      <td>104.2367</td>\n",
       "      <td>0.1217</td>\n",
       "      <td>1.48820</td>\n",
       "      <td>-0.01240</td>\n",
       "      <td>-0.00330</td>\n",
       "      <td>...</td>\n",
       "      <td>8.5831</td>\n",
       "      <td>0.4990</td>\n",
       "      <td>0.0103</td>\n",
       "      <td>0.0025</td>\n",
       "      <td>2.0544</td>\n",
       "      <td>0.02020</td>\n",
       "      <td>0.01490</td>\n",
       "      <td>0.00440</td>\n",
       "      <td>73.8432</td>\n",
       "      <td>1.0</td>\n",
       "    </tr>\n",
       "    <tr>\n",
       "      <th>4</th>\n",
       "      <td>3032.24</td>\n",
       "      <td>2502.87</td>\n",
       "      <td>2233.3667</td>\n",
       "      <td>1326.5200</td>\n",
       "      <td>1.5334</td>\n",
       "      <td>100.3967</td>\n",
       "      <td>0.1235</td>\n",
       "      <td>1.50310</td>\n",
       "      <td>-0.00310</td>\n",
       "      <td>-0.00720</td>\n",
       "      <td>...</td>\n",
       "      <td>10.9698</td>\n",
       "      <td>0.4800</td>\n",
       "      <td>0.4766</td>\n",
       "      <td>0.1045</td>\n",
       "      <td>99.3032</td>\n",
       "      <td>0.02020</td>\n",
       "      <td>0.01490</td>\n",
       "      <td>0.00440</td>\n",
       "      <td>73.8432</td>\n",
       "      <td>1.0</td>\n",
       "    </tr>\n",
       "    <tr>\n",
       "      <th>...</th>\n",
       "      <td>...</td>\n",
       "      <td>...</td>\n",
       "      <td>...</td>\n",
       "      <td>...</td>\n",
       "      <td>...</td>\n",
       "      <td>...</td>\n",
       "      <td>...</td>\n",
       "      <td>...</td>\n",
       "      <td>...</td>\n",
       "      <td>...</td>\n",
       "      <td>...</td>\n",
       "      <td>...</td>\n",
       "      <td>...</td>\n",
       "      <td>...</td>\n",
       "      <td>...</td>\n",
       "      <td>...</td>\n",
       "      <td>...</td>\n",
       "      <td>...</td>\n",
       "      <td>...</td>\n",
       "      <td>...</td>\n",
       "      <td>...</td>\n",
       "    </tr>\n",
       "    <tr>\n",
       "      <th>1562</th>\n",
       "      <td>2899.41</td>\n",
       "      <td>2464.36</td>\n",
       "      <td>2179.7333</td>\n",
       "      <td>3085.3781</td>\n",
       "      <td>1.4843</td>\n",
       "      <td>82.2467</td>\n",
       "      <td>0.1248</td>\n",
       "      <td>1.34240</td>\n",
       "      <td>-0.00450</td>\n",
       "      <td>-0.00570</td>\n",
       "      <td>...</td>\n",
       "      <td>11.7256</td>\n",
       "      <td>0.4988</td>\n",
       "      <td>0.0143</td>\n",
       "      <td>0.0039</td>\n",
       "      <td>2.8669</td>\n",
       "      <td>0.00680</td>\n",
       "      <td>0.01380</td>\n",
       "      <td>0.00470</td>\n",
       "      <td>203.1720</td>\n",
       "      <td>1.0</td>\n",
       "    </tr>\n",
       "    <tr>\n",
       "      <th>1563</th>\n",
       "      <td>3052.31</td>\n",
       "      <td>2522.55</td>\n",
       "      <td>2198.5667</td>\n",
       "      <td>1124.6595</td>\n",
       "      <td>0.8763</td>\n",
       "      <td>98.4689</td>\n",
       "      <td>0.1205</td>\n",
       "      <td>1.43330</td>\n",
       "      <td>-0.00610</td>\n",
       "      <td>-0.00930</td>\n",
       "      <td>...</td>\n",
       "      <td>17.8379</td>\n",
       "      <td>0.4975</td>\n",
       "      <td>0.0131</td>\n",
       "      <td>0.0036</td>\n",
       "      <td>2.6238</td>\n",
       "      <td>0.00680</td>\n",
       "      <td>0.01380</td>\n",
       "      <td>0.00470</td>\n",
       "      <td>203.1720</td>\n",
       "      <td>1.0</td>\n",
       "    </tr>\n",
       "    <tr>\n",
       "      <th>1564</th>\n",
       "      <td>2978.81</td>\n",
       "      <td>2379.78</td>\n",
       "      <td>2206.3000</td>\n",
       "      <td>1110.4967</td>\n",
       "      <td>0.8236</td>\n",
       "      <td>99.4122</td>\n",
       "      <td>0.1208</td>\n",
       "      <td>1.47424</td>\n",
       "      <td>-0.00684</td>\n",
       "      <td>-0.00486</td>\n",
       "      <td>...</td>\n",
       "      <td>17.7267</td>\n",
       "      <td>0.4987</td>\n",
       "      <td>0.0153</td>\n",
       "      <td>0.0041</td>\n",
       "      <td>3.0590</td>\n",
       "      <td>0.01970</td>\n",
       "      <td>0.00860</td>\n",
       "      <td>0.00250</td>\n",
       "      <td>43.5231</td>\n",
       "      <td>1.0</td>\n",
       "    </tr>\n",
       "    <tr>\n",
       "      <th>1565</th>\n",
       "      <td>2894.92</td>\n",
       "      <td>2532.01</td>\n",
       "      <td>2177.0333</td>\n",
       "      <td>1183.7287</td>\n",
       "      <td>1.5726</td>\n",
       "      <td>98.7978</td>\n",
       "      <td>0.1213</td>\n",
       "      <td>1.46220</td>\n",
       "      <td>-0.00720</td>\n",
       "      <td>0.00320</td>\n",
       "      <td>...</td>\n",
       "      <td>19.2104</td>\n",
       "      <td>0.5004</td>\n",
       "      <td>0.0178</td>\n",
       "      <td>0.0038</td>\n",
       "      <td>3.5662</td>\n",
       "      <td>0.02620</td>\n",
       "      <td>0.02450</td>\n",
       "      <td>0.00750</td>\n",
       "      <td>93.4941</td>\n",
       "      <td>1.0</td>\n",
       "    </tr>\n",
       "    <tr>\n",
       "      <th>1566</th>\n",
       "      <td>2944.92</td>\n",
       "      <td>2450.76</td>\n",
       "      <td>2195.4444</td>\n",
       "      <td>2914.1792</td>\n",
       "      <td>1.5978</td>\n",
       "      <td>85.1011</td>\n",
       "      <td>0.1235</td>\n",
       "      <td>1.44456</td>\n",
       "      <td>0.00248</td>\n",
       "      <td>-0.00102</td>\n",
       "      <td>...</td>\n",
       "      <td>22.9183</td>\n",
       "      <td>0.4987</td>\n",
       "      <td>0.0181</td>\n",
       "      <td>0.0040</td>\n",
       "      <td>3.6275</td>\n",
       "      <td>0.01170</td>\n",
       "      <td>0.01620</td>\n",
       "      <td>0.00450</td>\n",
       "      <td>137.7844</td>\n",
       "      <td>1.0</td>\n",
       "    </tr>\n",
       "  </tbody>\n",
       "</table>\n",
       "<p>1567 rows × 423 columns</p>\n",
       "</div>"
      ],
      "text/plain": [
       "            0        1          2          3       4         6       7  \\\n",
       "0     3030.93  2564.00  2187.7333  1411.1265  1.3602   97.6133  0.1242   \n",
       "1     3095.78  2465.14  2230.4222  1463.6606  0.8294  102.3433  0.1247   \n",
       "2     2932.61  2559.94  2186.4111  1698.0172  1.5102   95.4878  0.1241   \n",
       "3     2988.72  2479.90  2199.0333   909.7926  1.3204  104.2367  0.1217   \n",
       "4     3032.24  2502.87  2233.3667  1326.5200  1.5334  100.3967  0.1235   \n",
       "...       ...      ...        ...        ...     ...       ...     ...   \n",
       "1562  2899.41  2464.36  2179.7333  3085.3781  1.4843   82.2467  0.1248   \n",
       "1563  3052.31  2522.55  2198.5667  1124.6595  0.8763   98.4689  0.1205   \n",
       "1564  2978.81  2379.78  2206.3000  1110.4967  0.8236   99.4122  0.1208   \n",
       "1565  2894.92  2532.01  2177.0333  1183.7287  1.5726   98.7978  0.1213   \n",
       "1566  2944.92  2450.76  2195.4444  2914.1792  1.5978   85.1011  0.1235   \n",
       "\n",
       "            8        9       10  ...      577     582     583     584  \\\n",
       "0     1.50050  0.01620 -0.00340  ...  14.9509  0.5005  0.0118  0.0035   \n",
       "1     1.49660 -0.00050 -0.01480  ...  10.9003  0.5019  0.0223  0.0055   \n",
       "2     1.44360  0.00410  0.00130  ...   9.2721  0.4958  0.0157  0.0039   \n",
       "3     1.48820 -0.01240 -0.00330  ...   8.5831  0.4990  0.0103  0.0025   \n",
       "4     1.50310 -0.00310 -0.00720  ...  10.9698  0.4800  0.4766  0.1045   \n",
       "...       ...      ...      ...  ...      ...     ...     ...     ...   \n",
       "1562  1.34240 -0.00450 -0.00570  ...  11.7256  0.4988  0.0143  0.0039   \n",
       "1563  1.43330 -0.00610 -0.00930  ...  17.8379  0.4975  0.0131  0.0036   \n",
       "1564  1.47424 -0.00684 -0.00486  ...  17.7267  0.4987  0.0153  0.0041   \n",
       "1565  1.46220 -0.00720  0.00320  ...  19.2104  0.5004  0.0178  0.0038   \n",
       "1566  1.44456  0.00248 -0.00102  ...  22.9183  0.4987  0.0181  0.0040   \n",
       "\n",
       "          585      586      587      588       589  Pass/Fail  \n",
       "0      2.3630  0.01942  0.01266  0.00438   65.5742        1.0  \n",
       "1      4.4447  0.00960  0.02010  0.00600  208.2045        1.0  \n",
       "2      3.1745  0.05840  0.04840  0.01480   82.8602        0.0  \n",
       "3      2.0544  0.02020  0.01490  0.00440   73.8432        1.0  \n",
       "4     99.3032  0.02020  0.01490  0.00440   73.8432        1.0  \n",
       "...       ...      ...      ...      ...       ...        ...  \n",
       "1562   2.8669  0.00680  0.01380  0.00470  203.1720        1.0  \n",
       "1563   2.6238  0.00680  0.01380  0.00470  203.1720        1.0  \n",
       "1564   3.0590  0.01970  0.00860  0.00250   43.5231        1.0  \n",
       "1565   3.5662  0.02620  0.02450  0.00750   93.4941        1.0  \n",
       "1566   3.6275  0.01170  0.01620  0.00450  137.7844        1.0  \n",
       "\n",
       "[1567 rows x 423 columns]"
      ]
     },
     "execution_count": 192,
     "metadata": {},
     "output_type": "execute_result"
    }
   ],
   "source": [
    "df_sig_copy\n",
    "\n",
    "#The dataframe that can be used"
   ]
  },
  {
   "cell_type": "code",
   "execution_count": 193,
   "metadata": {},
   "outputs": [],
   "source": [
    "# plt.figure(figsize=(100,100))\n",
    "# col = 1\n",
    "# for i in df_sig_copy.columns:\n",
    "#     plt.subplot(30,10, col)\n",
    "#     sns.distplot(df_sig_copy[i])\n",
    "#     col += 1"
   ]
  },
  {
   "cell_type": "code",
   "execution_count": null,
   "metadata": {},
   "outputs": [],
   "source": []
  },
  {
   "cell_type": "code",
   "execution_count": null,
   "metadata": {},
   "outputs": [],
   "source": []
  },
  {
   "cell_type": "markdown",
   "metadata": {},
   "source": [
    "# Segregate predictors vs target attributes"
   ]
  },
  {
   "cell_type": "code",
   "execution_count": 194,
   "metadata": {},
   "outputs": [],
   "source": [
    "X = df_sig_copy.drop('Pass/Fail',axis=1)\n",
    "# X will be the feature used to predict\n",
    "\n",
    "y = df_sig_copy['Pass/Fail']\n",
    "# y will be the target\n"
   ]
  },
  {
   "cell_type": "markdown",
   "metadata": {},
   "source": [
    "# Check for target balancing and fix it if found imbalanced"
   ]
  },
  {
   "cell_type": "code",
   "execution_count": 195,
   "metadata": {},
   "outputs": [
    {
     "data": {
      "text/plain": [
       "1.0    0.933631\n",
       "0.0    0.066369\n",
       "Name: Pass/Fail, dtype: float64"
      ]
     },
     "execution_count": 195,
     "metadata": {},
     "output_type": "execute_result"
    }
   ],
   "source": [
    "y.value_counts(normalize=True)\n",
    "\n",
    "#We have only 6.6% of class 0 data, we will try to balance the data using oversampling and SMOTE tomek technique"
   ]
  },
  {
   "cell_type": "code",
   "execution_count": 196,
   "metadata": {},
   "outputs": [],
   "source": [
    "X_train, X_test, y_train, y_test = train_test_split(X, y, test_size=0.3, random_state=101)\n",
    "#Train Test split\n",
    "\n",
    "OS = over_sampling.RandomOverSampler()\n",
    "SM = over_sampling.SMOTE()\n",
    "#instantiate the sampling technique\n",
    "\n",
    "X_train_OS,y_train_OS = OS.fit_resample(X_train,y_train)\n",
    "X_train_SM,y_train_SM = SM.fit_resample(X_train,y_train)\n",
    "# Sample the data"
   ]
  },
  {
   "cell_type": "code",
   "execution_count": 197,
   "metadata": {},
   "outputs": [
    {
     "data": {
      "text/plain": [
       "0.0    1021\n",
       "1.0    1021\n",
       "Name: Pass/Fail, dtype: int64"
      ]
     },
     "execution_count": 197,
     "metadata": {},
     "output_type": "execute_result"
    }
   ],
   "source": [
    "y_train_OS.value_counts()"
   ]
  },
  {
   "cell_type": "code",
   "execution_count": 198,
   "metadata": {},
   "outputs": [
    {
     "data": {
      "text/plain": [
       "0.0    1021\n",
       "1.0    1021\n",
       "Name: Pass/Fail, dtype: int64"
      ]
     },
     "execution_count": 198,
     "metadata": {},
     "output_type": "execute_result"
    }
   ],
   "source": [
    "y_train_SM.value_counts()"
   ]
  },
  {
   "cell_type": "markdown",
   "metadata": {},
   "source": [
    "# Perform train-test split and standardise the data or vice versa if require\n",
    "\n",
    "#### I have performed the train test split before sampling the imbalanced dataset as i want the balance to happen only in train data and not on test data."
   ]
  },
  {
   "cell_type": "markdown",
   "metadata": {},
   "source": [
    "## Check if the train and test data have similar statistical characteristics when compared with original data"
   ]
  },
  {
   "cell_type": "code",
   "execution_count": 199,
   "metadata": {},
   "outputs": [],
   "source": [
    "# Ho = Train, test mean data are not same.\n",
    "# Ha = Is the Train and test data's mean the same?"
   ]
  },
  {
   "cell_type": "code",
   "execution_count": 200,
   "metadata": {},
   "outputs": [
    {
     "name": "stdout",
     "output_type": "stream",
     "text": [
      "0.7487897764717969\n",
      "0.5983099254815024\n",
      "0.2904380123760187\n",
      "0.3092350514718014\n"
     ]
    }
   ],
   "source": [
    "X_data = [X_train,X_test,X_train_OS,X_train_SM]\n",
    "\n",
    "for x_d in X_data:\n",
    "    f, p = f_oneway(x_d, X)\n",
    "    print(p.mean())\n",
    "#     print(p)"
   ]
  },
  {
   "cell_type": "markdown",
   "metadata": {},
   "source": [
    "### X_Train = We notice that P value for train and test data is greater than 0.5, we fail to reject null hypothesis for the X_train data. This means Train and Test data mean are not same\n",
    "\n",
    "### X_Test = We notice that P value for Oversampled and SMOTE sampled data with X_test is less than 0.5. Here, we reject Null Hypothesis"
   ]
  },
  {
   "cell_type": "markdown",
   "metadata": {},
   "source": [
    "# Model training, testing and tuning"
   ]
  },
  {
   "cell_type": "markdown",
   "metadata": {},
   "source": [
    "### Pick up a supervised learning model.\n",
    "#### Since this is a classification issue, we shall try all the classification models such as:\n",
    "##### 1. Logistic Regression\n",
    "##### 2. SVC\n",
    "##### 3. Naive Bayes\n",
    "##### 4. Decision Tree Classifier\n",
    "##### 5. Random Forest Classifier\n",
    "##### 6. Adaptive Boosting\n",
    "##### 7. Gradient Boosting\n",
    "\n",
    "### Along with this there are multiple columns which leads to Curse of Dimensionality issue. We apply Dimensionality reduction technique using PCA.\n",
    "\n",
    "#### 1. We try to standardize the data and then make it available for PCA\n",
    "#### 2. We apply PCA and get the best Eigen values that explain the most variance\n",
    "#### 3. Transform the data and apply in all algorithms"
   ]
  },
  {
   "cell_type": "markdown",
   "metadata": {},
   "source": [
    "# Pick up a supervised learning model. (Without hyperparameter tuning)"
   ]
  },
  {
   "cell_type": "markdown",
   "metadata": {},
   "source": [
    "### 1. Logistic Regression"
   ]
  },
  {
   "cell_type": "code",
   "execution_count": 461,
   "metadata": {},
   "outputs": [
    {
     "name": "stdout",
     "output_type": "stream",
     "text": [
      "              precision    recall  f1-score   support\n",
      "\n",
      "         0.0       0.00      0.00      0.00        29\n",
      "         1.0       0.94      1.00      0.97       442\n",
      "\n",
      "    accuracy                           0.93       471\n",
      "   macro avg       0.47      0.50      0.48       471\n",
      "weighted avg       0.88      0.93      0.91       471\n",
      "\n",
      "\n",
      "\n",
      "[[  0  29]\n",
      " [  2 440]]\n",
      "\n",
      "\n",
      "The training score is 0.9315693430656934\n",
      "The Test score is 0.9341825902335457\n"
     ]
    }
   ],
   "source": [
    "LR1 = LogisticRegression()\n",
    "LR1.fit(X_train,y_train)\n",
    "predLR1 = LR1.predict(X_test)\n",
    "\n",
    "print(classification_report(y_test,predLR1))\n",
    "print('\\n')\n",
    "print(confusion_matrix(y_test,predLR1))\n",
    "print('\\n')\n",
    "print('The training score is',LR1.score(X_train,y_train))\n",
    "print('The Test score is',LR1.score(X_test,y_test))"
   ]
  },
  {
   "cell_type": "code",
   "execution_count": 462,
   "metadata": {},
   "outputs": [
    {
     "data": {
      "image/png": "[encoded data removed]",
      "text/plain": [
       "<Figure size 432x288 with 1 Axes>"
      ]
     },
     "metadata": {
      "needs_background": "light"
     },
     "output_type": "display_data"
    }
   ],
   "source": [
    "proba = LR1.predict_proba(X_test)\n",
    "pred_proba = proba[:,1]\n",
    "fpr, tpr, threshold = metrics.roc_curve(y_test, pred_proba)\n",
    "roc_auc_rfo = metrics.auc(fpr, tpr)\n",
    "plt.plot(fpr, tpr, label='RF over sampled (AUC = %0.2f)' % roc_auc_rfo)\n",
    "plt.plot([0, 1], [0, 1],'r--')\n",
    "plt.xlim([-0.02, 1.0])\n",
    "plt.ylim([0.0, 1.05])\n",
    "plt.xlabel('False Positive Rate')\n",
    "plt.ylabel('True Positive Rate')\n",
    "plt.title('Receiver operating characteristic')\n",
    "plt.legend(loc=\"lower right\")\n",
    "plt.show()"
   ]
  },
  {
   "cell_type": "code",
   "execution_count": 463,
   "metadata": {},
   "outputs": [],
   "source": [
    "Logit_nosampling = roc_auc_rfo"
   ]
  },
  {
   "cell_type": "code",
   "execution_count": 470,
   "metadata": {},
   "outputs": [
    {
     "name": "stdout",
     "output_type": "stream",
     "text": [
      "              precision    recall  f1-score   support\n",
      "\n",
      "         0.0       0.20      0.03      0.06        29\n",
      "         1.0       0.94      0.99      0.96       442\n",
      "\n",
      "    accuracy                           0.93       471\n",
      "   macro avg       0.57      0.51      0.51       471\n",
      "weighted avg       0.89      0.93      0.91       471\n",
      "\n"
     ]
    }
   ],
   "source": [
    "new_pred = np.where(proba[:,1]>0.65,1,0)\n",
    "print(classification_report(y_test,new_pred))\n"
   ]
  },
  {
   "cell_type": "code",
   "execution_count": 471,
   "metadata": {},
   "outputs": [
    {
     "name": "stdout",
     "output_type": "stream",
     "text": [
      "              precision    recall  f1-score   support\n",
      "\n",
      "         0.0       0.00      0.00      0.00        29\n",
      "         1.0       0.94      1.00      0.97       442\n",
      "\n",
      "    accuracy                           0.93       471\n",
      "   macro avg       0.47      0.50      0.48       471\n",
      "weighted avg       0.88      0.93      0.91       471\n",
      "\n",
      "\n",
      "\n",
      "[[  0  29]\n",
      " [  2 440]]\n",
      "\n",
      "\n",
      "This model with oversampled data also ends up with bad scores\n"
     ]
    }
   ],
   "source": [
    "LR2 = LogisticRegression()\n",
    "LR2.fit(X_train_OS,y_train_OS)\n",
    "predLR2 = LR1.predict(X_test)\n",
    "\n",
    "print(classification_report(y_test,predLR2))\n",
    "print('\\n')\n",
    "print(confusion_matrix(y_test,predLR2))\n",
    "print('\\n')\n",
    "print(\"This model with oversampled data also ends up with bad scores\")"
   ]
  },
  {
   "cell_type": "code",
   "execution_count": 472,
   "metadata": {},
   "outputs": [
    {
     "data": {
      "image/png": "[encoded data removed]",
      "text/plain": [
       "<Figure size 432x288 with 1 Axes>"
      ]
     },
     "metadata": {
      "needs_background": "light"
     },
     "output_type": "display_data"
    }
   ],
   "source": [
    "proba = LR2.predict_proba(X_test)\n",
    "pred_proba = proba[:,1]\n",
    "fpr, tpr, threshold = metrics.roc_curve(y_test, pred_proba)\n",
    "roc_auc_rfo = metrics.auc(fpr, tpr)\n",
    "plt.plot(fpr, tpr, label='RF over sampled (AUC = %0.2f)' % roc_auc_rfo)\n",
    "plt.plot([0, 1], [0, 1],'r--')\n",
    "plt.xlim([-0.02, 1.0])\n",
    "plt.ylim([0.0, 1.05])\n",
    "plt.xlabel('False Positive Rate')\n",
    "plt.ylabel('True Positive Rate')\n",
    "plt.title('Receiver operating characteristic')\n",
    "plt.legend(loc=\"lower right\")\n",
    "plt.show()"
   ]
  },
  {
   "cell_type": "code",
   "execution_count": 477,
   "metadata": {},
   "outputs": [
    {
     "name": "stdout",
     "output_type": "stream",
     "text": [
      "              precision    recall  f1-score   support\n",
      "\n",
      "         0.0       0.08      0.66      0.14        29\n",
      "         1.0       0.96      0.50      0.65       442\n",
      "\n",
      "    accuracy                           0.51       471\n",
      "   macro avg       0.52      0.58      0.40       471\n",
      "weighted avg       0.90      0.51      0.62       471\n",
      "\n"
     ]
    }
   ],
   "source": [
    "Logit_oversampling = roc_auc_rfo\n",
    "new_pred = np.where(proba[:,1]>0.65,1,0)\n",
    "print(classification_report(y_test,new_pred))"
   ]
  },
  {
   "cell_type": "code",
   "execution_count": null,
   "metadata": {},
   "outputs": [],
   "source": []
  },
  {
   "cell_type": "code",
   "execution_count": 647,
   "metadata": {},
   "outputs": [
    {
     "name": "stdout",
     "output_type": "stream",
     "text": [
      "              precision    recall  f1-score   support\n",
      "\n",
      "         0.0       0.08      0.45      0.13        29\n",
      "         1.0       0.95      0.66      0.78       442\n",
      "\n",
      "    accuracy                           0.64       471\n",
      "   macro avg       0.51      0.55      0.45       471\n",
      "weighted avg       0.89      0.64      0.74       471\n",
      "\n",
      "\n",
      "\n",
      "[[ 13  16]\n",
      " [152 290]]\n",
      "\n",
      "\n",
      "This model with SMOTE balanced data also ends up with bad scores but has few True Positives predicted.\n"
     ]
    }
   ],
   "source": [
    "LR3 = LogisticRegression()\n",
    "LR3.fit(X_train_SM,y_train_SM)\n",
    "predLR3 = LR3.predict(X_test)\n",
    "\n",
    "print(classification_report(y_test,predLR3))\n",
    "print('\\n')\n",
    "print(confusion_matrix(y_test,predLR3))\n",
    "print('\\n')\n",
    "print(\"This model with SMOTE balanced data also ends up with bad scores but has few True Positives predicted.\")"
   ]
  },
  {
   "cell_type": "code",
   "execution_count": 648,
   "metadata": {},
   "outputs": [
    {
     "data": {
      "image/png": "[encoded data removed]",
      "text/plain": [
       "<Figure size 432x288 with 1 Axes>"
      ]
     },
     "metadata": {
      "needs_background": "light"
     },
     "output_type": "display_data"
    }
   ],
   "source": [
    "proba = LR3.predict_proba(X_test)\n",
    "pred_proba = proba[:,1]\n",
    "fpr, tpr, threshold = metrics.roc_curve(y_test, pred_proba)\n",
    "roc_auc_rfo = metrics.auc(fpr, tpr)\n",
    "plt.plot(fpr, tpr, label='RF over sampled (AUC = %0.2f)' % roc_auc_rfo)\n",
    "plt.plot([0, 1], [0, 1],'r--')\n",
    "plt.xlim([-0.02, 1.0])\n",
    "plt.ylim([0.0, 1.05])\n",
    "plt.xlabel('False Positive Rate')\n",
    "plt.ylabel('True Positive Rate')\n",
    "plt.title('Receiver operating characteristic')\n",
    "plt.legend(loc=\"lower right\")\n",
    "plt.show()"
   ]
  },
  {
   "cell_type": "code",
   "execution_count": 651,
   "metadata": {},
   "outputs": [
    {
     "name": "stdout",
     "output_type": "stream",
     "text": [
      "              precision    recall  f1-score   support\n",
      "\n",
      "         0.0       0.08      0.45      0.13        29\n",
      "         1.0       0.95      0.66      0.78       442\n",
      "\n",
      "    accuracy                           0.64       471\n",
      "   macro avg       0.51      0.55      0.45       471\n",
      "weighted avg       0.89      0.64      0.74       471\n",
      "\n"
     ]
    }
   ],
   "source": [
    "Logit_SM_oversampling = roc_auc_rfo\n",
    "new_pred = np.where(proba[:,1]>0.50,1,0)\n",
    "print(classification_report(y_test,new_pred))"
   ]
  },
  {
   "cell_type": "code",
   "execution_count": 652,
   "metadata": {},
   "outputs": [
    {
     "data": {
      "text/plain": [
       "0.5606958963956936"
      ]
     },
     "execution_count": 652,
     "metadata": {},
     "output_type": "execute_result"
    }
   ],
   "source": []
  },
  {
   "cell_type": "markdown",
   "metadata": {},
   "source": [
    "### 2. SVC - Support Vector Classifier"
   ]
  },
  {
   "cell_type": "code",
   "execution_count": 486,
   "metadata": {},
   "outputs": [
    {
     "name": "stdout",
     "output_type": "stream",
     "text": [
      "              precision    recall  f1-score   support\n",
      "\n",
      "         0.0       0.00      0.00      0.00        29\n",
      "         1.0       0.94      1.00      0.97       442\n",
      "\n",
      "    accuracy                           0.94       471\n",
      "   macro avg       0.47      0.50      0.48       471\n",
      "weighted avg       0.88      0.94      0.91       471\n",
      "\n",
      "\n",
      "\n",
      "[[  0  29]\n",
      " [  0 442]]\n",
      "\n",
      "\n",
      "This model definetly does not survives as there is a huge imbalanced dataset\n"
     ]
    }
   ],
   "source": [
    "svc1 = SVC()\n",
    "svc1.fit(X_train,y_train)\n",
    "predsvc1 = svc1.predict(X_test)\n",
    "\n",
    "print(classification_report(y_test,predsvc1))\n",
    "print('\\n')\n",
    "print(confusion_matrix(y_test,predsvc1))\n",
    "print('\\n')\n",
    "print(\"This model definetly does not survives as there is a huge imbalanced dataset\")"
   ]
  },
  {
   "cell_type": "code",
   "execution_count": null,
   "metadata": {},
   "outputs": [],
   "source": []
  },
  {
   "cell_type": "code",
   "execution_count": null,
   "metadata": {},
   "outputs": [],
   "source": []
  },
  {
   "cell_type": "code",
   "execution_count": 487,
   "metadata": {},
   "outputs": [
    {
     "name": "stdout",
     "output_type": "stream",
     "text": [
      "              precision    recall  f1-score   support\n",
      "\n",
      "         0.0       0.07      0.28      0.12        29\n",
      "         1.0       0.94      0.77      0.85       442\n",
      "\n",
      "    accuracy                           0.74       471\n",
      "   macro avg       0.51      0.52      0.48       471\n",
      "weighted avg       0.89      0.74      0.80       471\n",
      "\n",
      "\n",
      "\n",
      "[[  8  21]\n",
      " [101 341]]\n",
      "\n",
      "\n",
      "This model has identified few True positives but has more False Negatives\n"
     ]
    }
   ],
   "source": [
    "svc2 = SVC()\n",
    "svc2.fit(X_train_OS,y_train_OS)\n",
    "predsvc2 = svc2.predict(X_test)\n",
    "\n",
    "print(classification_report(y_test,predsvc2))\n",
    "print('\\n')\n",
    "print(confusion_matrix(y_test,predsvc2))\n",
    "print('\\n')\n",
    "print(\"This model has identified few True positives but has more False Negatives\")"
   ]
  },
  {
   "cell_type": "code",
   "execution_count": 488,
   "metadata": {},
   "outputs": [
    {
     "name": "stdout",
     "output_type": "stream",
     "text": [
      "              precision    recall  f1-score   support\n",
      "\n",
      "         0.0       0.05      0.24      0.09        29\n",
      "         1.0       0.94      0.73      0.82       442\n",
      "\n",
      "    accuracy                           0.70       471\n",
      "   macro avg       0.50      0.48      0.45       471\n",
      "weighted avg       0.88      0.70      0.77       471\n",
      "\n",
      "\n",
      "\n",
      "[[  7  22]\n",
      " [121 321]]\n",
      "\n",
      "\n",
      "This model has identified few additional True positives but has more False Negatives\n"
     ]
    }
   ],
   "source": [
    "svc3 = SVC()\n",
    "svc3.fit(X_train_SM,y_train_SM)\n",
    "predsvc3 = svc3.predict(X_test)\n",
    "\n",
    "print(classification_report(y_test,predsvc3))\n",
    "print('\\n')\n",
    "print(confusion_matrix(y_test,predsvc3))\n",
    "print('\\n')\n",
    "print(\"This model has identified few additional True positives but has more False Negatives\")"
   ]
  },
  {
   "cell_type": "markdown",
   "metadata": {},
   "source": [
    "### 3. Naive Bayes classifier"
   ]
  },
  {
   "cell_type": "code",
   "execution_count": 218,
   "metadata": {},
   "outputs": [
    {
     "name": "stdout",
     "output_type": "stream",
     "text": [
      "              precision    recall  f1-score   support\n",
      "\n",
      "         0.0       0.06      0.86      0.11        29\n",
      "         1.0       0.94      0.13      0.23       442\n",
      "\n",
      "    accuracy                           0.18       471\n",
      "   macro avg       0.50      0.50      0.17       471\n",
      "weighted avg       0.88      0.18      0.22       471\n",
      "\n",
      "\n",
      "\n",
      "[[ 25   4]\n",
      " [384  58]]\n",
      "\n",
      "\n",
      "This model has identified few additional True positives but has more False Negatives\n"
     ]
    }
   ],
   "source": [
    "NB1 = GaussianNB()\n",
    "NB1.fit(X_train,y_train)\n",
    "predNB1 = NB1.predict(X_test)\n",
    "\n",
    "print(classification_report(y_test,predNB1))\n",
    "print('\\n')\n",
    "print(confusion_matrix(y_test,predNB1))\n",
    "print('\\n')\n",
    "print(\"This model has identified few additional True positives but has more False Negatives\")"
   ]
  },
  {
   "cell_type": "code",
   "execution_count": 219,
   "metadata": {},
   "outputs": [
    {
     "name": "stdout",
     "output_type": "stream",
     "text": [
      "              precision    recall  f1-score   support\n",
      "\n",
      "         0.0       0.06      0.86      0.11        29\n",
      "         1.0       0.93      0.11      0.20       442\n",
      "\n",
      "    accuracy                           0.16       471\n",
      "   macro avg       0.49      0.49      0.16       471\n",
      "weighted avg       0.87      0.16      0.20       471\n",
      "\n",
      "\n",
      "\n",
      "[[ 25   4]\n",
      " [392  50]]\n",
      "\n",
      "\n"
     ]
    }
   ],
   "source": [
    "NB2 = GaussianNB()\n",
    "NB2.fit(X_train_OS,y_train_OS)\n",
    "predNB2 = NB2.predict(X_test)\n",
    "\n",
    "print(classification_report(y_test,predNB2))\n",
    "print('\\n')\n",
    "print(confusion_matrix(y_test,predNB2))\n",
    "print('\\n')\n"
   ]
  },
  {
   "cell_type": "code",
   "execution_count": 220,
   "metadata": {},
   "outputs": [
    {
     "name": "stdout",
     "output_type": "stream",
     "text": [
      "              precision    recall  f1-score   support\n",
      "\n",
      "         0.0       0.06      0.86      0.12        29\n",
      "         1.0       0.95      0.16      0.27       442\n",
      "\n",
      "    accuracy                           0.20       471\n",
      "   macro avg       0.50      0.51      0.19       471\n",
      "weighted avg       0.89      0.20      0.26       471\n",
      "\n",
      "\n",
      "\n",
      "[[ 25   4]\n",
      " [372  70]]\n",
      "\n",
      "\n"
     ]
    }
   ],
   "source": [
    "NB3 = GaussianNB()\n",
    "NB3.fit(X_train_SM,y_train_SM)\n",
    "predNB3 = NB3.predict(X_test)\n",
    "\n",
    "print(classification_report(y_test,predNB3))\n",
    "print('\\n')\n",
    "print(confusion_matrix(y_test,predNB3))\n",
    "print('\\n')\n"
   ]
  },
  {
   "cell_type": "markdown",
   "metadata": {},
   "source": [
    "### 4. Decision Tree Classifier"
   ]
  },
  {
   "cell_type": "code",
   "execution_count": 489,
   "metadata": {},
   "outputs": [
    {
     "name": "stdout",
     "output_type": "stream",
     "text": [
      "              precision    recall  f1-score   support\n",
      "\n",
      "         0.0       0.14      0.10      0.12        29\n",
      "         1.0       0.94      0.96      0.95       442\n",
      "\n",
      "    accuracy                           0.90       471\n",
      "   macro avg       0.54      0.53      0.53       471\n",
      "weighted avg       0.89      0.90      0.90       471\n",
      "\n",
      "\n",
      "\n",
      "[[  3  26]\n",
      " [ 19 423]]\n",
      "\n",
      "\n"
     ]
    }
   ],
   "source": [
    "#For decision tree classifier we have to apply hyper parameter tuning as it may lead to overfitting, we choose only \n",
    "# max_depth pruning as hyper parameter.\n",
    "\n",
    "DTC1 = DecisionTreeClassifier()\n",
    "param_grid = {'max_depth':[5,10,15,20,25,30,35,40]}\n",
    "skf = StratifiedKFold(n_splits=5)\n",
    "gcv1 = GridSearchCV(estimator=DTC1,param_grid = param_grid,cv=skf)\n",
    "\n",
    "gcv1.fit(X_train,y_train)\n",
    "predDTC1 = gcv1.predict(X_test)\n",
    "\n",
    "print(classification_report(y_test,predDTC1))\n",
    "print('\\n')\n",
    "print(confusion_matrix(y_test,predDTC1))\n",
    "print('\\n')\n"
   ]
  },
  {
   "cell_type": "code",
   "execution_count": 490,
   "metadata": {},
   "outputs": [
    {
     "data": {
      "image/png": "[encoded data removed]",
      "text/plain": [
       "<Figure size 432x288 with 1 Axes>"
      ]
     },
     "metadata": {
      "needs_background": "light"
     },
     "output_type": "display_data"
    }
   ],
   "source": [
    "proba = gcv1.predict_proba(X_test)\n",
    "pred_proba = proba[:,1]\n",
    "fpr, tpr, threshold = metrics.roc_curve(y_test, pred_proba)\n",
    "roc_auc_rfo = metrics.auc(fpr, tpr)\n",
    "plt.plot(fpr, tpr, label='RF over sampled (AUC = %0.2f)' % roc_auc_rfo)\n",
    "plt.plot([0, 1], [0, 1],'r--')\n",
    "plt.xlim([-0.02, 1.0])\n",
    "plt.ylim([0.0, 1.05])\n",
    "plt.xlabel('False Positive Rate')\n",
    "plt.ylabel('True Positive Rate')\n",
    "plt.title('Receiver operating characteristic')\n",
    "plt.legend(loc=\"lower right\")\n",
    "plt.show()"
   ]
  },
  {
   "cell_type": "code",
   "execution_count": 491,
   "metadata": {},
   "outputs": [
    {
     "name": "stdout",
     "output_type": "stream",
     "text": [
      "              precision    recall  f1-score   support\n",
      "\n",
      "         0.0       0.14      0.10      0.12        29\n",
      "         1.0       0.94      0.96      0.95       442\n",
      "\n",
      "    accuracy                           0.90       471\n",
      "   macro avg       0.54      0.53      0.53       471\n",
      "weighted avg       0.89      0.90      0.90       471\n",
      "\n"
     ]
    }
   ],
   "source": [
    "DTC_nosampling = roc_auc_rfo\n",
    "new_pred = np.where(proba[:,1]>0.43,1,0)\n",
    "print(classification_report(y_test,new_pred))"
   ]
  },
  {
   "cell_type": "code",
   "execution_count": null,
   "metadata": {},
   "outputs": [],
   "source": []
  },
  {
   "cell_type": "code",
   "execution_count": 494,
   "metadata": {},
   "outputs": [
    {
     "name": "stdout",
     "output_type": "stream",
     "text": [
      "              precision    recall  f1-score   support\n",
      "\n",
      "         0.0       0.16      0.21      0.18        29\n",
      "         1.0       0.95      0.93      0.94       442\n",
      "\n",
      "    accuracy                           0.89       471\n",
      "   macro avg       0.55      0.57      0.56       471\n",
      "weighted avg       0.90      0.89      0.89       471\n",
      "\n",
      "\n",
      "\n",
      "[[  6  23]\n",
      " [ 31 411]]\n",
      "\n",
      "\n"
     ]
    }
   ],
   "source": [
    "DTC2 = DecisionTreeClassifier()\n",
    "param_grid = {'max_depth':[5,10,15,20,25,30,35,40]}\n",
    "skf2 = StratifiedKFold(n_splits=5)\n",
    "gcv2 = GridSearchCV(estimator=DTC2,param_grid = param_grid,cv=skf2)\n",
    "\n",
    "gcv2.fit(X_train_OS,y_train_OS)\n",
    "predDTC2 = gcv2.predict(X_test)\n",
    "\n",
    "print(classification_report(y_test,predDTC2))\n",
    "print('\\n')\n",
    "print(confusion_matrix(y_test,predDTC2))\n",
    "print('\\n')\n"
   ]
  },
  {
   "cell_type": "code",
   "execution_count": 495,
   "metadata": {},
   "outputs": [
    {
     "data": {
      "image/png": "[encoded data removed]",
      "text/plain": [
       "<Figure size 432x288 with 1 Axes>"
      ]
     },
     "metadata": {
      "needs_background": "light"
     },
     "output_type": "display_data"
    }
   ],
   "source": [
    "proba = gcv2.predict_proba(X_test)\n",
    "pred_proba = proba[:,1]\n",
    "fpr, tpr, threshold = metrics.roc_curve(y_test, pred_proba)\n",
    "roc_auc_rfo = metrics.auc(fpr, tpr)\n",
    "plt.plot(fpr, tpr, label='RF over sampled (AUC = %0.2f)' % roc_auc_rfo)\n",
    "plt.plot([0, 1], [0, 1],'r--')\n",
    "plt.xlim([-0.02, 1.0])\n",
    "plt.ylim([0.0, 1.05])\n",
    "plt.xlabel('False Positive Rate')\n",
    "plt.ylabel('True Positive Rate')\n",
    "plt.title('Receiver operating characteristic')\n",
    "plt.legend(loc=\"lower right\")\n",
    "plt.show()"
   ]
  },
  {
   "cell_type": "code",
   "execution_count": 496,
   "metadata": {},
   "outputs": [
    {
     "name": "stdout",
     "output_type": "stream",
     "text": [
      "              precision    recall  f1-score   support\n",
      "\n",
      "         0.0       0.16      0.21      0.18        29\n",
      "         1.0       0.95      0.93      0.94       442\n",
      "\n",
      "    accuracy                           0.89       471\n",
      "   macro avg       0.55      0.57      0.56       471\n",
      "weighted avg       0.90      0.89      0.89       471\n",
      "\n"
     ]
    }
   ],
   "source": [
    "DTC_oversampling = roc_auc_rfo\n",
    "new_pred = np.where(proba[:,1]>0.45,1,0)\n",
    "print(classification_report(y_test,new_pred))"
   ]
  },
  {
   "cell_type": "code",
   "execution_count": 499,
   "metadata": {},
   "outputs": [],
   "source": [
    "# From here"
   ]
  },
  {
   "cell_type": "code",
   "execution_count": 500,
   "metadata": {},
   "outputs": [
    {
     "name": "stdout",
     "output_type": "stream",
     "text": [
      "              precision    recall  f1-score   support\n",
      "\n",
      "         0.0       0.11      0.31      0.17        29\n",
      "         1.0       0.95      0.84      0.89       442\n",
      "\n",
      "    accuracy                           0.81       471\n",
      "   macro avg       0.53      0.57      0.53       471\n",
      "weighted avg       0.90      0.81      0.85       471\n",
      "\n",
      "\n",
      "\n",
      "[[  9  20]\n",
      " [ 71 371]]\n",
      "\n",
      "\n"
     ]
    }
   ],
   "source": [
    "DTC3 = DecisionTreeClassifier()\n",
    "param_grid = {'max_depth':[5,10,15,20,25,30,35,40]}\n",
    "skf3 = StratifiedKFold(n_splits=5)\n",
    "gcv3 = GridSearchCV(estimator=DTC3,param_grid = param_grid,cv=skf3)\n",
    "\n",
    "gcv3.fit(X_train_SM,y_train_SM)\n",
    "predDTC3 = gcv3.predict(X_test)\n",
    "\n",
    "print(classification_report(y_test,predDTC3))\n",
    "print('\\n')\n",
    "print(confusion_matrix(y_test,predDTC3))\n",
    "print('\\n')\n"
   ]
  },
  {
   "cell_type": "code",
   "execution_count": 501,
   "metadata": {},
   "outputs": [
    {
     "data": {
      "image/png": "[encoded data removed]",
      "text/plain": [
       "<Figure size 432x288 with 1 Axes>"
      ]
     },
     "metadata": {
      "needs_background": "light"
     },
     "output_type": "display_data"
    }
   ],
   "source": [
    "proba = gcv3.predict_proba(X_test)\n",
    "pred_proba = proba[:,1]\n",
    "fpr, tpr, threshold = metrics.roc_curve(y_test, pred_proba)\n",
    "roc_auc_rfo = metrics.auc(fpr, tpr)\n",
    "plt.plot(fpr, tpr, label='RF over sampled (AUC = %0.2f)' % roc_auc_rfo)\n",
    "plt.plot([0, 1], [0, 1],'r--')\n",
    "plt.xlim([-0.02, 1.0])\n",
    "plt.ylim([0.0, 1.05])\n",
    "plt.xlabel('False Positive Rate')\n",
    "plt.ylabel('True Positive Rate')\n",
    "plt.title('Receiver operating characteristic')\n",
    "plt.legend(loc=\"lower right\")\n",
    "plt.show()"
   ]
  },
  {
   "cell_type": "code",
   "execution_count": 502,
   "metadata": {},
   "outputs": [
    {
     "name": "stdout",
     "output_type": "stream",
     "text": [
      "              precision    recall  f1-score   support\n",
      "\n",
      "         0.0       0.11      0.31      0.17        29\n",
      "         1.0       0.95      0.84      0.89       442\n",
      "\n",
      "    accuracy                           0.81       471\n",
      "   macro avg       0.53      0.57      0.53       471\n",
      "weighted avg       0.90      0.81      0.85       471\n",
      "\n"
     ]
    }
   ],
   "source": [
    "DTC_SMOTE = roc_auc_rfo\n",
    "new_pred = np.where(proba[:,1]>0.44,1,0)\n",
    "print(classification_report(y_test,new_pred))"
   ]
  },
  {
   "cell_type": "markdown",
   "metadata": {},
   "source": [
    "### 5. Random Forest Classifier"
   ]
  },
  {
   "cell_type": "code",
   "execution_count": 503,
   "metadata": {},
   "outputs": [
    {
     "name": "stdout",
     "output_type": "stream",
     "text": [
      "              precision    recall  f1-score   support\n",
      "\n",
      "         0.0       0.00      0.00      0.00        29\n",
      "         1.0       0.94      1.00      0.97       442\n",
      "\n",
      "    accuracy                           0.94       471\n",
      "   macro avg       0.47      0.50      0.48       471\n",
      "weighted avg       0.88      0.94      0.91       471\n",
      "\n",
      "\n",
      "\n",
      "[[  0  29]\n",
      " [  1 441]]\n",
      "\n",
      "\n"
     ]
    }
   ],
   "source": [
    "rfc1 = RandomForestClassifier()\n",
    "param_grid = {'n_estimators':[100,200,300,400]}\n",
    "skfrfc1 = StratifiedKFold(n_splits=5)\n",
    "gcv4 = GridSearchCV(estimator=rfc1,param_grid = param_grid,cv=skfrfc1)\n",
    "gcv4.fit(X_train,y_train)\n",
    "predrfc1 = gcv4.predict(X_test)\n",
    "\n",
    "print(classification_report(y_test,predrfc1))\n",
    "print('\\n')\n",
    "print(confusion_matrix(y_test,predrfc1))\n",
    "print('\\n')"
   ]
  },
  {
   "cell_type": "code",
   "execution_count": 504,
   "metadata": {},
   "outputs": [
    {
     "data": {
      "image/png": "[encoded data removed]",
      "text/plain": [
       "<Figure size 432x288 with 1 Axes>"
      ]
     },
     "metadata": {
      "needs_background": "light"
     },
     "output_type": "display_data"
    }
   ],
   "source": [
    "proba = gcv4.predict_proba(X_test)\n",
    "pred_proba = proba[:,1]\n",
    "fpr, tpr, threshold = metrics.roc_curve(y_test, pred_proba)\n",
    "roc_auc_rfo = metrics.auc(fpr, tpr)\n",
    "plt.plot(fpr, tpr, label='RF over sampled (AUC = %0.2f)' % roc_auc_rfo)\n",
    "plt.plot([0, 1], [0, 1],'r--')\n",
    "plt.xlim([-0.02, 1.0])\n",
    "plt.ylim([0.0, 1.05])\n",
    "plt.xlabel('False Positive Rate')\n",
    "plt.ylabel('True Positive Rate')\n",
    "plt.title('Receiver operating characteristic')\n",
    "plt.legend(loc=\"lower right\")\n",
    "plt.show()"
   ]
  },
  {
   "cell_type": "code",
   "execution_count": null,
   "metadata": {},
   "outputs": [],
   "source": []
  },
  {
   "cell_type": "code",
   "execution_count": 505,
   "metadata": {},
   "outputs": [
    {
     "name": "stdout",
     "output_type": "stream",
     "text": [
      "              precision    recall  f1-score   support\n",
      "\n",
      "         0.0       0.00      0.00      0.00        29\n",
      "         1.0       0.94      1.00      0.97       442\n",
      "\n",
      "    accuracy                           0.94       471\n",
      "   macro avg       0.47      0.50      0.48       471\n",
      "weighted avg       0.88      0.94      0.91       471\n",
      "\n"
     ]
    }
   ],
   "source": [
    "RFC_nosampling = roc_auc_rfo\n",
    "new_pred = np.where(proba[:,1]>0.43,1,0)\n",
    "print(classification_report(y_test,new_pred))"
   ]
  },
  {
   "cell_type": "code",
   "execution_count": 506,
   "metadata": {},
   "outputs": [
    {
     "name": "stdout",
     "output_type": "stream",
     "text": [
      "              precision    recall  f1-score   support\n",
      "\n",
      "         0.0       0.00      0.00      0.00        29\n",
      "         1.0       0.94      1.00      0.97       442\n",
      "\n",
      "    accuracy                           0.94       471\n",
      "   macro avg       0.47      0.50      0.48       471\n",
      "weighted avg       0.88      0.94      0.91       471\n",
      "\n",
      "\n",
      "\n",
      "[[  0  29]\n",
      " [  0 442]]\n",
      "\n",
      "\n"
     ]
    }
   ],
   "source": [
    "rfc2 = RandomForestClassifier()\n",
    "param_grid = {'n_estimators':[100,200,300,400]}\n",
    "skfrfc2 = StratifiedKFold(n_splits=5)\n",
    "gcv5 = GridSearchCV(estimator=rfc2,param_grid = param_grid,cv=skfrfc2)\n",
    "gcv5.fit(X_train_OS,y_train_OS)\n",
    "predrfc2 = gcv5.predict(X_test)\n",
    "\n",
    "print(classification_report(y_test,predrfc2))\n",
    "print('\\n')\n",
    "print(confusion_matrix(y_test,predrfc2))\n",
    "print('\\n')"
   ]
  },
  {
   "cell_type": "code",
   "execution_count": 507,
   "metadata": {},
   "outputs": [
    {
     "data": {
      "image/png": "[encoded data removed]",
      "text/plain": [
       "<Figure size 432x288 with 1 Axes>"
      ]
     },
     "metadata": {
      "needs_background": "light"
     },
     "output_type": "display_data"
    }
   ],
   "source": [
    "proba = gcv5.predict_proba(X_test)\n",
    "pred_proba = proba[:,1]\n",
    "fpr, tpr, threshold = metrics.roc_curve(y_test, pred_proba)\n",
    "roc_auc_rfo = metrics.auc(fpr, tpr)\n",
    "plt.plot(fpr, tpr, label='RF over sampled (AUC = %0.2f)' % roc_auc_rfo)\n",
    "plt.plot([0, 1], [0, 1],'r--')\n",
    "plt.xlim([-0.02, 1.0])\n",
    "plt.ylim([0.0, 1.05])\n",
    "plt.xlabel('False Positive Rate')\n",
    "plt.ylabel('True Positive Rate')\n",
    "plt.title('Receiver operating characteristic')\n",
    "plt.legend(loc=\"lower right\")\n",
    "plt.show()"
   ]
  },
  {
   "cell_type": "code",
   "execution_count": 508,
   "metadata": {},
   "outputs": [
    {
     "name": "stdout",
     "output_type": "stream",
     "text": [
      "              precision    recall  f1-score   support\n",
      "\n",
      "         0.0       0.27      0.10      0.15        29\n",
      "         1.0       0.94      0.98      0.96       442\n",
      "\n",
      "    accuracy                           0.93       471\n",
      "   macro avg       0.61      0.54      0.56       471\n",
      "weighted avg       0.90      0.93      0.91       471\n",
      "\n"
     ]
    }
   ],
   "source": [
    "RFC_oversampling = roc_auc_rfo\n",
    "new_pred = np.where(proba[:,1]>0.71,1,0)\n",
    "print(classification_report(y_test,new_pred))"
   ]
  },
  {
   "cell_type": "code",
   "execution_count": 509,
   "metadata": {},
   "outputs": [
    {
     "name": "stdout",
     "output_type": "stream",
     "text": [
      "              precision    recall  f1-score   support\n",
      "\n",
      "         0.0       0.00      0.00      0.00        29\n",
      "         1.0       0.94      1.00      0.97       442\n",
      "\n",
      "    accuracy                           0.93       471\n",
      "   macro avg       0.47      0.50      0.48       471\n",
      "weighted avg       0.88      0.93      0.91       471\n",
      "\n",
      "\n",
      "\n",
      "[[  0  29]\n",
      " [  2 440]]\n",
      "\n",
      "\n"
     ]
    }
   ],
   "source": [
    "rfc3 = RandomForestClassifier()\n",
    "param_grid = {'n_estimators':[100,200,300,400]}\n",
    "skfrfc3 = StratifiedKFold(n_splits=5)\n",
    "gcv6 = GridSearchCV(estimator=rfc3,param_grid = param_grid,cv=skfrfc3)\n",
    "gcv6.fit(X_train_SM,y_train_SM)\n",
    "predrfc3 = gcv6.predict(X_test)\n",
    "\n",
    "print(classification_report(y_test,predrfc3))\n",
    "print('\\n')\n",
    "print(confusion_matrix(y_test,predrfc3))\n",
    "print('\\n')"
   ]
  },
  {
   "cell_type": "code",
   "execution_count": 510,
   "metadata": {},
   "outputs": [
    {
     "data": {
      "image/png": "[encoded data removed]",
      "text/plain": [
       "<Figure size 432x288 with 1 Axes>"
      ]
     },
     "metadata": {
      "needs_background": "light"
     },
     "output_type": "display_data"
    }
   ],
   "source": [
    "proba = gcv6.predict_proba(X_test)\n",
    "pred_proba = proba[:,1]\n",
    "fpr, tpr, threshold = metrics.roc_curve(y_test, pred_proba)\n",
    "roc_auc_rfo = metrics.auc(fpr, tpr)\n",
    "plt.plot(fpr, tpr, label='RF over sampled (AUC = %0.2f)' % roc_auc_rfo)\n",
    "plt.plot([0, 1], [0, 1],'r--')\n",
    "plt.xlim([-0.02, 1.0])\n",
    "plt.ylim([0.0, 1.05])\n",
    "plt.xlabel('False Positive Rate')\n",
    "plt.ylabel('True Positive Rate')\n",
    "plt.title('Receiver operating characteristic')\n",
    "plt.legend(loc=\"lower right\")\n",
    "plt.show()"
   ]
  },
  {
   "cell_type": "code",
   "execution_count": 511,
   "metadata": {},
   "outputs": [
    {
     "name": "stdout",
     "output_type": "stream",
     "text": [
      "              precision    recall  f1-score   support\n",
      "\n",
      "         0.0       0.15      0.41      0.22        29\n",
      "         1.0       0.96      0.85      0.90       442\n",
      "\n",
      "    accuracy                           0.82       471\n",
      "   macro avg       0.55      0.63      0.56       471\n",
      "weighted avg       0.91      0.82      0.86       471\n",
      "\n"
     ]
    }
   ],
   "source": [
    "RFC_SMOTE = roc_auc_rfo\n",
    "new_pred = np.where(proba[:,1]>0.73,1,0)\n",
    "print(classification_report(y_test,new_pred))"
   ]
  },
  {
   "cell_type": "markdown",
   "metadata": {},
   "source": [
    "### 6. Adaptive Boosting"
   ]
  },
  {
   "cell_type": "code",
   "execution_count": 512,
   "metadata": {},
   "outputs": [
    {
     "name": "stdout",
     "output_type": "stream",
     "text": [
      "              precision    recall  f1-score   support\n",
      "\n",
      "         0.0       0.00      0.00      0.00        29\n",
      "         1.0       0.94      0.97      0.95       442\n",
      "\n",
      "    accuracy                           0.91       471\n",
      "   macro avg       0.47      0.48      0.48       471\n",
      "weighted avg       0.88      0.91      0.89       471\n",
      "\n",
      "\n",
      "\n",
      "[[  0  29]\n",
      " [ 15 427]]\n",
      "\n",
      "\n"
     ]
    }
   ],
   "source": [
    "ada = AdaBoostClassifier(n_estimators=100)\n",
    "ada.fit(X_train,y_train)\n",
    "predada1 = ada.predict(X_test)\n",
    "print(classification_report(y_test,predada1))\n",
    "print('\\n')\n",
    "print(confusion_matrix(y_test,predada1))\n",
    "print('\\n')"
   ]
  },
  {
   "cell_type": "code",
   "execution_count": 513,
   "metadata": {},
   "outputs": [
    {
     "name": "stdout",
     "output_type": "stream",
     "text": [
      "              precision    recall  f1-score   support\n",
      "\n",
      "         0.0       0.18      0.24      0.21        29\n",
      "         1.0       0.95      0.93      0.94       442\n",
      "\n",
      "    accuracy                           0.89       471\n",
      "   macro avg       0.56      0.58      0.57       471\n",
      "weighted avg       0.90      0.89      0.89       471\n",
      "\n",
      "\n",
      "\n",
      "[[  7  22]\n",
      " [ 32 410]]\n",
      "\n",
      "\n"
     ]
    }
   ],
   "source": [
    "ada2 = AdaBoostClassifier(n_estimators=100)\n",
    "ada2.fit(X_train_OS,y_train_OS)\n",
    "predada2 = ada2.predict(X_test)\n",
    "print(classification_report(y_test,predada2))\n",
    "print('\\n')\n",
    "print(confusion_matrix(y_test,predada2))\n",
    "print('\\n')"
   ]
  },
  {
   "cell_type": "code",
   "execution_count": 514,
   "metadata": {},
   "outputs": [
    {
     "name": "stdout",
     "output_type": "stream",
     "text": [
      "              precision    recall  f1-score   support\n",
      "\n",
      "         0.0       0.18      0.24      0.21        29\n",
      "         1.0       0.95      0.93      0.94       442\n",
      "\n",
      "    accuracy                           0.89       471\n",
      "   macro avg       0.56      0.58      0.57       471\n",
      "weighted avg       0.90      0.89      0.89       471\n",
      "\n",
      "\n",
      "\n",
      "[[  7  22]\n",
      " [ 32 410]]\n",
      "\n",
      "\n"
     ]
    }
   ],
   "source": [
    "ada3 = AdaBoostClassifier(n_estimators=100)\n",
    "ada3.fit(X_train_OS,y_train_OS)\n",
    "predada3 = ada3.predict(X_test)\n",
    "print(classification_report(y_test,predada3))\n",
    "print('\\n')\n",
    "print(confusion_matrix(y_test,predada3))\n",
    "print('\\n')"
   ]
  },
  {
   "cell_type": "markdown",
   "metadata": {},
   "source": [
    "### 7. Gradient Boosting Technique"
   ]
  },
  {
   "cell_type": "code",
   "execution_count": 515,
   "metadata": {},
   "outputs": [
    {
     "name": "stdout",
     "output_type": "stream",
     "text": [
      "              precision    recall  f1-score   support\n",
      "\n",
      "         0.0       0.12      0.03      0.05        29\n",
      "         1.0       0.94      0.98      0.96       442\n",
      "\n",
      "    accuracy                           0.93       471\n",
      "   macro avg       0.53      0.51      0.51       471\n",
      "weighted avg       0.89      0.93      0.91       471\n",
      "\n",
      "\n",
      "\n",
      "[[  1  28]\n",
      " [  7 435]]\n",
      "\n",
      "\n"
     ]
    }
   ],
   "source": [
    "Xgboost1 = GradientBoostingClassifier(n_estimators=100)\n",
    "Xgboost1.fit(X_train,y_train)\n",
    "predxg1 = Xgboost1.predict(X_test)\n",
    "print(classification_report(y_test,predxg1))\n",
    "print('\\n')\n",
    "print(confusion_matrix(y_test,predxg1))\n",
    "print('\\n')"
   ]
  },
  {
   "cell_type": "code",
   "execution_count": 516,
   "metadata": {},
   "outputs": [
    {
     "name": "stdout",
     "output_type": "stream",
     "text": [
      "              precision    recall  f1-score   support\n",
      "\n",
      "         0.0       0.20      0.07      0.10        29\n",
      "         1.0       0.94      0.98      0.96       442\n",
      "\n",
      "    accuracy                           0.93       471\n",
      "   macro avg       0.57      0.53      0.53       471\n",
      "weighted avg       0.90      0.93      0.91       471\n",
      "\n",
      "\n",
      "\n",
      "[[  2  27]\n",
      " [  8 434]]\n",
      "\n",
      "\n"
     ]
    }
   ],
   "source": [
    "Xgboost2 = GradientBoostingClassifier(n_estimators=100)\n",
    "Xgboost2.fit(X_train_OS,y_train_OS)\n",
    "predxg2 = Xgboost2.predict(X_test)\n",
    "print(classification_report(y_test,predxg2))\n",
    "print('\\n')\n",
    "print(confusion_matrix(y_test,predxg2))\n",
    "print('\\n')"
   ]
  },
  {
   "cell_type": "code",
   "execution_count": 517,
   "metadata": {},
   "outputs": [
    {
     "name": "stdout",
     "output_type": "stream",
     "text": [
      "              precision    recall  f1-score   support\n",
      "\n",
      "         0.0       0.22      0.14      0.17        29\n",
      "         1.0       0.94      0.97      0.96       442\n",
      "\n",
      "    accuracy                           0.92       471\n",
      "   macro avg       0.58      0.55      0.56       471\n",
      "weighted avg       0.90      0.92      0.91       471\n",
      "\n",
      "\n",
      "\n",
      "[[  4  25]\n",
      " [ 14 428]]\n",
      "\n",
      "\n"
     ]
    }
   ],
   "source": [
    "Xgboost3 = GradientBoostingClassifier(n_estimators=100)\n",
    "Xgboost3.fit(X_train_SM,y_train_SM)\n",
    "predxg3 = Xgboost3.predict(X_test)\n",
    "print(classification_report(y_test,predxg3))\n",
    "print('\\n')\n",
    "print(confusion_matrix(y_test,predxg3))\n",
    "print('\\n')"
   ]
  },
  {
   "cell_type": "markdown",
   "metadata": {},
   "source": [
    "## We notice that none of the above mentioned models provided a good score balancing both classes. Hence, we shall try dimensionality reduction technique on Oversampled and SMOTE balanced data and then use classification models with hyperparameter tuning."
   ]
  },
  {
   "cell_type": "code",
   "execution_count": 518,
   "metadata": {},
   "outputs": [
    {
     "data": {
      "text/plain": [
       "array([[-1.3596158 , -0.41462799,  2.62540631, ...,  4.35697965,\n",
       "        -7.22491931,  1.15896596],\n",
       "       [-0.38783176, -1.42183356,  3.4725243 , ...,  1.37394753,\n",
       "        -3.77148954,  2.38353603],\n",
       "       [-0.35683588, -3.05453625, -1.42275691, ...,  0.04567223,\n",
       "        -0.70329457,  1.69413439],\n",
       "       ...,\n",
       "       [-1.02173935, -0.79845277,  1.82571577, ...,  2.84949313,\n",
       "         1.05483212,  4.97351861],\n",
       "       [-0.29023099, -1.80168031, -0.69434225, ...,  0.33043931,\n",
       "         0.52530388,  3.03652352],\n",
       "       [ 0.56466507, -0.55473588, -1.34525523, ...,  0.24797836,\n",
       "        -1.33724558,  2.65373995]])"
      ]
     },
     "execution_count": 518,
     "metadata": {},
     "output_type": "execute_result"
    }
   ],
   "source": [
    "pca_OS = PCA(n_components=20)\n",
    "pca_SM = PCA(n_components=20)\n",
    "SS_OS = StandardScaler()\n",
    "SS_SM = StandardScaler()\n",
    "X_train_OS_pca = SS_OS.fit_transform(X_train_OS)\n",
    "X_train_SM_pca = SS_SM.fit_transform(X_train_SM)\n",
    "\n",
    "pca_OS.fit_transform(X_train_OS_pca)\n",
    "pca_SM.fit_transform(X_train_SM_pca)"
   ]
  },
  {
   "cell_type": "code",
   "execution_count": 519,
   "metadata": {},
   "outputs": [
    {
     "data": {
      "text/plain": [
       "array([29.04562476, 22.34393752, 13.0683589 , 11.98946112, 10.37390093,\n",
       "        9.87157289,  9.68666552,  8.61028149,  8.41992812,  8.17857947,\n",
       "        7.74854298,  7.02510082,  6.97986713,  6.70525241,  6.49951143,\n",
       "        6.20415627,  6.11647884,  5.96409685,  5.7865361 ,  5.45424979])"
      ]
     },
     "execution_count": 519,
     "metadata": {},
     "output_type": "execute_result"
    }
   ],
   "source": [
    "pca_OS.explained_variance_"
   ]
  },
  {
   "cell_type": "code",
   "execution_count": 520,
   "metadata": {},
   "outputs": [
    {
     "data": {
      "text/plain": [
       "array([27.02409841, 23.97066242, 13.15746976, 12.09120086, 10.50650628,\n",
       "        9.74453128,  9.19540867,  8.83047401,  8.35240772,  7.83501821,\n",
       "        7.13910266,  7.05046702,  6.82616648,  6.45685118,  6.36420191,\n",
       "        6.18062416,  5.76600287,  5.70920464,  5.62474095,  5.39176782])"
      ]
     },
     "execution_count": 520,
     "metadata": {},
     "output_type": "execute_result"
    }
   ],
   "source": [
    "pca_SM.explained_variance_"
   ]
  },
  {
   "cell_type": "code",
   "execution_count": 521,
   "metadata": {},
   "outputs": [
    {
     "data": {
      "text/plain": [
       "array([0.06400679, 0.0567747 , 0.03116357, 0.0286381 , 0.02488474,\n",
       "       0.02308   , 0.0217794 , 0.02091505, 0.01978274, 0.0185573 ,\n",
       "       0.01690902, 0.01669909, 0.01616783, 0.0152931 , 0.01507366,\n",
       "       0.01463886, 0.01365682, 0.0135223 , 0.01332224, 0.01277044])"
      ]
     },
     "execution_count": 521,
     "metadata": {},
     "output_type": "execute_result"
    }
   ],
   "source": [
    "pca_SM.explained_variance_ratio_\n",
    "\n",
    "# we notice a good amount of variance ratio explained for SMOTE balanced data when PCA components is given as 8 "
   ]
  },
  {
   "cell_type": "code",
   "execution_count": 522,
   "metadata": {},
   "outputs": [
    {
     "data": {
      "text/plain": [
       "array([0.06879479, 0.05292179, 0.03095251, 0.02839713, 0.02457067,\n",
       "       0.0233809 , 0.02294294, 0.02039352, 0.01994267, 0.01937103,\n",
       "       0.01835248, 0.01663901, 0.01653187, 0.01588144, 0.01539414,\n",
       "       0.01469459, 0.01448693, 0.01412601, 0.01370546, 0.01291843])"
      ]
     },
     "execution_count": 522,
     "metadata": {},
     "output_type": "execute_result"
    }
   ],
   "source": [
    "pca_OS.explained_variance_ratio_\n",
    "\n",
    "# we notice a good amount of variance ratio explained for Oversampleddata when PCA components is given as 9"
   ]
  },
  {
   "cell_type": "markdown",
   "metadata": {},
   "source": [
    "# 1.1 Logitstic Regression"
   ]
  },
  {
   "cell_type": "markdown",
   "metadata": {},
   "source": [
    "#### Over sampled data"
   ]
  },
  {
   "cell_type": "code",
   "execution_count": 523,
   "metadata": {},
   "outputs": [],
   "source": [
    "LG_1 = LogisticRegression()\n",
    "param_grid = {'n_jobs':[5]}\n",
    "skf = StratifiedKFold(n_splits=5)\n",
    "GSCV = GridSearchCV(estimator = LG_1,param_grid=param_grid,cv=skf)\n",
    "pipe = Pipeline([('scale',StandardScaler()),\n",
    "                 ('pca',PCA(n_components=25)),\n",
    "                 ('model',GSCV)])"
   ]
  },
  {
   "cell_type": "code",
   "execution_count": 524,
   "metadata": {},
   "outputs": [
    {
     "data": {
      "text/plain": [
       "Pipeline(steps=[('scale', StandardScaler()), ('pca', PCA(n_components=25)),\n",
       "                ('model',\n",
       "                 GridSearchCV(cv=StratifiedKFold(n_splits=5, random_state=None, shuffle=False),\n",
       "                              estimator=LogisticRegression(),\n",
       "                              param_grid={'n_jobs': [5]}))])"
      ]
     },
     "execution_count": 524,
     "metadata": {},
     "output_type": "execute_result"
    }
   ],
   "source": [
    "pipe.fit(X_train_OS,y_train_OS)"
   ]
  },
  {
   "cell_type": "code",
   "execution_count": 525,
   "metadata": {},
   "outputs": [],
   "source": [
    "pred1 = pipe.predict(X_test)"
   ]
  },
  {
   "cell_type": "code",
   "execution_count": 526,
   "metadata": {},
   "outputs": [
    {
     "name": "stdout",
     "output_type": "stream",
     "text": [
      "              precision    recall  f1-score   support\n",
      "\n",
      "         0.0       0.10      0.55      0.18        29\n",
      "         1.0       0.96      0.69      0.80       442\n",
      "\n",
      "    accuracy                           0.68       471\n",
      "   macro avg       0.53      0.62      0.49       471\n",
      "weighted avg       0.91      0.68      0.76       471\n",
      "\n"
     ]
    }
   ],
   "source": [
    "print(classification_report(y_test,pred1))"
   ]
  },
  {
   "cell_type": "code",
   "execution_count": 527,
   "metadata": {},
   "outputs": [
    {
     "data": {
      "image/png": "[encoded data removed]",
      "text/plain": [
       "<Figure size 432x288 with 1 Axes>"
      ]
     },
     "metadata": {
      "needs_background": "light"
     },
     "output_type": "display_data"
    }
   ],
   "source": [
    "proba = pipe.predict_proba(X_test)\n",
    "pred_proba = proba[:,1]\n",
    "fpr, tpr, threshold = metrics.roc_curve(y_test, pred_proba)\n",
    "roc_auc_rfo = metrics.auc(fpr, tpr)\n",
    "plt.plot(fpr, tpr, label='RF over sampled (AUC = %0.2f)' % roc_auc_rfo)\n",
    "plt.plot([0, 1], [0, 1],'r--')\n",
    "plt.xlim([-0.02, 1.0])\n",
    "plt.ylim([0.0, 1.05])\n",
    "plt.xlabel('False Positive Rate')\n",
    "plt.ylabel('True Positive Rate')\n",
    "plt.title('Receiver operating characteristic')\n",
    "plt.legend(loc=\"lower right\")\n",
    "plt.show()"
   ]
  },
  {
   "cell_type": "code",
   "execution_count": 528,
   "metadata": {},
   "outputs": [
    {
     "name": "stdout",
     "output_type": "stream",
     "text": [
      "              precision    recall  f1-score   support\n",
      "\n",
      "         0.0       0.10      0.93      0.17        29\n",
      "         1.0       0.99      0.42      0.59       442\n",
      "\n",
      "    accuracy                           0.45       471\n",
      "   macro avg       0.54      0.68      0.38       471\n",
      "weighted avg       0.93      0.45      0.56       471\n",
      "\n"
     ]
    }
   ],
   "source": [
    "Logit_PCA_oversampling = roc_auc_rfo\n",
    "new_pred = np.where(proba[:,1]>0.69,1,0)\n",
    "print(classification_report(y_test,new_pred))"
   ]
  },
  {
   "cell_type": "markdown",
   "metadata": {},
   "source": [
    "####  SMOTE balanced data"
   ]
  },
  {
   "cell_type": "code",
   "execution_count": 529,
   "metadata": {},
   "outputs": [],
   "source": [
    "LG_2 = LogisticRegression()\n",
    "param_grid = {'n_jobs':[5,10]}\n",
    "skf1 = StratifiedKFold(n_splits=5)\n",
    "GSCV1 = GridSearchCV(estimator = LG_2, param_grid = param_grid,cv=skf1)\n",
    "pipe1 = Pipeline([('scale',StandardScaler()),\n",
    "                 ('pca',PCA(n_components=9)),\n",
    "                 ('model',GSCV1)])"
   ]
  },
  {
   "cell_type": "code",
   "execution_count": 530,
   "metadata": {},
   "outputs": [
    {
     "data": {
      "text/plain": [
       "Pipeline(steps=[('scale', StandardScaler()), ('pca', PCA(n_components=9)),\n",
       "                ('model',\n",
       "                 GridSearchCV(cv=StratifiedKFold(n_splits=5, random_state=None, shuffle=False),\n",
       "                              estimator=LogisticRegression(),\n",
       "                              param_grid={'n_jobs': [5, 10]}))])"
      ]
     },
     "execution_count": 530,
     "metadata": {},
     "output_type": "execute_result"
    }
   ],
   "source": [
    "pipe1.fit(X_train_SM,y_train_SM)"
   ]
  },
  {
   "cell_type": "code",
   "execution_count": 531,
   "metadata": {},
   "outputs": [],
   "source": [
    "pred2 = pipe1.predict(X_test)"
   ]
  },
  {
   "cell_type": "code",
   "execution_count": 532,
   "metadata": {},
   "outputs": [
    {
     "name": "stdout",
     "output_type": "stream",
     "text": [
      "              precision    recall  f1-score   support\n",
      "\n",
      "         0.0       0.11      0.62      0.18        29\n",
      "         1.0       0.96      0.66      0.78       442\n",
      "\n",
      "    accuracy                           0.66       471\n",
      "   macro avg       0.54      0.64      0.48       471\n",
      "weighted avg       0.91      0.66      0.75       471\n",
      "\n"
     ]
    }
   ],
   "source": [
    "print(classification_report(y_test,pred2))"
   ]
  },
  {
   "cell_type": "code",
   "execution_count": 533,
   "metadata": {},
   "outputs": [
    {
     "data": {
      "image/png": "[encoded data removed]",
      "text/plain": [
       "<Figure size 432x288 with 1 Axes>"
      ]
     },
     "metadata": {
      "needs_background": "light"
     },
     "output_type": "display_data"
    }
   ],
   "source": [
    "proba = pipe1.predict_proba(X_test)\n",
    "pred_proba = proba[:,1]\n",
    "fpr, tpr, threshold = metrics.roc_curve(y_test, pred_proba)\n",
    "roc_auc_rfo = metrics.auc(fpr, tpr)\n",
    "plt.plot(fpr, tpr, label='RF over sampled (AUC = %0.2f)' % roc_auc_rfo)\n",
    "plt.plot([0, 1], [0, 1],'r--')\n",
    "plt.xlim([-0.02, 1.0])\n",
    "plt.ylim([0.0, 1.05])\n",
    "plt.xlabel('False Positive Rate')\n",
    "plt.ylabel('True Positive Rate')\n",
    "plt.title('Receiver operating characteristic')\n",
    "plt.legend(loc=\"lower right\")\n",
    "plt.show()"
   ]
  },
  {
   "cell_type": "code",
   "execution_count": 534,
   "metadata": {},
   "outputs": [
    {
     "name": "stdout",
     "output_type": "stream",
     "text": [
      "              precision    recall  f1-score   support\n",
      "\n",
      "         0.0       0.08      0.76      0.14        29\n",
      "         1.0       0.96      0.41      0.58       442\n",
      "\n",
      "    accuracy                           0.43       471\n",
      "   macro avg       0.52      0.59      0.36       471\n",
      "weighted avg       0.91      0.43      0.55       471\n",
      "\n"
     ]
    }
   ],
   "source": [
    "Logit_PCA_SMOTE = roc_auc_rfo\n",
    "new_pred = np.where(proba[:,1]>0.63,1,0)\n",
    "print(classification_report(y_test,new_pred))"
   ]
  },
  {
   "cell_type": "markdown",
   "metadata": {},
   "source": [
    "## 1.2 SVC - Support Vector Classifier"
   ]
  },
  {
   "cell_type": "markdown",
   "metadata": {},
   "source": [
    "#### Over sampled data"
   ]
  },
  {
   "cell_type": "code",
   "execution_count": 535,
   "metadata": {},
   "outputs": [],
   "source": [
    "# svc_1 = SVC()\n",
    "# param_grid = {'C': [0.1,1, 10, 100], 'gamma': [1,0.1,0.01,0.001],'kernel': ['rbf', 'poly', 'sigmoid']}\n",
    "# GSCV2 = GridSearchCV(estimator = svc_1,param_grid=param_grid)\n",
    "# pipe2 = Pipeline([('scale',StandardScaler()),\n",
    "#                  ('pca',PCA(n_components=9)),\n",
    "#                  ('model',GSCV2)])"
   ]
  },
  {
   "cell_type": "code",
   "execution_count": 536,
   "metadata": {},
   "outputs": [],
   "source": [
    "# pipe2.fit(X_train_OS,y_train_OS)"
   ]
  },
  {
   "cell_type": "code",
   "execution_count": 537,
   "metadata": {},
   "outputs": [],
   "source": [
    "# pred3 = pipe2.predict(X_test)"
   ]
  },
  {
   "cell_type": "code",
   "execution_count": 538,
   "metadata": {},
   "outputs": [],
   "source": [
    "# print(classification_report(y_test,pred3))"
   ]
  },
  {
   "cell_type": "markdown",
   "metadata": {},
   "source": [
    "#### SMOTE Balanced "
   ]
  },
  {
   "cell_type": "code",
   "execution_count": 539,
   "metadata": {},
   "outputs": [],
   "source": [
    "# svc_2 = SVC()\n",
    "# param_grid = {'C': [0.1,1, 10, 100], 'gamma': [1,0.1,0.01,0.001],'kernel': ['rbf', 'poly', 'sigmoid']}\n",
    "# GSCV3 = GridSearchCV(estimator = svc_2,param_grid=param_grid)\n",
    "# pipe3 = Pipeline([('scale',StandardScaler()),\n",
    "#                  ('pca',PCA(n_components=8)),\n",
    "#                  ('model',GSCV3)])"
   ]
  },
  {
   "cell_type": "code",
   "execution_count": 540,
   "metadata": {},
   "outputs": [],
   "source": [
    "# pipe3.fit(X_train_OS,y_train_OS)"
   ]
  },
  {
   "cell_type": "code",
   "execution_count": 541,
   "metadata": {},
   "outputs": [],
   "source": [
    "# pred4 = pipe3.predict(X_test)"
   ]
  },
  {
   "cell_type": "code",
   "execution_count": 542,
   "metadata": {},
   "outputs": [],
   "source": [
    "# print(classification_report(y_test,pred4))"
   ]
  },
  {
   "cell_type": "markdown",
   "metadata": {},
   "source": [
    "## 1.3 GaussianNB"
   ]
  },
  {
   "cell_type": "code",
   "execution_count": 543,
   "metadata": {},
   "outputs": [],
   "source": [
    "gnb1 = GaussianNB()\n",
    "skf2= StratifiedKFold(n_splits=5)\n",
    "param_grid = {'priors':[None]}\n",
    "GSCV4 = GridSearchCV(estimator = gnb1,param_grid=param_grid,cv=skf2)\n",
    "pipe4 = Pipeline([('scale',StandardScaler()),\n",
    "                 ('pca',PCA(n_components=9)),\n",
    "                 ('model',GSCV4)])"
   ]
  },
  {
   "cell_type": "code",
   "execution_count": 544,
   "metadata": {},
   "outputs": [
    {
     "data": {
      "text/plain": [
       "Pipeline(steps=[('scale', StandardScaler()), ('pca', PCA(n_components=9)),\n",
       "                ('model',\n",
       "                 GridSearchCV(cv=StratifiedKFold(n_splits=5, random_state=None, shuffle=False),\n",
       "                              estimator=GaussianNB(),\n",
       "                              param_grid={'priors': [None]}))])"
      ]
     },
     "execution_count": 544,
     "metadata": {},
     "output_type": "execute_result"
    }
   ],
   "source": [
    "pipe4.fit(X_train_OS,y_train_OS)"
   ]
  },
  {
   "cell_type": "code",
   "execution_count": 545,
   "metadata": {},
   "outputs": [],
   "source": [
    "pred5 = pipe4.predict(X_test)"
   ]
  },
  {
   "cell_type": "code",
   "execution_count": 546,
   "metadata": {},
   "outputs": [
    {
     "name": "stdout",
     "output_type": "stream",
     "text": [
      "              precision    recall  f1-score   support\n",
      "\n",
      "         0.0       0.03      0.03      0.03        29\n",
      "         1.0       0.94      0.93      0.93       442\n",
      "\n",
      "    accuracy                           0.87       471\n",
      "   macro avg       0.48      0.48      0.48       471\n",
      "weighted avg       0.88      0.87      0.88       471\n",
      "\n"
     ]
    }
   ],
   "source": [
    "print(classification_report(y_test,pred5))"
   ]
  },
  {
   "cell_type": "code",
   "execution_count": 547,
   "metadata": {},
   "outputs": [
    {
     "data": {
      "image/png": "[encoded data removed]",
      "text/plain": [
       "<Figure size 432x288 with 1 Axes>"
      ]
     },
     "metadata": {
      "needs_background": "light"
     },
     "output_type": "display_data"
    }
   ],
   "source": [
    "proba = pipe4.predict_proba(X_test)\n",
    "pred_proba = proba[:,1]\n",
    "fpr, tpr, threshold = metrics.roc_curve(y_test, pred_proba)\n",
    "roc_auc_rfo = metrics.auc(fpr, tpr)\n",
    "plt.plot(fpr, tpr, label='RF over sampled (AUC = %0.2f)' % roc_auc_rfo)\n",
    "plt.plot([0, 1], [0, 1],'r--')\n",
    "plt.xlim([-0.02, 1.0])\n",
    "plt.ylim([0.0, 1.05])\n",
    "plt.xlabel('False Positive Rate')\n",
    "plt.ylabel('True Positive Rate')\n",
    "plt.title('Receiver operating characteristic')\n",
    "plt.legend(loc=\"lower right\")\n",
    "plt.show()"
   ]
  },
  {
   "cell_type": "code",
   "execution_count": 548,
   "metadata": {},
   "outputs": [
    {
     "name": "stdout",
     "output_type": "stream",
     "text": [
      "              precision    recall  f1-score   support\n",
      "\n",
      "         0.0       0.08      0.21      0.12        29\n",
      "         1.0       0.94      0.85      0.90       442\n",
      "\n",
      "    accuracy                           0.81       471\n",
      "   macro avg       0.51      0.53      0.51       471\n",
      "weighted avg       0.89      0.81      0.85       471\n",
      "\n"
     ]
    }
   ],
   "source": [
    "GuassianNB_PCA_oversampling = roc_auc_rfo\n",
    "new_pred = np.where(proba[:,1]>0.60,1,0)\n",
    "print(classification_report(y_test,new_pred))"
   ]
  },
  {
   "cell_type": "code",
   "execution_count": 549,
   "metadata": {},
   "outputs": [],
   "source": [
    "gnb2 = GaussianNB()\n",
    "param_grid = {'priors':[None]}\n",
    "skf3= StratifiedKFold(n_splits=5)\n",
    "GSCV5 = GridSearchCV(estimator = gnb2,param_grid=param_grid,cv=skf3)\n",
    "pipe5 = Pipeline([('scale',StandardScaler()),\n",
    "                 ('pca',PCA(n_components=9)),\n",
    "                 ('model',GSCV5)])"
   ]
  },
  {
   "cell_type": "code",
   "execution_count": 550,
   "metadata": {},
   "outputs": [
    {
     "data": {
      "text/plain": [
       "Pipeline(steps=[('scale', StandardScaler()), ('pca', PCA(n_components=9)),\n",
       "                ('model',\n",
       "                 GridSearchCV(cv=StratifiedKFold(n_splits=5, random_state=None, shuffle=False),\n",
       "                              estimator=GaussianNB(),\n",
       "                              param_grid={'priors': [None]}))])"
      ]
     },
     "execution_count": 550,
     "metadata": {},
     "output_type": "execute_result"
    }
   ],
   "source": [
    "pipe5.fit(X_train_SM,y_train_SM)"
   ]
  },
  {
   "cell_type": "code",
   "execution_count": 551,
   "metadata": {},
   "outputs": [],
   "source": [
    "pred6 = pipe5.predict(X_test)"
   ]
  },
  {
   "cell_type": "code",
   "execution_count": 552,
   "metadata": {},
   "outputs": [
    {
     "name": "stdout",
     "output_type": "stream",
     "text": [
      "              precision    recall  f1-score   support\n",
      "\n",
      "         0.0       0.09      0.52      0.15        29\n",
      "         1.0       0.95      0.64      0.77       442\n",
      "\n",
      "    accuracy                           0.63       471\n",
      "   macro avg       0.52      0.58      0.46       471\n",
      "weighted avg       0.90      0.63      0.73       471\n",
      "\n"
     ]
    }
   ],
   "source": [
    "print(classification_report(y_test,pred6))"
   ]
  },
  {
   "cell_type": "code",
   "execution_count": 553,
   "metadata": {},
   "outputs": [
    {
     "data": {
      "image/png": "[encoded data removed]",
      "text/plain": [
       "<Figure size 432x288 with 1 Axes>"
      ]
     },
     "metadata": {
      "needs_background": "light"
     },
     "output_type": "display_data"
    }
   ],
   "source": [
    "proba = pipe5.predict_proba(X_test)\n",
    "pred_proba = proba[:,1]\n",
    "fpr, tpr, threshold = metrics.roc_curve(y_test, pred_proba)\n",
    "roc_auc_rfo = metrics.auc(fpr, tpr)\n",
    "plt.plot(fpr, tpr, label='RF over sampled (AUC = %0.2f)' % roc_auc_rfo)\n",
    "plt.plot([0, 1], [0, 1],'r--')\n",
    "plt.xlim([-0.02, 1.0])\n",
    "plt.ylim([0.0, 1.05])\n",
    "plt.xlabel('False Positive Rate')\n",
    "plt.ylabel('True Positive Rate')\n",
    "plt.title('Receiver operating characteristic')\n",
    "plt.legend(loc=\"lower right\")\n",
    "plt.show()"
   ]
  },
  {
   "cell_type": "code",
   "execution_count": 554,
   "metadata": {},
   "outputs": [
    {
     "name": "stdout",
     "output_type": "stream",
     "text": [
      "              precision    recall  f1-score   support\n",
      "\n",
      "         0.0       0.07      0.66      0.13        29\n",
      "         1.0       0.95      0.46      0.62       442\n",
      "\n",
      "    accuracy                           0.48       471\n",
      "   macro avg       0.51      0.56      0.38       471\n",
      "weighted avg       0.90      0.48      0.59       471\n",
      "\n"
     ]
    }
   ],
   "source": [
    "GuassianNB_PCA_SMOTE = roc_auc_rfo\n",
    "new_pred = np.where(proba[:,1]>0.58,1,0)\n",
    "print(classification_report(y_test,new_pred))"
   ]
  },
  {
   "cell_type": "markdown",
   "metadata": {},
   "source": [
    "## 1.4 Decision Tree Classifier"
   ]
  },
  {
   "cell_type": "code",
   "execution_count": 555,
   "metadata": {},
   "outputs": [],
   "source": [
    "dct_1 = DecisionTreeClassifier()\n",
    "skf4 = StratifiedKFold(n_splits=5)\n",
    "param_grid = {'max_depth':[10,20,30,40,50,60,70,80,90,100]}\n",
    "GSCV6 = GridSearchCV(estimator = dct_1,param_grid=param_grid,cv=skf4)\n",
    "pipe6 = Pipeline([('scale',StandardScaler()),\n",
    "                 ('pca',PCA(n_components=25)),\n",
    "                 ('model',GSCV6)])"
   ]
  },
  {
   "cell_type": "code",
   "execution_count": 556,
   "metadata": {},
   "outputs": [
    {
     "data": {
      "text/plain": [
       "Pipeline(steps=[('scale', StandardScaler()), ('pca', PCA(n_components=25)),\n",
       "                ('model',\n",
       "                 GridSearchCV(cv=StratifiedKFold(n_splits=5, random_state=None, shuffle=False),\n",
       "                              estimator=DecisionTreeClassifier(),\n",
       "                              param_grid={'max_depth': [10, 20, 30, 40, 50, 60,\n",
       "                                                        70, 80, 90, 100]}))])"
      ]
     },
     "execution_count": 556,
     "metadata": {},
     "output_type": "execute_result"
    }
   ],
   "source": [
    "pipe6.fit(X_train_OS,y_train_OS)"
   ]
  },
  {
   "cell_type": "code",
   "execution_count": 557,
   "metadata": {},
   "outputs": [],
   "source": [
    "pred7 = pipe6.predict(X_test)"
   ]
  },
  {
   "cell_type": "code",
   "execution_count": 558,
   "metadata": {},
   "outputs": [
    {
     "name": "stdout",
     "output_type": "stream",
     "text": [
      "              precision    recall  f1-score   support\n",
      "\n",
      "         0.0       0.07      0.03      0.05        29\n",
      "         1.0       0.94      0.97      0.95       442\n",
      "\n",
      "    accuracy                           0.91       471\n",
      "   macro avg       0.51      0.50      0.50       471\n",
      "weighted avg       0.89      0.91      0.90       471\n",
      "\n"
     ]
    }
   ],
   "source": [
    "print(classification_report(y_test,pred7))"
   ]
  },
  {
   "cell_type": "code",
   "execution_count": 559,
   "metadata": {},
   "outputs": [
    {
     "data": {
      "image/png": "[encoded data removed]",
      "text/plain": [
       "<Figure size 432x288 with 1 Axes>"
      ]
     },
     "metadata": {
      "needs_background": "light"
     },
     "output_type": "display_data"
    }
   ],
   "source": [
    "proba = pipe6.predict_proba(X_test)\n",
    "pred_proba = proba[:,1]\n",
    "fpr, tpr, threshold = metrics.roc_curve(y_test, pred_proba)\n",
    "roc_auc_rfo = metrics.auc(fpr, tpr)\n",
    "plt.plot(fpr, tpr, label='RF over sampled (AUC = %0.2f)' % roc_auc_rfo)\n",
    "plt.plot([0, 1], [0, 1],'r--')\n",
    "plt.xlim([-0.02, 1.0])\n",
    "plt.ylim([0.0, 1.05])\n",
    "plt.xlabel('False Positive Rate')\n",
    "plt.ylabel('True Positive Rate')\n",
    "plt.title('Receiver operating characteristic')\n",
    "plt.legend(loc=\"lower right\")\n",
    "plt.show()"
   ]
  },
  {
   "cell_type": "code",
   "execution_count": 560,
   "metadata": {},
   "outputs": [
    {
     "name": "stdout",
     "output_type": "stream",
     "text": [
      "              precision    recall  f1-score   support\n",
      "\n",
      "         0.0       0.07      0.03      0.05        29\n",
      "         1.0       0.94      0.97      0.95       442\n",
      "\n",
      "    accuracy                           0.91       471\n",
      "   macro avg       0.51      0.50      0.50       471\n",
      "weighted avg       0.89      0.91      0.90       471\n",
      "\n"
     ]
    }
   ],
   "source": [
    "DCT_PCA_OS = roc_auc_rfo\n",
    "new_pred = np.where(proba[:,1]>0.53,1,0)\n",
    "print(classification_report(y_test,new_pred))"
   ]
  },
  {
   "cell_type": "code",
   "execution_count": 561,
   "metadata": {},
   "outputs": [],
   "source": [
    "dct_2 = DecisionTreeClassifier()\n",
    "skf5 = StratifiedKFold(n_splits=5)\n",
    "param_grid = {'max_depth':[10,20,30,40,50,60,70,80,90,100]}\n",
    "GSCV7 = GridSearchCV(estimator = dct_2,param_grid=param_grid,cv=skf5)\n",
    "pipe7 = Pipeline([('scale',StandardScaler()),\n",
    "                 ('pca',PCA(n_components=9)),\n",
    "                 ('model',GSCV7)])"
   ]
  },
  {
   "cell_type": "code",
   "execution_count": 562,
   "metadata": {},
   "outputs": [
    {
     "data": {
      "text/plain": [
       "Pipeline(steps=[('scale', StandardScaler()), ('pca', PCA(n_components=9)),\n",
       "                ('model',\n",
       "                 GridSearchCV(cv=StratifiedKFold(n_splits=5, random_state=None, shuffle=False),\n",
       "                              estimator=DecisionTreeClassifier(),\n",
       "                              param_grid={'max_depth': [10, 20, 30, 40, 50, 60,\n",
       "                                                        70, 80, 90, 100]}))])"
      ]
     },
     "execution_count": 562,
     "metadata": {},
     "output_type": "execute_result"
    }
   ],
   "source": [
    "pipe7.fit(X_train_SM,y_train_SM)"
   ]
  },
  {
   "cell_type": "code",
   "execution_count": 563,
   "metadata": {},
   "outputs": [],
   "source": [
    "pred8 = pipe7.predict(X_test)"
   ]
  },
  {
   "cell_type": "code",
   "execution_count": 564,
   "metadata": {},
   "outputs": [
    {
     "name": "stdout",
     "output_type": "stream",
     "text": [
      "              precision    recall  f1-score   support\n",
      "\n",
      "         0.0       0.13      0.52      0.21        29\n",
      "         1.0       0.96      0.77      0.86       442\n",
      "\n",
      "    accuracy                           0.76       471\n",
      "   macro avg       0.54      0.64      0.53       471\n",
      "weighted avg       0.91      0.76      0.82       471\n",
      "\n"
     ]
    }
   ],
   "source": [
    "print(classification_report(y_test,pred8))"
   ]
  },
  {
   "cell_type": "code",
   "execution_count": 565,
   "metadata": {},
   "outputs": [
    {
     "data": {
      "image/png": "[encoded data removed]",
      "text/plain": [
       "<Figure size 432x288 with 1 Axes>"
      ]
     },
     "metadata": {
      "needs_background": "light"
     },
     "output_type": "display_data"
    }
   ],
   "source": [
    "proba = pipe7.predict_proba(X_test)\n",
    "pred_proba = proba[:,1]\n",
    "fpr, tpr, threshold = metrics.roc_curve(y_test, pred_proba)\n",
    "roc_auc_rfo = metrics.auc(fpr, tpr)\n",
    "plt.plot(fpr, tpr, label='RF over sampled (AUC = %0.2f)' % roc_auc_rfo)\n",
    "plt.plot([0, 1], [0, 1],'r--')\n",
    "plt.xlim([-0.02, 1.0])\n",
    "plt.ylim([0.0, 1.05])\n",
    "plt.xlabel('False Positive Rate')\n",
    "plt.ylabel('True Positive Rate')\n",
    "plt.title('Receiver operating characteristic')\n",
    "plt.legend(loc=\"lower right\")\n",
    "plt.show()"
   ]
  },
  {
   "cell_type": "code",
   "execution_count": 566,
   "metadata": {},
   "outputs": [
    {
     "name": "stdout",
     "output_type": "stream",
     "text": [
      "              precision    recall  f1-score   support\n",
      "\n",
      "         0.0       0.13      0.52      0.21        29\n",
      "         1.0       0.96      0.77      0.86       442\n",
      "\n",
      "    accuracy                           0.76       471\n",
      "   macro avg       0.54      0.64      0.53       471\n",
      "weighted avg       0.91      0.76      0.82       471\n",
      "\n"
     ]
    }
   ],
   "source": [
    "DCT_PCA_SM = roc_auc_rfo\n",
    "new_pred = np.where(proba[:,1]>0.60,1,0)\n",
    "print(classification_report(y_test,new_pred))"
   ]
  },
  {
   "cell_type": "markdown",
   "metadata": {},
   "source": [
    "## 1.5 Random Forest Classifier "
   ]
  },
  {
   "cell_type": "code",
   "execution_count": 567,
   "metadata": {},
   "outputs": [],
   "source": [
    "RFC_1 = RandomForestClassifier()\n",
    "skf6=StratifiedKFold()\n",
    "param_grid = {'n_estimators':[100,200,300,400,500,600,700,800]}\n",
    "GSCV8 = GridSearchCV(estimator = RFC_1,param_grid=param_grid,cv=skf6)\n",
    "pipe8 = Pipeline([('scale',StandardScaler()),\n",
    "                 ('pca',PCA(n_components=9)),\n",
    "                 ('model',GSCV8)])"
   ]
  },
  {
   "cell_type": "code",
   "execution_count": 568,
   "metadata": {},
   "outputs": [
    {
     "data": {
      "text/plain": [
       "Pipeline(steps=[('scale', StandardScaler()), ('pca', PCA(n_components=9)),\n",
       "                ('model',\n",
       "                 GridSearchCV(cv=StratifiedKFold(n_splits=5, random_state=None, shuffle=False),\n",
       "                              estimator=RandomForestClassifier(),\n",
       "                              param_grid={'n_estimators': [100, 200, 300, 400,\n",
       "                                                           500, 600, 700,\n",
       "                                                           800]}))])"
      ]
     },
     "execution_count": 568,
     "metadata": {},
     "output_type": "execute_result"
    }
   ],
   "source": [
    "pipe8.fit(X_train_OS,y_train_OS)"
   ]
  },
  {
   "cell_type": "code",
   "execution_count": 569,
   "metadata": {},
   "outputs": [],
   "source": [
    "pred9 = pipe8.predict(X_test)"
   ]
  },
  {
   "cell_type": "code",
   "execution_count": 570,
   "metadata": {},
   "outputs": [
    {
     "name": "stdout",
     "output_type": "stream",
     "text": [
      "              precision    recall  f1-score   support\n",
      "\n",
      "         0.0       0.00      0.00      0.00        29\n",
      "         1.0       0.94      1.00      0.97       442\n",
      "\n",
      "    accuracy                           0.94       471\n",
      "   macro avg       0.47      0.50      0.48       471\n",
      "weighted avg       0.88      0.94      0.91       471\n",
      "\n"
     ]
    }
   ],
   "source": [
    "print(classification_report(y_test,pred9))"
   ]
  },
  {
   "cell_type": "code",
   "execution_count": 571,
   "metadata": {},
   "outputs": [
    {
     "data": {
      "image/png": "[encoded data removed]",
      "text/plain": [
       "<Figure size 432x288 with 1 Axes>"
      ]
     },
     "metadata": {
      "needs_background": "light"
     },
     "output_type": "display_data"
    }
   ],
   "source": [
    "proba = pipe8.predict_proba(X_test)\n",
    "pred_proba = proba[:,1]\n",
    "fpr, tpr, threshold = metrics.roc_curve(y_test, pred_proba)\n",
    "roc_auc_rfo = metrics.auc(fpr, tpr)\n",
    "plt.plot(fpr, tpr, label='RF over sampled (AUC = %0.2f)' % roc_auc_rfo)\n",
    "plt.plot([0, 1], [0, 1],'r--')\n",
    "plt.xlim([-0.02, 1.0])\n",
    "plt.ylim([0.0, 1.05])\n",
    "plt.xlabel('False Positive Rate')\n",
    "plt.ylabel('True Positive Rate')\n",
    "plt.title('Receiver operating characteristic')\n",
    "plt.legend(loc=\"lower right\")\n",
    "plt.show()"
   ]
  },
  {
   "cell_type": "code",
   "execution_count": 572,
   "metadata": {},
   "outputs": [
    {
     "name": "stdout",
     "output_type": "stream",
     "text": [
      "              precision    recall  f1-score   support\n",
      "\n",
      "         0.0       0.00      0.00      0.00        29\n",
      "         1.0       0.94      1.00      0.97       442\n",
      "\n",
      "    accuracy                           0.94       471\n",
      "   macro avg       0.47      0.50      0.48       471\n",
      "weighted avg       0.88      0.94      0.91       471\n",
      "\n"
     ]
    }
   ],
   "source": [
    "RFC_PCA_OS = roc_auc_rfo\n",
    "new_pred = np.where(proba[:,1]>0.41,1,0)\n",
    "print(classification_report(y_test,new_pred))"
   ]
  },
  {
   "cell_type": "code",
   "execution_count": 737,
   "metadata": {},
   "outputs": [],
   "source": [
    "RFC_2 = RandomForestClassifier()\n",
    "param_grid = {'n_estimators':[100,200,300,400,500,600,700,800]}\n",
    "skf7 = StratifiedKFold(n_splits=5)\n",
    "GSCV9 = GridSearchCV(estimator = RFC_2,param_grid=param_grid,cv=skf7)\n",
    "pipe9 = Pipeline([('scale',StandardScaler()),\n",
    "                 ('pca',PCA(n_components=8)),\n",
    "                 ('model',GSCV9)])"
   ]
  },
  {
   "cell_type": "code",
   "execution_count": 738,
   "metadata": {},
   "outputs": [
    {
     "data": {
      "text/plain": [
       "Pipeline(steps=[('scale', StandardScaler()), ('pca', PCA(n_components=8)),\n",
       "                ('model',\n",
       "                 GridSearchCV(cv=StratifiedKFold(n_splits=5, random_state=None, shuffle=False),\n",
       "                              estimator=RandomForestClassifier(),\n",
       "                              param_grid={'n_estimators': [100, 200, 300, 400,\n",
       "                                                           500, 600, 700,\n",
       "                                                           800]}))])"
      ]
     },
     "execution_count": 738,
     "metadata": {},
     "output_type": "execute_result"
    }
   ],
   "source": [
    "pipe9.fit(X_train_SM,y_train_SM)"
   ]
  },
  {
   "cell_type": "code",
   "execution_count": 739,
   "metadata": {},
   "outputs": [],
   "source": [
    "pred10 = pipe9.predict(X_test)"
   ]
  },
  {
   "cell_type": "code",
   "execution_count": 740,
   "metadata": {},
   "outputs": [
    {
     "name": "stdout",
     "output_type": "stream",
     "text": [
      "              precision    recall  f1-score   support\n",
      "\n",
      "         0.0       0.19      0.38      0.26        29\n",
      "         1.0       0.96      0.90      0.93       442\n",
      "\n",
      "    accuracy                           0.86       471\n",
      "   macro avg       0.57      0.64      0.59       471\n",
      "weighted avg       0.91      0.86      0.88       471\n",
      "\n"
     ]
    }
   ],
   "source": [
    "print(classification_report(y_test,pred10))"
   ]
  },
  {
   "cell_type": "code",
   "execution_count": 741,
   "metadata": {},
   "outputs": [
    {
     "data": {
      "image/png": "[encoded data removed]",
      "text/plain": [
       "<Figure size 432x288 with 1 Axes>"
      ]
     },
     "metadata": {
      "needs_background": "light"
     },
     "output_type": "display_data"
    }
   ],
   "source": [
    "proba = pipe9.predict_proba(X_test)\n",
    "pred_proba = proba[:,1]\n",
    "fpr, tpr, threshold = metrics.roc_curve(y_test, pred_proba)\n",
    "roc_auc_rfo = metrics.auc(fpr, tpr)\n",
    "plt.plot(fpr, tpr, label='RF over sampled (AUC = %0.2f)' % roc_auc_rfo)\n",
    "plt.plot([0, 1], [0, 1],'r--')\n",
    "plt.xlim([-0.02, 1.0])\n",
    "plt.ylim([0.0, 1.05])\n",
    "plt.xlabel('False Positive Rate')\n",
    "plt.ylabel('True Positive Rate')\n",
    "plt.title('Receiver operating characteristic')\n",
    "plt.legend(loc=\"lower right\")\n",
    "plt.show()"
   ]
  },
  {
   "cell_type": "code",
   "execution_count": 742,
   "metadata": {},
   "outputs": [
    {
     "name": "stdout",
     "output_type": "stream",
     "text": [
      "              precision    recall  f1-score   support\n",
      "\n",
      "         0.0       0.35      0.31      0.33        29\n",
      "         1.0       0.96      0.96      0.96       442\n",
      "\n",
      "    accuracy                           0.92       471\n",
      "   macro avg       0.65      0.64      0.64       471\n",
      "weighted avg       0.92      0.92      0.92       471\n",
      "\n"
     ]
    }
   ],
   "source": [
    "RFC_PCA_SM = roc_auc_rfo\n",
    "new_pred = np.where(proba[:,1]>0.38,1,0)\n",
    "print(classification_report(y_test,new_pred))"
   ]
  },
  {
   "cell_type": "code",
   "execution_count": null,
   "metadata": {},
   "outputs": [],
   "source": []
  },
  {
   "cell_type": "code",
   "execution_count": null,
   "metadata": {},
   "outputs": [],
   "source": []
  },
  {
   "cell_type": "markdown",
   "metadata": {},
   "source": [
    "## 1.6 Adaptive Boosting"
   ]
  },
  {
   "cell_type": "code",
   "execution_count": 579,
   "metadata": {},
   "outputs": [],
   "source": [
    "ada_1 = AdaBoostClassifier()\n",
    "param_grid = {'n_estimators':[50,60,70,80,90,100,110,120]}\n",
    "skf8 = StratifiedKFold(n_splits=5)\n",
    "GSCV10 = GridSearchCV(estimator = ada_1,param_grid=param_grid,cv=skf8)\n",
    "pipe11 = Pipeline([('scale',StandardScaler()),\n",
    "                 ('pca',PCA(n_components=9)),\n",
    "                 ('model',GSCV10)])"
   ]
  },
  {
   "cell_type": "code",
   "execution_count": 580,
   "metadata": {},
   "outputs": [
    {
     "data": {
      "text/plain": [
       "Pipeline(steps=[('scale', StandardScaler()), ('pca', PCA(n_components=9)),\n",
       "                ('model',\n",
       "                 GridSearchCV(cv=StratifiedKFold(n_splits=5, random_state=None, shuffle=False),\n",
       "                              estimator=AdaBoostClassifier(),\n",
       "                              param_grid={'n_estimators': [50, 60, 70, 80, 90,\n",
       "                                                           100, 110, 120]}))])"
      ]
     },
     "execution_count": 580,
     "metadata": {},
     "output_type": "execute_result"
    }
   ],
   "source": [
    "pipe11.fit(X_train_OS,y_train_OS)"
   ]
  },
  {
   "cell_type": "code",
   "execution_count": 581,
   "metadata": {},
   "outputs": [],
   "source": [
    "pred11 = pipe11.predict(X_test)"
   ]
  },
  {
   "cell_type": "code",
   "execution_count": 582,
   "metadata": {},
   "outputs": [
    {
     "name": "stdout",
     "output_type": "stream",
     "text": [
      "              precision    recall  f1-score   support\n",
      "\n",
      "         0.0       0.11      0.21      0.14        29\n",
      "         1.0       0.94      0.88      0.91       442\n",
      "\n",
      "    accuracy                           0.84       471\n",
      "   macro avg       0.52      0.55      0.53       471\n",
      "weighted avg       0.89      0.84      0.87       471\n",
      "\n"
     ]
    }
   ],
   "source": [
    "print(classification_report(y_test,pred11))"
   ]
  },
  {
   "cell_type": "code",
   "execution_count": 583,
   "metadata": {},
   "outputs": [
    {
     "data": {
      "image/png": "[encoded data removed]",
      "text/plain": [
       "<Figure size 432x288 with 1 Axes>"
      ]
     },
     "metadata": {
      "needs_background": "light"
     },
     "output_type": "display_data"
    }
   ],
   "source": [
    "proba = pipe11.predict_proba(X_test)\n",
    "pred_proba = proba[:,1]\n",
    "fpr, tpr, threshold = metrics.roc_curve(y_test, pred_proba)\n",
    "roc_auc_rfo = metrics.auc(fpr, tpr)\n",
    "plt.plot(fpr, tpr, label='RF over sampled (AUC = %0.2f)' % roc_auc_rfo)\n",
    "plt.plot([0, 1], [0, 1],'r--')\n",
    "plt.xlim([-0.02, 1.0])\n",
    "plt.ylim([0.0, 1.05])\n",
    "plt.xlabel('False Positive Rate')\n",
    "plt.ylabel('True Positive Rate')\n",
    "plt.title('Receiver operating characteristic')\n",
    "plt.legend(loc=\"lower right\")\n",
    "plt.show()"
   ]
  },
  {
   "cell_type": "code",
   "execution_count": 584,
   "metadata": {},
   "outputs": [
    {
     "name": "stdout",
     "output_type": "stream",
     "text": [
      "              precision    recall  f1-score   support\n",
      "\n",
      "         0.0       0.00      0.00      0.00        29\n",
      "         1.0       0.94      1.00      0.97       442\n",
      "\n",
      "    accuracy                           0.94       471\n",
      "   macro avg       0.47      0.50      0.48       471\n",
      "weighted avg       0.88      0.94      0.91       471\n",
      "\n"
     ]
    }
   ],
   "source": [
    "Adaptive_PCA_OS = roc_auc_rfo\n",
    "new_pred = np.where(proba[:,1]>0.40,1,0)\n",
    "print(classification_report(y_test,new_pred))"
   ]
  },
  {
   "cell_type": "code",
   "execution_count": 585,
   "metadata": {},
   "outputs": [],
   "source": [
    "ada_2 = AdaBoostClassifier()\n",
    "skf9 = StratifiedKFold(n_splits=5)\n",
    "param_grid = {'n_estimators':[50,60,70,80,90,100,110,120]}\n",
    "GSCV11 = GridSearchCV(estimator = ada_2,param_grid=param_grid,cv=skf9)\n",
    "pipe12 = Pipeline([('scale',StandardScaler()),\n",
    "                 ('pca',PCA(n_components=9)),\n",
    "                 ('model',GSCV11)])"
   ]
  },
  {
   "cell_type": "code",
   "execution_count": 586,
   "metadata": {},
   "outputs": [
    {
     "data": {
      "text/plain": [
       "Pipeline(steps=[('scale', StandardScaler()), ('pca', PCA(n_components=9)),\n",
       "                ('model',\n",
       "                 GridSearchCV(cv=StratifiedKFold(n_splits=5, random_state=None, shuffle=False),\n",
       "                              estimator=AdaBoostClassifier(),\n",
       "                              param_grid={'n_estimators': [50, 60, 70, 80, 90,\n",
       "                                                           100, 110, 120]}))])"
      ]
     },
     "execution_count": 586,
     "metadata": {},
     "output_type": "execute_result"
    }
   ],
   "source": [
    "pipe12.fit(X_train_SM,y_train_SM)"
   ]
  },
  {
   "cell_type": "code",
   "execution_count": 587,
   "metadata": {},
   "outputs": [],
   "source": [
    "pred12 = pipe12.predict(X_test)"
   ]
  },
  {
   "cell_type": "code",
   "execution_count": 588,
   "metadata": {},
   "outputs": [
    {
     "name": "stdout",
     "output_type": "stream",
     "text": [
      "              precision    recall  f1-score   support\n",
      "\n",
      "         0.0       0.11      0.52      0.18        29\n",
      "         1.0       0.96      0.72      0.82       442\n",
      "\n",
      "    accuracy                           0.71       471\n",
      "   macro avg       0.53      0.62      0.50       471\n",
      "weighted avg       0.91      0.71      0.79       471\n",
      "\n"
     ]
    }
   ],
   "source": [
    "print(classification_report(y_test,pred12))"
   ]
  },
  {
   "cell_type": "code",
   "execution_count": 589,
   "metadata": {},
   "outputs": [
    {
     "data": {
      "image/png": "[encoded data removed]",
      "text/plain": [
       "<Figure size 432x288 with 1 Axes>"
      ]
     },
     "metadata": {
      "needs_background": "light"
     },
     "output_type": "display_data"
    }
   ],
   "source": [
    "proba = pipe12.predict_proba(X_test)\n",
    "pred_proba = proba[:,1]\n",
    "fpr, tpr, threshold = metrics.roc_curve(y_test, pred_proba)\n",
    "roc_auc_rfo = metrics.auc(fpr, tpr)\n",
    "plt.plot(fpr, tpr, label='RF over sampled (AUC = %0.2f)' % roc_auc_rfo)\n",
    "plt.plot([0, 1], [0, 1],'r--')\n",
    "plt.xlim([-0.02, 1.0])\n",
    "plt.ylim([0.0, 1.05])\n",
    "plt.xlabel('False Positive Rate')\n",
    "plt.ylabel('True Positive Rate')\n",
    "plt.title('Receiver operating characteristic')\n",
    "plt.legend(loc=\"lower right\")\n",
    "plt.show()"
   ]
  },
  {
   "cell_type": "code",
   "execution_count": 590,
   "metadata": {},
   "outputs": [
    {
     "name": "stdout",
     "output_type": "stream",
     "text": [
      "              precision    recall  f1-score   support\n",
      "\n",
      "         0.0       0.06      1.00      0.12        29\n",
      "         1.0       0.00      0.00      0.00       442\n",
      "\n",
      "    accuracy                           0.06       471\n",
      "   macro avg       0.03      0.50      0.06       471\n",
      "weighted avg       0.00      0.06      0.01       471\n",
      "\n"
     ]
    }
   ],
   "source": [
    "Adaptive_PCA_SM =  roc_auc_rfo\n",
    "new_pred = np.where(proba[:,1]>0.61,1,0)\n",
    "print(classification_report(y_test,new_pred))"
   ]
  },
  {
   "cell_type": "markdown",
   "metadata": {},
   "source": [
    "# 1.7 Gradient Boosting"
   ]
  },
  {
   "cell_type": "code",
   "execution_count": 591,
   "metadata": {},
   "outputs": [],
   "source": [
    "gra_1 = GradientBoostingClassifier()\n",
    "param_grid = {'n_estimators':[100,120,140,160,180,200]}\n",
    "skf11 = StratifiedKFold(n_splits=5)\n",
    "GSCV11 = GridSearchCV(estimator = gra_1,param_grid=param_grid,cv=skf11)\n",
    "pipe13 = Pipeline([('scale',StandardScaler()),\n",
    "                 ('pca',PCA(n_components=9)),\n",
    "                 ('model',GSCV11)])"
   ]
  },
  {
   "cell_type": "code",
   "execution_count": 592,
   "metadata": {},
   "outputs": [
    {
     "data": {
      "text/plain": [
       "Pipeline(steps=[('scale', StandardScaler()), ('pca', PCA(n_components=9)),\n",
       "                ('model',\n",
       "                 GridSearchCV(cv=StratifiedKFold(n_splits=5, random_state=None, shuffle=False),\n",
       "                              estimator=GradientBoostingClassifier(),\n",
       "                              param_grid={'n_estimators': [100, 120, 140, 160,\n",
       "                                                           180, 200]}))])"
      ]
     },
     "execution_count": 592,
     "metadata": {},
     "output_type": "execute_result"
    }
   ],
   "source": [
    "pipe13.fit(X_train_OS,y_train_OS)"
   ]
  },
  {
   "cell_type": "code",
   "execution_count": 593,
   "metadata": {},
   "outputs": [],
   "source": [
    "pred13 = pipe13.predict(X_test)"
   ]
  },
  {
   "cell_type": "code",
   "execution_count": 594,
   "metadata": {},
   "outputs": [
    {
     "name": "stdout",
     "output_type": "stream",
     "text": [
      "              precision    recall  f1-score   support\n",
      "\n",
      "         0.0       0.12      0.10      0.11        29\n",
      "         1.0       0.94      0.95      0.94       442\n",
      "\n",
      "    accuracy                           0.90       471\n",
      "   macro avg       0.53      0.53      0.53       471\n",
      "weighted avg       0.89      0.90      0.89       471\n",
      "\n"
     ]
    }
   ],
   "source": [
    "print(classification_report(y_test,pred13))"
   ]
  },
  {
   "cell_type": "code",
   "execution_count": 595,
   "metadata": {},
   "outputs": [
    {
     "data": {
      "image/png": "[encoded data removed]",
      "text/plain": [
       "<Figure size 432x288 with 1 Axes>"
      ]
     },
     "metadata": {
      "needs_background": "light"
     },
     "output_type": "display_data"
    }
   ],
   "source": [
    "proba = pipe13.predict_proba(X_test)\n",
    "pred_proba = proba[:,1]\n",
    "fpr, tpr, threshold = metrics.roc_curve(y_test, pred_proba)\n",
    "roc_auc_rfo = metrics.auc(fpr, tpr)\n",
    "plt.plot(fpr, tpr, label='RF over sampled (AUC = %0.2f)' % roc_auc_rfo)\n",
    "plt.plot([0, 1], [0, 1],'r--')\n",
    "plt.xlim([-0.02, 1.0])\n",
    "plt.ylim([0.0, 1.05])\n",
    "plt.xlabel('False Positive Rate')\n",
    "plt.ylabel('True Positive Rate')\n",
    "plt.title('Receiver operating characteristic')\n",
    "plt.legend(loc=\"lower right\")\n",
    "plt.show()"
   ]
  },
  {
   "cell_type": "code",
   "execution_count": 596,
   "metadata": {},
   "outputs": [
    {
     "name": "stdout",
     "output_type": "stream",
     "text": [
      "              precision    recall  f1-score   support\n",
      "\n",
      "         0.0       0.08      0.10      0.09        29\n",
      "         1.0       0.94      0.93      0.93       442\n",
      "\n",
      "    accuracy                           0.87       471\n",
      "   macro avg       0.51      0.51      0.51       471\n",
      "weighted avg       0.89      0.87      0.88       471\n",
      "\n"
     ]
    }
   ],
   "source": [
    "gradient_PCA_OS =  roc_auc_rfo\n",
    "new_pred = np.where(proba[:,1]>0.58,1,0)\n",
    "print(classification_report(y_test,new_pred))"
   ]
  },
  {
   "cell_type": "code",
   "execution_count": 597,
   "metadata": {},
   "outputs": [],
   "source": [
    "gra_2 = GradientBoostingClassifier()\n",
    "param_grid = {'n_estimators':[100,120,140,160,180,200,250,300]}\n",
    "skf12 = StratifiedKFold(n_splits=5)\n",
    "GSCV12 = GridSearchCV(estimator = gra_2,param_grid=param_grid,cv=skf12)\n",
    "pipe14 = Pipeline([('scale',StandardScaler()),\n",
    "                 ('pca',PCA(n_components=9)),\n",
    "                 ('model',GSCV12)])"
   ]
  },
  {
   "cell_type": "code",
   "execution_count": 598,
   "metadata": {},
   "outputs": [
    {
     "data": {
      "text/plain": [
       "Pipeline(steps=[('scale', StandardScaler()), ('pca', PCA(n_components=9)),\n",
       "                ('model',\n",
       "                 GridSearchCV(cv=StratifiedKFold(n_splits=5, random_state=None, shuffle=False),\n",
       "                              estimator=GradientBoostingClassifier(),\n",
       "                              param_grid={'n_estimators': [100, 120, 140, 160,\n",
       "                                                           180, 200, 250,\n",
       "                                                           300]}))])"
      ]
     },
     "execution_count": 598,
     "metadata": {},
     "output_type": "execute_result"
    }
   ],
   "source": [
    "pipe14.fit(X_train_SM,y_train_SM)"
   ]
  },
  {
   "cell_type": "code",
   "execution_count": 599,
   "metadata": {},
   "outputs": [],
   "source": [
    "pred14 = pipe14.predict(X_test)"
   ]
  },
  {
   "cell_type": "code",
   "execution_count": 600,
   "metadata": {},
   "outputs": [
    {
     "name": "stdout",
     "output_type": "stream",
     "text": [
      "              precision    recall  f1-score   support\n",
      "\n",
      "         0.0       0.15      0.48      0.23        29\n",
      "         1.0       0.96      0.82      0.89       442\n",
      "\n",
      "    accuracy                           0.80       471\n",
      "   macro avg       0.56      0.65      0.56       471\n",
      "weighted avg       0.91      0.80      0.85       471\n",
      "\n"
     ]
    }
   ],
   "source": [
    "print(classification_report(y_test,pred14))"
   ]
  },
  {
   "cell_type": "code",
   "execution_count": 601,
   "metadata": {},
   "outputs": [
    {
     "data": {
      "image/png": "[encoded data removed]",
      "text/plain": [
       "<Figure size 432x288 with 1 Axes>"
      ]
     },
     "metadata": {
      "needs_background": "light"
     },
     "output_type": "display_data"
    }
   ],
   "source": [
    "proba = pipe14.predict_proba(X_test)\n",
    "pred_proba = proba[:,1]\n",
    "fpr, tpr, threshold = metrics.roc_curve(y_test, pred_proba)\n",
    "roc_auc_rfo = metrics.auc(fpr, tpr)\n",
    "plt.plot(fpr, tpr, label='RF over sampled (AUC = %0.2f)' % roc_auc_rfo)\n",
    "plt.plot([0, 1], [0, 1],'r--')\n",
    "plt.xlim([-0.02, 1.0])\n",
    "plt.ylim([0.0, 1.05])\n",
    "plt.xlabel('False Positive Rate')\n",
    "plt.ylabel('True Positive Rate')\n",
    "plt.title('Receiver operating characteristic')\n",
    "plt.legend(loc=\"lower right\")\n",
    "plt.show()"
   ]
  },
  {
   "cell_type": "code",
   "execution_count": 602,
   "metadata": {},
   "outputs": [],
   "source": [
    "gradient_PCA_SM =  roc_auc_rfo"
   ]
  },
  {
   "cell_type": "code",
   "execution_count": 613,
   "metadata": {},
   "outputs": [],
   "source": [
    "new_pred = np.where(proba[:,1]>0.30,1,0)"
   ]
  },
  {
   "cell_type": "code",
   "execution_count": 614,
   "metadata": {},
   "outputs": [
    {
     "name": "stdout",
     "output_type": "stream",
     "text": [
      "              precision    recall  f1-score   support\n",
      "\n",
      "         0.0       0.24      0.41      0.30        29\n",
      "         1.0       0.96      0.91      0.94       442\n",
      "\n",
      "    accuracy                           0.88       471\n",
      "   macro avg       0.60      0.66      0.62       471\n",
      "weighted avg       0.91      0.88      0.90       471\n",
      "\n"
     ]
    }
   ],
   "source": [
    "print(classification_report(y_test,new_pred))"
   ]
  },
  {
   "cell_type": "markdown",
   "metadata": {},
   "source": [
    "## The model RFC_2 is the only model that gives a better F1 score of 29% for class 0 and 92% for class 1. Its named using pipe9 and if we set threshold to 0.7 then the Recall goes to 66% class0 and 68% for class 1.\n",
    "\n",
    "# PROJECT  OBJECTIVE: We  will  build  a  classifier  to  predict  the  Pass/Fail  yield  of  a  particular  process  entity  and  analyse  whether  all  the features are required to build the model or not.\n",
    "\n",
    "### As the project objective states to build a classifier to predict pass/fail, we will mainly focus on reducing the misclassification of Fail. This is because if a machine is incorrectly classified as fail but actually it is pass, this will be false positive but on further checks it will be identified that the machine works fine, whereas if the machine is incorrectly classified as pass but actually if something has failed, the machine will be run and the issue will be identified post the output product is received.\n",
    "\n",
    "### We cannot afford to run a machine that has faults, so we will focus on reducing false negative ie: The actual is fail but system predicts it as pass \n",
    "\n",
    "### There is also a problem with the way how classes are shared, we have 93.3% of classes thats a pass and only 6.6% class thats fail. Even if we apply random oversampling or SMOTE tomek technique to oversample minority class we still dont have enough data to capture variance in class 0. \n",
    "\n",
    "### What we can try is that, apply Tomek Tlinks which will cut all the majority points that is overlapping with minority points and then applying SMOTE technique to oversample minority classes by 60% only. The reason why we go for 60% is to reduce unnecessary synthetic points which might not help.\n",
    "\n",
    "### Post this we will try applying the same RFC classifier as it works the best till now\n",
    "\n",
    "# OR\n",
    "\n",
    "### Try downsampling the data and apply all techniques again"
   ]
  },
  {
   "cell_type": "code",
   "execution_count": 196,
   "metadata": {},
   "outputs": [
    {
     "data": {
      "text/plain": [
       "1    0.933631\n",
       "0    0.066369\n",
       "Name: Pass/Fail, dtype: float64"
      ]
     },
     "execution_count": 196,
     "metadata": {},
     "output_type": "execute_result"
    }
   ],
   "source": [
    "y.value_counts(normalize=True)"
   ]
  },
  {
   "cell_type": "markdown",
   "metadata": {},
   "source": [
    "# 1. Tomek Tlinks"
   ]
  },
  {
   "cell_type": "code",
   "execution_count": 615,
   "metadata": {},
   "outputs": [],
   "source": [
    "from imblearn.under_sampling import TomekLinks\n",
    "import pickle\n",
    "TL = TomekLinks(sampling_strategy='majority')"
   ]
  },
  {
   "cell_type": "code",
   "execution_count": 616,
   "metadata": {},
   "outputs": [
    {
     "data": {
      "text/plain": [
       "TomekLinks(sampling_strategy='majority')"
      ]
     },
     "execution_count": 616,
     "metadata": {},
     "output_type": "execute_result"
    }
   ],
   "source": [
    "TL.fit(X_train,y_train)"
   ]
  },
  {
   "cell_type": "code",
   "execution_count": 617,
   "metadata": {},
   "outputs": [],
   "source": [
    "X_TLsample, y_TLsample = TL.fit_resample(X_train,y_train)"
   ]
  },
  {
   "cell_type": "code",
   "execution_count": 618,
   "metadata": {},
   "outputs": [
    {
     "data": {
      "text/plain": [
       "1.0    0.929709\n",
       "0.0    0.070291\n",
       "Name: Pass/Fail, dtype: float64"
      ]
     },
     "execution_count": 618,
     "metadata": {},
     "output_type": "execute_result"
    }
   ],
   "source": [
    "y_TLsample.value_counts(normalize=True)"
   ]
  },
  {
   "cell_type": "markdown",
   "metadata": {},
   "source": [
    "# 2. Applying SMOTE technique to oversample the minority class"
   ]
  },
  {
   "cell_type": "code",
   "execution_count": 619,
   "metadata": {},
   "outputs": [],
   "source": [
    "SM_TL = SMOTE(0.7,k_neighbors=7)"
   ]
  },
  {
   "cell_type": "code",
   "execution_count": 620,
   "metadata": {},
   "outputs": [],
   "source": [
    "X_SM_TL_train,y_SM_TL_train = SM_TL.fit_resample(X_TLsample, y_TLsample)"
   ]
  },
  {
   "cell_type": "code",
   "execution_count": 621,
   "metadata": {},
   "outputs": [
    {
     "data": {
      "text/plain": [
       "1.0    0.588375\n",
       "0.0    0.411625\n",
       "Name: Pass/Fail, dtype: float64"
      ]
     },
     "execution_count": 621,
     "metadata": {},
     "output_type": "execute_result"
    }
   ],
   "source": [
    "y_SM_TL_train.value_counts(normalize=True)"
   ]
  },
  {
   "cell_type": "code",
   "execution_count": 622,
   "metadata": {},
   "outputs": [],
   "source": [
    "RFC_SM_TL = RandomForestClassifier()\n",
    "param_grid = {'n_estimators':[100,200,300,400,500,600,700,800]}\n",
    "skf_SM_TL = StratifiedKFold(n_splits=5)\n",
    "GSCV_SM_TL = GridSearchCV(estimator = RFC_SM_TL,param_grid=param_grid,cv=skf_SM_TL)\n",
    "pipe15 = Pipeline([('scale',StandardScaler()),\n",
    "                 ('pca',PCA(n_components=8)),\n",
    "                 ('model',GSCV_SM_TL)])"
   ]
  },
  {
   "cell_type": "code",
   "execution_count": 623,
   "metadata": {},
   "outputs": [
    {
     "data": {
      "text/plain": [
       "Pipeline(steps=[('scale', StandardScaler()), ('pca', PCA(n_components=8)),\n",
       "                ('model',\n",
       "                 GridSearchCV(cv=StratifiedKFold(n_splits=5, random_state=None, shuffle=False),\n",
       "                              estimator=RandomForestClassifier(),\n",
       "                              param_grid={'n_estimators': [100, 200, 300, 400,\n",
       "                                                           500, 600, 700,\n",
       "                                                           800]}))])"
      ]
     },
     "execution_count": 623,
     "metadata": {},
     "output_type": "execute_result"
    }
   ],
   "source": [
    "pipe15.fit(X_SM_TL_train,y_SM_TL_train)"
   ]
  },
  {
   "cell_type": "code",
   "execution_count": 624,
   "metadata": {},
   "outputs": [
    {
     "name": "stdout",
     "output_type": "stream",
     "text": [
      "              precision    recall  f1-score   support\n",
      "\n",
      "         0.0       0.15      0.28      0.20        29\n",
      "         1.0       0.95      0.90      0.92       442\n",
      "\n",
      "    accuracy                           0.86       471\n",
      "   macro avg       0.55      0.59      0.56       471\n",
      "weighted avg       0.90      0.86      0.88       471\n",
      "\n"
     ]
    }
   ],
   "source": [
    "pred_15 = pipe15.predict(X_test)\n",
    "print(classification_report(y_test,pred_15))\n"
   ]
  },
  {
   "cell_type": "code",
   "execution_count": 625,
   "metadata": {},
   "outputs": [
    {
     "data": {
      "image/png": "[encoded data removed]",
      "text/plain": [
       "<Figure size 432x288 with 1 Axes>"
      ]
     },
     "metadata": {
      "needs_background": "light"
     },
     "output_type": "display_data"
    }
   ],
   "source": [
    "proba = pipe15.predict_proba(X_test)\n",
    "pred_proba = proba[:,1]\n",
    "fpr, tpr, threshold = metrics.roc_curve(y_test, pred_proba)\n",
    "roc_auc_rfo = metrics.auc(fpr, tpr)\n",
    "plt.plot(fpr, tpr, label='RF over sampled (AUC = %0.2f)' % roc_auc_rfo)\n",
    "plt.plot([0, 1], [0, 1],'r--')\n",
    "plt.xlim([-0.02, 1.0])\n",
    "plt.ylim([0.0, 1.05])\n",
    "plt.xlabel('False Positive Rate')\n",
    "plt.ylabel('True Positive Rate')\n",
    "plt.title('Receiver operating characteristic')\n",
    "plt.legend(loc=\"lower right\")\n",
    "plt.show()"
   ]
  },
  {
   "cell_type": "code",
   "execution_count": 626,
   "metadata": {},
   "outputs": [],
   "source": [
    "RFC_PCA_SM_TL =  roc_auc_rfo\n",
    "pred_15 = pipe15.predict_proba(X_test)\n",
    "# print(classification_report(y_test,pred_15))\n",
    "new_pred = np.where(pred_15[:,1]>0.69,1,0)"
   ]
  },
  {
   "cell_type": "code",
   "execution_count": 627,
   "metadata": {},
   "outputs": [
    {
     "name": "stdout",
     "output_type": "stream",
     "text": [
      "              precision    recall  f1-score   support\n",
      "\n",
      "         0.0       0.10      0.59      0.17        29\n",
      "         1.0       0.96      0.66      0.78       442\n",
      "\n",
      "    accuracy                           0.65       471\n",
      "   macro avg       0.53      0.62      0.48       471\n",
      "weighted avg       0.91      0.65      0.74       471\n",
      "\n"
     ]
    }
   ],
   "source": [
    "print(classification_report(y_test,new_pred))"
   ]
  },
  {
   "cell_type": "markdown",
   "metadata": {},
   "source": [
    "# 3. Downsampling the majority class post applying TOMEK T Links"
   ]
  },
  {
   "cell_type": "code",
   "execution_count": 628,
   "metadata": {},
   "outputs": [],
   "source": [
    "US = under_sampling.RandomUnderSampler()"
   ]
  },
  {
   "cell_type": "code",
   "execution_count": 629,
   "metadata": {},
   "outputs": [],
   "source": [
    "X_TL_US,y_TL_US = US.fit_resample(X_TLsample, y_TLsample)"
   ]
  },
  {
   "cell_type": "code",
   "execution_count": 630,
   "metadata": {},
   "outputs": [
    {
     "data": {
      "text/plain": [
       "1.0    75\n",
       "0.0    75\n",
       "Name: Pass/Fail, dtype: int64"
      ]
     },
     "execution_count": 630,
     "metadata": {},
     "output_type": "execute_result"
    }
   ],
   "source": [
    "y_TL_US.value_counts()"
   ]
  },
  {
   "cell_type": "markdown",
   "metadata": {},
   "source": [
    "#### 1. RFC"
   ]
  },
  {
   "cell_type": "code",
   "execution_count": 631,
   "metadata": {},
   "outputs": [],
   "source": [
    "RFC_US_TL = RandomForestClassifier()\n",
    "param_grid = {'n_estimators':[100,200,300,400,500,600,700,800]}\n",
    "skf_US_TL = StratifiedKFold(n_splits=5)\n",
    "GSCV_US_TL = GridSearchCV(estimator = RFC_US_TL,param_grid=param_grid,cv=skf_US_TL)\n",
    "pipe16 = Pipeline([('scale',StandardScaler()),\n",
    "                 ('pca',PCA(n_components=8)),\n",
    "                 ('model',GSCV_US_TL)])"
   ]
  },
  {
   "cell_type": "code",
   "execution_count": 632,
   "metadata": {},
   "outputs": [
    {
     "data": {
      "text/plain": [
       "Pipeline(steps=[('scale', StandardScaler()), ('pca', PCA(n_components=8)),\n",
       "                ('model',\n",
       "                 GridSearchCV(cv=StratifiedKFold(n_splits=5, random_state=None, shuffle=False),\n",
       "                              estimator=RandomForestClassifier(),\n",
       "                              param_grid={'n_estimators': [100, 200, 300, 400,\n",
       "                                                           500, 600, 700,\n",
       "                                                           800]}))])"
      ]
     },
     "execution_count": 632,
     "metadata": {},
     "output_type": "execute_result"
    }
   ],
   "source": [
    "pipe16.fit(X_TL_US,y_TL_US)"
   ]
  },
  {
   "cell_type": "code",
   "execution_count": 633,
   "metadata": {},
   "outputs": [
    {
     "name": "stdout",
     "output_type": "stream",
     "text": [
      "              precision    recall  f1-score   support\n",
      "\n",
      "         0.0       0.07      0.52      0.12        29\n",
      "         1.0       0.95      0.55      0.70       442\n",
      "\n",
      "    accuracy                           0.55       471\n",
      "   macro avg       0.51      0.53      0.41       471\n",
      "weighted avg       0.89      0.55      0.66       471\n",
      "\n"
     ]
    }
   ],
   "source": [
    "pred_16 = pipe16.predict(X_test)\n",
    "print(classification_report(y_test,pred_16))\n"
   ]
  },
  {
   "cell_type": "code",
   "execution_count": 634,
   "metadata": {},
   "outputs": [
    {
     "data": {
      "image/png": "[encoded data removed]",
      "text/plain": [
       "<Figure size 432x288 with 1 Axes>"
      ]
     },
     "metadata": {
      "needs_background": "light"
     },
     "output_type": "display_data"
    }
   ],
   "source": [
    "proba = pipe16.predict_proba(X_test)\n",
    "pred_proba = proba[:,1]\n",
    "fpr, tpr, threshold = metrics.roc_curve(y_test, pred_proba)\n",
    "roc_auc_rfo = metrics.auc(fpr, tpr)\n",
    "plt.plot(fpr, tpr, label='RF over sampled (AUC = %0.2f)' % roc_auc_rfo)\n",
    "plt.plot([0, 1], [0, 1],'r--')\n",
    "plt.xlim([-0.02, 1.0])\n",
    "plt.ylim([0.0, 1.05])\n",
    "plt.xlabel('False Positive Rate')\n",
    "plt.ylabel('True Positive Rate')\n",
    "plt.title('Receiver operating characteristic')\n",
    "plt.legend(loc=\"lower right\")\n",
    "plt.show()"
   ]
  },
  {
   "cell_type": "code",
   "execution_count": 635,
   "metadata": {},
   "outputs": [],
   "source": [
    "RFC_PCA_US_TL =  roc_auc_rfo\n",
    "pred_15 = pipe16.predict_proba(X_test)\n",
    "new_pred = np.where(pred_15[:,1]>0.50,1,0)"
   ]
  },
  {
   "cell_type": "code",
   "execution_count": 636,
   "metadata": {},
   "outputs": [
    {
     "name": "stdout",
     "output_type": "stream",
     "text": [
      "              precision    recall  f1-score   support\n",
      "\n",
      "         0.0       0.07      0.52      0.12        29\n",
      "         1.0       0.95      0.55      0.70       442\n",
      "\n",
      "    accuracy                           0.55       471\n",
      "   macro avg       0.51      0.53      0.41       471\n",
      "weighted avg       0.89      0.55      0.66       471\n",
      "\n"
     ]
    }
   ],
   "source": [
    "print(classification_report(y_test,new_pred))"
   ]
  },
  {
   "cell_type": "markdown",
   "metadata": {},
   "source": [
    "#### 2. Logistic Regression"
   ]
  },
  {
   "cell_type": "code",
   "execution_count": 637,
   "metadata": {},
   "outputs": [],
   "source": [
    "LG_10 = LogisticRegression()\n",
    "param_grid = {'n_jobs':[5]}\n",
    "skf_TL_US = StratifiedKFold(n_splits=5)\n",
    "GSCV_TL_US = GridSearchCV(estimator = LG_10,param_grid=param_grid,cv=skf_TL_US)\n",
    "pipe17 = Pipeline([('scale',StandardScaler()),\n",
    "                 ('pca',PCA(n_components=9)),\n",
    "                 ('model',GSCV_TL_US)])"
   ]
  },
  {
   "cell_type": "code",
   "execution_count": 638,
   "metadata": {},
   "outputs": [
    {
     "data": {
      "text/plain": [
       "Pipeline(steps=[('scale', StandardScaler()), ('pca', PCA(n_components=9)),\n",
       "                ('model',\n",
       "                 GridSearchCV(cv=StratifiedKFold(n_splits=5, random_state=None, shuffle=False),\n",
       "                              estimator=LogisticRegression(),\n",
       "                              param_grid={'n_jobs': [5]}))])"
      ]
     },
     "execution_count": 638,
     "metadata": {},
     "output_type": "execute_result"
    }
   ],
   "source": [
    "pipe17.fit(X_TL_US,y_TL_US)"
   ]
  },
  {
   "cell_type": "code",
   "execution_count": 639,
   "metadata": {},
   "outputs": [
    {
     "name": "stdout",
     "output_type": "stream",
     "text": [
      "              precision    recall  f1-score   support\n",
      "\n",
      "         0.0       0.09      0.59      0.15        29\n",
      "         1.0       0.96      0.59      0.73       442\n",
      "\n",
      "    accuracy                           0.59       471\n",
      "   macro avg       0.52      0.59      0.44       471\n",
      "weighted avg       0.90      0.59      0.69       471\n",
      "\n"
     ]
    }
   ],
   "source": [
    "pred_17 = pipe17.predict(X_test)\n",
    "print(classification_report(y_test,pred_17))\n"
   ]
  },
  {
   "cell_type": "code",
   "execution_count": 640,
   "metadata": {},
   "outputs": [
    {
     "data": {
      "image/png": "[encoded data removed]",
      "text/plain": [
       "<Figure size 432x288 with 1 Axes>"
      ]
     },
     "metadata": {
      "needs_background": "light"
     },
     "output_type": "display_data"
    }
   ],
   "source": [
    "proba = pipe17.predict_proba(X_test)\n",
    "pred_proba = proba[:,1]\n",
    "fpr, tpr, threshold = metrics.roc_curve(y_test, pred_proba)\n",
    "roc_auc_rfo = metrics.auc(fpr, tpr)\n",
    "plt.plot(fpr, tpr, label='RF over sampled (AUC = %0.2f)' % roc_auc_rfo)\n",
    "plt.plot([0, 1], [0, 1],'r--')\n",
    "plt.xlim([-0.02, 1.0])\n",
    "plt.ylim([0.0, 1.05])\n",
    "plt.xlabel('False Positive Rate')\n",
    "plt.ylabel('True Positive Rate')\n",
    "plt.title('Receiver operating characteristic')\n",
    "plt.legend(loc=\"lower right\")\n",
    "plt.show()"
   ]
  },
  {
   "cell_type": "code",
   "execution_count": 641,
   "metadata": {},
   "outputs": [],
   "source": [
    "Logit_PCA_US_TL =  roc_auc_rfo\n",
    "pred_15 = pipe17.predict_proba(X_test)\n",
    "new_pred = np.where(pred_15[:,1]>0.50,1,0)"
   ]
  },
  {
   "cell_type": "code",
   "execution_count": 642,
   "metadata": {},
   "outputs": [
    {
     "name": "stdout",
     "output_type": "stream",
     "text": [
      "              precision    recall  f1-score   support\n",
      "\n",
      "         0.0       0.09      0.59      0.15        29\n",
      "         1.0       0.96      0.59      0.73       442\n",
      "\n",
      "    accuracy                           0.59       471\n",
      "   macro avg       0.52      0.59      0.44       471\n",
      "weighted avg       0.90      0.59      0.69       471\n",
      "\n"
     ]
    }
   ],
   "source": [
    "print(classification_report(y_test,new_pred))"
   ]
  },
  {
   "cell_type": "markdown",
   "metadata": {},
   "source": [
    "## Out of all models, we notice that pipe9 is the only best model that has a good F1 score of 29% for class 0 and 92% for class 1.\n",
    "\n",
    "## Till now we have been splitting the existing data as train and test but in this case we  already have a seperate Test data in dataframe df imported from 'Future_predictions.xlsx'.\n",
    "\n",
    "## Now we will work on creating a pipeline that shall take in the future prediction inputs do all the necessary steps and pass it on to the model that will be trained with the complete data from dataframe df_sig loaded from 'signal-data.csv'"
   ]
  },
  {
   "cell_type": "code",
   "execution_count": 655,
   "metadata": {},
   "outputs": [],
   "source": [
    "list_model_performance = [Logit_nosampling,Logit_oversampling,Logit_SM_oversampling,DTC_nosampling,DTC_oversampling,DTC_SMOTE,RFC_nosampling,RFC_oversampling,RFC_SMOTE,Logit_PCA_oversampling,Logit_PCA_SMOTE,GuassianNB_PCA_oversampling,GuassianNB_PCA_SMOTE,DCT_PCA_OS,DCT_PCA_SM,RFC_PCA_OS,RFC_PCA_SM,Adaptive_PCA_OS,Adaptive_PCA_SM,gradient_PCA_OS,gradient_PCA_SM,RFC_PCA_SM_TL,RFC_PCA_US_TL,Logit_PCA_US_TL]\n",
    "list_model_name = ['Logit_nosampling','Logit_oversampling','Logit_SM_oversampling','DTC_nosampling','DTC_oversampling','DTC_SMOTE','RFC_nosampling','RFC_oversampling','RFC_SMOTE','Logit_PCA_oversampling','Logit_PCA_SMOTE','GuassianNB_PCA_oversampling','GuassianNB_PCA_SMOTE','DCT_PCA_OS','DCT_PCA_SM','RFC_PCA_OS','RFC_PCA_SM','Adaptive_PCA_OS','Adaptive_PCA_SM','gradient_PCA_OS','gradient_PCA_SM','RFC_PCA_SM_TL','RFC_PCA_US_TL','Logit_PCA_US_TL']"
   ]
  },
  {
   "cell_type": "code",
   "execution_count": 671,
   "metadata": {},
   "outputs": [],
   "source": [
    "model_performance = pd.DataFrame(list_model_name,columns=['Model_name'])\n",
    "model_performance['ROC_Score'] = list_model_performance"
   ]
  },
  {
   "cell_type": "code",
   "execution_count": 670,
   "metadata": {},
   "outputs": [
    {
     "data": {
      "text/html": [
       "<div>\n",
       "<style scoped>\n",
       "    .dataframe tbody tr th:only-of-type {\n",
       "        vertical-align: middle;\n",
       "    }\n",
       "\n",
       "    .dataframe tbody tr th {\n",
       "        vertical-align: top;\n",
       "    }\n",
       "\n",
       "    .dataframe thead th {\n",
       "        text-align: right;\n",
       "    }\n",
       "</style>\n",
       "<table border=\"1\" class=\"dataframe\">\n",
       "  <thead>\n",
       "    <tr style=\"text-align: right;\">\n",
       "      <th></th>\n",
       "      <th>Model_name</th>\n",
       "      <th>ROC_Score</th>\n",
       "    </tr>\n",
       "  </thead>\n",
       "  <tbody>\n",
       "    <tr>\n",
       "      <th>16</th>\n",
       "      <td>RFC_PCA_SM</td>\n",
       "      <td>0.740911</td>\n",
       "    </tr>\n",
       "    <tr>\n",
       "      <th>21</th>\n",
       "      <td>RFC_PCA_SM_TL</td>\n",
       "      <td>0.723748</td>\n",
       "    </tr>\n",
       "    <tr>\n",
       "      <th>6</th>\n",
       "      <td>RFC_nosampling</td>\n",
       "      <td>0.718482</td>\n",
       "    </tr>\n",
       "    <tr>\n",
       "      <th>20</th>\n",
       "      <td>gradient_PCA_SM</td>\n",
       "      <td>0.718287</td>\n",
       "    </tr>\n",
       "    <tr>\n",
       "      <th>8</th>\n",
       "      <td>RFC_SMOTE</td>\n",
       "      <td>0.705219</td>\n",
       "    </tr>\n",
       "    <tr>\n",
       "      <th>7</th>\n",
       "      <td>RFC_oversampling</td>\n",
       "      <td>0.702840</td>\n",
       "    </tr>\n",
       "    <tr>\n",
       "      <th>9</th>\n",
       "      <td>Logit_PCA_oversampling</td>\n",
       "      <td>0.689967</td>\n",
       "    </tr>\n",
       "    <tr>\n",
       "      <th>17</th>\n",
       "      <td>Adaptive_PCA_OS</td>\n",
       "      <td>0.664456</td>\n",
       "    </tr>\n",
       "    <tr>\n",
       "      <th>18</th>\n",
       "      <td>Adaptive_PCA_SM</td>\n",
       "      <td>0.660399</td>\n",
       "    </tr>\n",
       "    <tr>\n",
       "      <th>15</th>\n",
       "      <td>RFC_PCA_OS</td>\n",
       "      <td>0.658098</td>\n",
       "    </tr>\n",
       "    <tr>\n",
       "      <th>19</th>\n",
       "      <td>gradient_PCA_OS</td>\n",
       "      <td>0.645421</td>\n",
       "    </tr>\n",
       "    <tr>\n",
       "      <th>14</th>\n",
       "      <td>DCT_PCA_SM</td>\n",
       "      <td>0.644367</td>\n",
       "    </tr>\n",
       "    <tr>\n",
       "      <th>23</th>\n",
       "      <td>Logit_PCA_US_TL</td>\n",
       "      <td>0.635435</td>\n",
       "    </tr>\n",
       "    <tr>\n",
       "      <th>10</th>\n",
       "      <td>Logit_PCA_SMOTE</td>\n",
       "      <td>0.629271</td>\n",
       "    </tr>\n",
       "    <tr>\n",
       "      <th>0</th>\n",
       "      <td>Logit_nosampling</td>\n",
       "      <td>0.600094</td>\n",
       "    </tr>\n",
       "    <tr>\n",
       "      <th>1</th>\n",
       "      <td>Logit_oversampling</td>\n",
       "      <td>0.584100</td>\n",
       "    </tr>\n",
       "    <tr>\n",
       "      <th>12</th>\n",
       "      <td>GuassianNB_PCA_SMOTE</td>\n",
       "      <td>0.579108</td>\n",
       "    </tr>\n",
       "    <tr>\n",
       "      <th>5</th>\n",
       "      <td>DTC_SMOTE</td>\n",
       "      <td>0.574856</td>\n",
       "    </tr>\n",
       "    <tr>\n",
       "      <th>4</th>\n",
       "      <td>DTC_oversampling</td>\n",
       "      <td>0.568380</td>\n",
       "    </tr>\n",
       "    <tr>\n",
       "      <th>11</th>\n",
       "      <td>GuassianNB_PCA_oversampling</td>\n",
       "      <td>0.561008</td>\n",
       "    </tr>\n",
       "    <tr>\n",
       "      <th>2</th>\n",
       "      <td>Logit_SM_oversampling</td>\n",
       "      <td>0.560696</td>\n",
       "    </tr>\n",
       "    <tr>\n",
       "      <th>3</th>\n",
       "      <td>DTC_nosampling</td>\n",
       "      <td>0.552621</td>\n",
       "    </tr>\n",
       "    <tr>\n",
       "      <th>22</th>\n",
       "      <td>RFC_PCA_US_TL</td>\n",
       "      <td>0.551568</td>\n",
       "    </tr>\n",
       "    <tr>\n",
       "      <th>13</th>\n",
       "      <td>DCT_PCA_OS</td>\n",
       "      <td>0.502535</td>\n",
       "    </tr>\n",
       "  </tbody>\n",
       "</table>\n",
       "</div>"
      ],
      "text/plain": [
       "                     Model_name  ROC_Score\n",
       "16                   RFC_PCA_SM   0.740911\n",
       "21                RFC_PCA_SM_TL   0.723748\n",
       "6                RFC_nosampling   0.718482\n",
       "20              gradient_PCA_SM   0.718287\n",
       "8                     RFC_SMOTE   0.705219\n",
       "7              RFC_oversampling   0.702840\n",
       "9        Logit_PCA_oversampling   0.689967\n",
       "17              Adaptive_PCA_OS   0.664456\n",
       "18              Adaptive_PCA_SM   0.660399\n",
       "15                   RFC_PCA_OS   0.658098\n",
       "19              gradient_PCA_OS   0.645421\n",
       "14                   DCT_PCA_SM   0.644367\n",
       "23              Logit_PCA_US_TL   0.635435\n",
       "10              Logit_PCA_SMOTE   0.629271\n",
       "0              Logit_nosampling   0.600094\n",
       "1            Logit_oversampling   0.584100\n",
       "12         GuassianNB_PCA_SMOTE   0.579108\n",
       "5                     DTC_SMOTE   0.574856\n",
       "4              DTC_oversampling   0.568380\n",
       "11  GuassianNB_PCA_oversampling   0.561008\n",
       "2         Logit_SM_oversampling   0.560696\n",
       "3                DTC_nosampling   0.552621\n",
       "22                RFC_PCA_US_TL   0.551568\n",
       "13                   DCT_PCA_OS   0.502535"
      ]
     },
     "execution_count": 670,
     "metadata": {},
     "output_type": "execute_result"
    }
   ],
   "source": [
    "model_performance.sort_values(by=['ROC_Score'],ascending=False)"
   ]
  },
  {
   "cell_type": "markdown",
   "metadata": {},
   "source": [
    "# ***We notice that RFC_PCA_SM model has the highest ROC score of 0.74 making it the best model we ever made. So, we will be taking this model for deployment***\n",
    "\n",
    "# ***For a threshold of 0.38 the model gives 33% of F1score for class0(Minority class) and 96% of F1score for class 1.***\n"
   ]
  },
  {
   "cell_type": "markdown",
   "metadata": {},
   "source": [
    "## Step1 - Takes in dataframe as input, removes columns where there are more than 100 NaN."
   ]
  },
  {
   "cell_type": "code",
   "execution_count": 789,
   "metadata": {},
   "outputs": [],
   "source": [
    "def step1(x):\n",
    "    try:\n",
    "        x['Pass/Fail'].replace({1:0,-1:1},inplace=True)\n",
    "        Missing_values_percentage = []\n",
    "        Missing_value_count = []\n",
    "        for a,b in zip(x.isnull().sum(),x.columns):\n",
    "            percentage = (a/x[b].count())\n",
    "            if a > 100:\n",
    "                x.drop(b,axis=1,inplace=True)\n",
    "            else:\n",
    "                pass \n",
    "    except:\n",
    "        Missing_values_percentage = []\n",
    "        Missing_value_count = []\n",
    "        for a,b in zip(x.isnull().sum(),x.columns):\n",
    "            percentage = (a/x[b].count())\n",
    "            if a > 100:\n",
    "                x.drop(b,axis=1,inplace=True)\n",
    "            else:\n",
    "                pass \n",
    "    return x"
   ]
  },
  {
   "cell_type": "code",
   "execution_count": 752,
   "metadata": {},
   "outputs": [],
   "source": [
    "a = step1(df_sig1)"
   ]
  },
  {
   "cell_type": "code",
   "execution_count": 753,
   "metadata": {},
   "outputs": [
    {
     "data": {
      "text/html": [
       "<div>\n",
       "<style scoped>\n",
       "    .dataframe tbody tr th:only-of-type {\n",
       "        vertical-align: middle;\n",
       "    }\n",
       "\n",
       "    .dataframe tbody tr th {\n",
       "        vertical-align: top;\n",
       "    }\n",
       "\n",
       "    .dataframe thead th {\n",
       "        text-align: right;\n",
       "    }\n",
       "</style>\n",
       "<table border=\"1\" class=\"dataframe\">\n",
       "  <thead>\n",
       "    <tr style=\"text-align: right;\">\n",
       "      <th></th>\n",
       "      <th>Time</th>\n",
       "      <th>0</th>\n",
       "      <th>1</th>\n",
       "      <th>2</th>\n",
       "      <th>3</th>\n",
       "      <th>4</th>\n",
       "      <th>5</th>\n",
       "      <th>6</th>\n",
       "      <th>7</th>\n",
       "      <th>8</th>\n",
       "      <th>...</th>\n",
       "      <th>577</th>\n",
       "      <th>582</th>\n",
       "      <th>583</th>\n",
       "      <th>584</th>\n",
       "      <th>585</th>\n",
       "      <th>586</th>\n",
       "      <th>587</th>\n",
       "      <th>588</th>\n",
       "      <th>589</th>\n",
       "      <th>Pass/Fail</th>\n",
       "    </tr>\n",
       "  </thead>\n",
       "  <tbody>\n",
       "    <tr>\n",
       "      <th>0</th>\n",
       "      <td>2008-07-19 11:55:00</td>\n",
       "      <td>3030.93</td>\n",
       "      <td>2564.00</td>\n",
       "      <td>2187.7333</td>\n",
       "      <td>1411.1265</td>\n",
       "      <td>1.3602</td>\n",
       "      <td>100.0</td>\n",
       "      <td>97.6133</td>\n",
       "      <td>0.1242</td>\n",
       "      <td>1.5005</td>\n",
       "      <td>...</td>\n",
       "      <td>14.9509</td>\n",
       "      <td>0.5005</td>\n",
       "      <td>0.0118</td>\n",
       "      <td>0.0035</td>\n",
       "      <td>2.3630</td>\n",
       "      <td>NaN</td>\n",
       "      <td>NaN</td>\n",
       "      <td>NaN</td>\n",
       "      <td>NaN</td>\n",
       "      <td>1</td>\n",
       "    </tr>\n",
       "    <tr>\n",
       "      <th>1</th>\n",
       "      <td>2008-07-19 12:32:00</td>\n",
       "      <td>3095.78</td>\n",
       "      <td>2465.14</td>\n",
       "      <td>2230.4222</td>\n",
       "      <td>1463.6606</td>\n",
       "      <td>0.8294</td>\n",
       "      <td>100.0</td>\n",
       "      <td>102.3433</td>\n",
       "      <td>0.1247</td>\n",
       "      <td>1.4966</td>\n",
       "      <td>...</td>\n",
       "      <td>10.9003</td>\n",
       "      <td>0.5019</td>\n",
       "      <td>0.0223</td>\n",
       "      <td>0.0055</td>\n",
       "      <td>4.4447</td>\n",
       "      <td>0.0096</td>\n",
       "      <td>0.0201</td>\n",
       "      <td>0.0060</td>\n",
       "      <td>208.2045</td>\n",
       "      <td>1</td>\n",
       "    </tr>\n",
       "    <tr>\n",
       "      <th>2</th>\n",
       "      <td>2008-07-19 13:17:00</td>\n",
       "      <td>2932.61</td>\n",
       "      <td>2559.94</td>\n",
       "      <td>2186.4111</td>\n",
       "      <td>1698.0172</td>\n",
       "      <td>1.5102</td>\n",
       "      <td>100.0</td>\n",
       "      <td>95.4878</td>\n",
       "      <td>0.1241</td>\n",
       "      <td>1.4436</td>\n",
       "      <td>...</td>\n",
       "      <td>9.2721</td>\n",
       "      <td>0.4958</td>\n",
       "      <td>0.0157</td>\n",
       "      <td>0.0039</td>\n",
       "      <td>3.1745</td>\n",
       "      <td>0.0584</td>\n",
       "      <td>0.0484</td>\n",
       "      <td>0.0148</td>\n",
       "      <td>82.8602</td>\n",
       "      <td>0</td>\n",
       "    </tr>\n",
       "    <tr>\n",
       "      <th>3</th>\n",
       "      <td>2008-07-19 14:43:00</td>\n",
       "      <td>2988.72</td>\n",
       "      <td>2479.90</td>\n",
       "      <td>2199.0333</td>\n",
       "      <td>909.7926</td>\n",
       "      <td>1.3204</td>\n",
       "      <td>100.0</td>\n",
       "      <td>104.2367</td>\n",
       "      <td>0.1217</td>\n",
       "      <td>1.4882</td>\n",
       "      <td>...</td>\n",
       "      <td>8.5831</td>\n",
       "      <td>0.4990</td>\n",
       "      <td>0.0103</td>\n",
       "      <td>0.0025</td>\n",
       "      <td>2.0544</td>\n",
       "      <td>0.0202</td>\n",
       "      <td>0.0149</td>\n",
       "      <td>0.0044</td>\n",
       "      <td>73.8432</td>\n",
       "      <td>1</td>\n",
       "    </tr>\n",
       "    <tr>\n",
       "      <th>4</th>\n",
       "      <td>2008-07-19 15:22:00</td>\n",
       "      <td>3032.24</td>\n",
       "      <td>2502.87</td>\n",
       "      <td>2233.3667</td>\n",
       "      <td>1326.5200</td>\n",
       "      <td>1.5334</td>\n",
       "      <td>100.0</td>\n",
       "      <td>100.3967</td>\n",
       "      <td>0.1235</td>\n",
       "      <td>1.5031</td>\n",
       "      <td>...</td>\n",
       "      <td>10.9698</td>\n",
       "      <td>0.4800</td>\n",
       "      <td>0.4766</td>\n",
       "      <td>0.1045</td>\n",
       "      <td>99.3032</td>\n",
       "      <td>0.0202</td>\n",
       "      <td>0.0149</td>\n",
       "      <td>0.0044</td>\n",
       "      <td>73.8432</td>\n",
       "      <td>1</td>\n",
       "    </tr>\n",
       "    <tr>\n",
       "      <th>...</th>\n",
       "      <td>...</td>\n",
       "      <td>...</td>\n",
       "      <td>...</td>\n",
       "      <td>...</td>\n",
       "      <td>...</td>\n",
       "      <td>...</td>\n",
       "      <td>...</td>\n",
       "      <td>...</td>\n",
       "      <td>...</td>\n",
       "      <td>...</td>\n",
       "      <td>...</td>\n",
       "      <td>...</td>\n",
       "      <td>...</td>\n",
       "      <td>...</td>\n",
       "      <td>...</td>\n",
       "      <td>...</td>\n",
       "      <td>...</td>\n",
       "      <td>...</td>\n",
       "      <td>...</td>\n",
       "      <td>...</td>\n",
       "      <td>...</td>\n",
       "    </tr>\n",
       "    <tr>\n",
       "      <th>1562</th>\n",
       "      <td>2008-10-16 15:13:00</td>\n",
       "      <td>2899.41</td>\n",
       "      <td>2464.36</td>\n",
       "      <td>2179.7333</td>\n",
       "      <td>3085.3781</td>\n",
       "      <td>1.4843</td>\n",
       "      <td>100.0</td>\n",
       "      <td>82.2467</td>\n",
       "      <td>0.1248</td>\n",
       "      <td>1.3424</td>\n",
       "      <td>...</td>\n",
       "      <td>11.7256</td>\n",
       "      <td>0.4988</td>\n",
       "      <td>0.0143</td>\n",
       "      <td>0.0039</td>\n",
       "      <td>2.8669</td>\n",
       "      <td>0.0068</td>\n",
       "      <td>0.0138</td>\n",
       "      <td>0.0047</td>\n",
       "      <td>203.1720</td>\n",
       "      <td>1</td>\n",
       "    </tr>\n",
       "    <tr>\n",
       "      <th>1563</th>\n",
       "      <td>2008-10-16 20:49:00</td>\n",
       "      <td>3052.31</td>\n",
       "      <td>2522.55</td>\n",
       "      <td>2198.5667</td>\n",
       "      <td>1124.6595</td>\n",
       "      <td>0.8763</td>\n",
       "      <td>100.0</td>\n",
       "      <td>98.4689</td>\n",
       "      <td>0.1205</td>\n",
       "      <td>1.4333</td>\n",
       "      <td>...</td>\n",
       "      <td>17.8379</td>\n",
       "      <td>0.4975</td>\n",
       "      <td>0.0131</td>\n",
       "      <td>0.0036</td>\n",
       "      <td>2.6238</td>\n",
       "      <td>0.0068</td>\n",
       "      <td>0.0138</td>\n",
       "      <td>0.0047</td>\n",
       "      <td>203.1720</td>\n",
       "      <td>1</td>\n",
       "    </tr>\n",
       "    <tr>\n",
       "      <th>1564</th>\n",
       "      <td>2008-10-17 05:26:00</td>\n",
       "      <td>2978.81</td>\n",
       "      <td>2379.78</td>\n",
       "      <td>2206.3000</td>\n",
       "      <td>1110.4967</td>\n",
       "      <td>0.8236</td>\n",
       "      <td>100.0</td>\n",
       "      <td>99.4122</td>\n",
       "      <td>0.1208</td>\n",
       "      <td>NaN</td>\n",
       "      <td>...</td>\n",
       "      <td>17.7267</td>\n",
       "      <td>0.4987</td>\n",
       "      <td>0.0153</td>\n",
       "      <td>0.0041</td>\n",
       "      <td>3.0590</td>\n",
       "      <td>0.0197</td>\n",
       "      <td>0.0086</td>\n",
       "      <td>0.0025</td>\n",
       "      <td>43.5231</td>\n",
       "      <td>1</td>\n",
       "    </tr>\n",
       "    <tr>\n",
       "      <th>1565</th>\n",
       "      <td>2008-10-17 06:01:00</td>\n",
       "      <td>2894.92</td>\n",
       "      <td>2532.01</td>\n",
       "      <td>2177.0333</td>\n",
       "      <td>1183.7287</td>\n",
       "      <td>1.5726</td>\n",
       "      <td>100.0</td>\n",
       "      <td>98.7978</td>\n",
       "      <td>0.1213</td>\n",
       "      <td>1.4622</td>\n",
       "      <td>...</td>\n",
       "      <td>19.2104</td>\n",
       "      <td>0.5004</td>\n",
       "      <td>0.0178</td>\n",
       "      <td>0.0038</td>\n",
       "      <td>3.5662</td>\n",
       "      <td>0.0262</td>\n",
       "      <td>0.0245</td>\n",
       "      <td>0.0075</td>\n",
       "      <td>93.4941</td>\n",
       "      <td>1</td>\n",
       "    </tr>\n",
       "    <tr>\n",
       "      <th>1566</th>\n",
       "      <td>2008-10-17 06:07:00</td>\n",
       "      <td>2944.92</td>\n",
       "      <td>2450.76</td>\n",
       "      <td>2195.4444</td>\n",
       "      <td>2914.1792</td>\n",
       "      <td>1.5978</td>\n",
       "      <td>100.0</td>\n",
       "      <td>85.1011</td>\n",
       "      <td>0.1235</td>\n",
       "      <td>NaN</td>\n",
       "      <td>...</td>\n",
       "      <td>22.9183</td>\n",
       "      <td>0.4987</td>\n",
       "      <td>0.0181</td>\n",
       "      <td>0.0040</td>\n",
       "      <td>3.6275</td>\n",
       "      <td>0.0117</td>\n",
       "      <td>0.0162</td>\n",
       "      <td>0.0045</td>\n",
       "      <td>137.7844</td>\n",
       "      <td>1</td>\n",
       "    </tr>\n",
       "  </tbody>\n",
       "</table>\n",
       "<p>1567 rows × 540 columns</p>\n",
       "</div>"
      ],
      "text/plain": [
       "                     Time        0        1          2          3       4  \\\n",
       "0     2008-07-19 11:55:00  3030.93  2564.00  2187.7333  1411.1265  1.3602   \n",
       "1     2008-07-19 12:32:00  3095.78  2465.14  2230.4222  1463.6606  0.8294   \n",
       "2     2008-07-19 13:17:00  2932.61  2559.94  2186.4111  1698.0172  1.5102   \n",
       "3     2008-07-19 14:43:00  2988.72  2479.90  2199.0333   909.7926  1.3204   \n",
       "4     2008-07-19 15:22:00  3032.24  2502.87  2233.3667  1326.5200  1.5334   \n",
       "...                   ...      ...      ...        ...        ...     ...   \n",
       "1562  2008-10-16 15:13:00  2899.41  2464.36  2179.7333  3085.3781  1.4843   \n",
       "1563  2008-10-16 20:49:00  3052.31  2522.55  2198.5667  1124.6595  0.8763   \n",
       "1564  2008-10-17 05:26:00  2978.81  2379.78  2206.3000  1110.4967  0.8236   \n",
       "1565  2008-10-17 06:01:00  2894.92  2532.01  2177.0333  1183.7287  1.5726   \n",
       "1566  2008-10-17 06:07:00  2944.92  2450.76  2195.4444  2914.1792  1.5978   \n",
       "\n",
       "          5         6       7       8  ...      577     582     583     584  \\\n",
       "0     100.0   97.6133  0.1242  1.5005  ...  14.9509  0.5005  0.0118  0.0035   \n",
       "1     100.0  102.3433  0.1247  1.4966  ...  10.9003  0.5019  0.0223  0.0055   \n",
       "2     100.0   95.4878  0.1241  1.4436  ...   9.2721  0.4958  0.0157  0.0039   \n",
       "3     100.0  104.2367  0.1217  1.4882  ...   8.5831  0.4990  0.0103  0.0025   \n",
       "4     100.0  100.3967  0.1235  1.5031  ...  10.9698  0.4800  0.4766  0.1045   \n",
       "...     ...       ...     ...     ...  ...      ...     ...     ...     ...   \n",
       "1562  100.0   82.2467  0.1248  1.3424  ...  11.7256  0.4988  0.0143  0.0039   \n",
       "1563  100.0   98.4689  0.1205  1.4333  ...  17.8379  0.4975  0.0131  0.0036   \n",
       "1564  100.0   99.4122  0.1208     NaN  ...  17.7267  0.4987  0.0153  0.0041   \n",
       "1565  100.0   98.7978  0.1213  1.4622  ...  19.2104  0.5004  0.0178  0.0038   \n",
       "1566  100.0   85.1011  0.1235     NaN  ...  22.9183  0.4987  0.0181  0.0040   \n",
       "\n",
       "          585     586     587     588       589  Pass/Fail  \n",
       "0      2.3630     NaN     NaN     NaN       NaN          1  \n",
       "1      4.4447  0.0096  0.0201  0.0060  208.2045          1  \n",
       "2      3.1745  0.0584  0.0484  0.0148   82.8602          0  \n",
       "3      2.0544  0.0202  0.0149  0.0044   73.8432          1  \n",
       "4     99.3032  0.0202  0.0149  0.0044   73.8432          1  \n",
       "...       ...     ...     ...     ...       ...        ...  \n",
       "1562   2.8669  0.0068  0.0138  0.0047  203.1720          1  \n",
       "1563   2.6238  0.0068  0.0138  0.0047  203.1720          1  \n",
       "1564   3.0590  0.0197  0.0086  0.0025   43.5231          1  \n",
       "1565   3.5662  0.0262  0.0245  0.0075   93.4941          1  \n",
       "1566   3.6275  0.0117  0.0162  0.0045  137.7844          1  \n",
       "\n",
       "[1567 rows x 540 columns]"
      ]
     },
     "execution_count": 753,
     "metadata": {},
     "output_type": "execute_result"
    }
   ],
   "source": [
    "a"
   ]
  },
  {
   "cell_type": "markdown",
   "metadata": {},
   "source": [
    "# Step2 - Fills in missing values with median"
   ]
  },
  {
   "cell_type": "code",
   "execution_count": 764,
   "metadata": {},
   "outputs": [],
   "source": [
    "def step2(x):\n",
    "    knnimp = KNNImputer(n_neighbors=5)\n",
    "    x = x.drop('Time',axis=1)\n",
    "    b = knnimp.fit_transform(x)\n",
    "    dd = pd.DataFrame(b,columns=x.columns)\n",
    "    return dd"
   ]
  },
  {
   "cell_type": "code",
   "execution_count": 765,
   "metadata": {},
   "outputs": [
    {
     "data": {
      "text/html": [
       "<div>\n",
       "<style scoped>\n",
       "    .dataframe tbody tr th:only-of-type {\n",
       "        vertical-align: middle;\n",
       "    }\n",
       "\n",
       "    .dataframe tbody tr th {\n",
       "        vertical-align: top;\n",
       "    }\n",
       "\n",
       "    .dataframe thead th {\n",
       "        text-align: right;\n",
       "    }\n",
       "</style>\n",
       "<table border=\"1\" class=\"dataframe\">\n",
       "  <thead>\n",
       "    <tr style=\"text-align: right;\">\n",
       "      <th></th>\n",
       "      <th>0</th>\n",
       "      <th>1</th>\n",
       "      <th>2</th>\n",
       "      <th>3</th>\n",
       "      <th>4</th>\n",
       "      <th>5</th>\n",
       "      <th>6</th>\n",
       "      <th>7</th>\n",
       "      <th>8</th>\n",
       "      <th>9</th>\n",
       "      <th>...</th>\n",
       "      <th>577</th>\n",
       "      <th>582</th>\n",
       "      <th>583</th>\n",
       "      <th>584</th>\n",
       "      <th>585</th>\n",
       "      <th>586</th>\n",
       "      <th>587</th>\n",
       "      <th>588</th>\n",
       "      <th>589</th>\n",
       "      <th>Pass/Fail</th>\n",
       "    </tr>\n",
       "  </thead>\n",
       "  <tbody>\n",
       "    <tr>\n",
       "      <th>0</th>\n",
       "      <td>3030.93</td>\n",
       "      <td>2564.00</td>\n",
       "      <td>2187.7333</td>\n",
       "      <td>1411.1265</td>\n",
       "      <td>1.3602</td>\n",
       "      <td>100.0</td>\n",
       "      <td>97.6133</td>\n",
       "      <td>0.1242</td>\n",
       "      <td>1.50050</td>\n",
       "      <td>0.01620</td>\n",
       "      <td>...</td>\n",
       "      <td>14.9509</td>\n",
       "      <td>0.5005</td>\n",
       "      <td>0.0118</td>\n",
       "      <td>0.0035</td>\n",
       "      <td>2.3630</td>\n",
       "      <td>0.01942</td>\n",
       "      <td>0.01266</td>\n",
       "      <td>0.00438</td>\n",
       "      <td>65.5742</td>\n",
       "      <td>1.0</td>\n",
       "    </tr>\n",
       "    <tr>\n",
       "      <th>1</th>\n",
       "      <td>3095.78</td>\n",
       "      <td>2465.14</td>\n",
       "      <td>2230.4222</td>\n",
       "      <td>1463.6606</td>\n",
       "      <td>0.8294</td>\n",
       "      <td>100.0</td>\n",
       "      <td>102.3433</td>\n",
       "      <td>0.1247</td>\n",
       "      <td>1.49660</td>\n",
       "      <td>-0.00050</td>\n",
       "      <td>...</td>\n",
       "      <td>10.9003</td>\n",
       "      <td>0.5019</td>\n",
       "      <td>0.0223</td>\n",
       "      <td>0.0055</td>\n",
       "      <td>4.4447</td>\n",
       "      <td>0.00960</td>\n",
       "      <td>0.02010</td>\n",
       "      <td>0.00600</td>\n",
       "      <td>208.2045</td>\n",
       "      <td>1.0</td>\n",
       "    </tr>\n",
       "    <tr>\n",
       "      <th>2</th>\n",
       "      <td>2932.61</td>\n",
       "      <td>2559.94</td>\n",
       "      <td>2186.4111</td>\n",
       "      <td>1698.0172</td>\n",
       "      <td>1.5102</td>\n",
       "      <td>100.0</td>\n",
       "      <td>95.4878</td>\n",
       "      <td>0.1241</td>\n",
       "      <td>1.44360</td>\n",
       "      <td>0.00410</td>\n",
       "      <td>...</td>\n",
       "      <td>9.2721</td>\n",
       "      <td>0.4958</td>\n",
       "      <td>0.0157</td>\n",
       "      <td>0.0039</td>\n",
       "      <td>3.1745</td>\n",
       "      <td>0.05840</td>\n",
       "      <td>0.04840</td>\n",
       "      <td>0.01480</td>\n",
       "      <td>82.8602</td>\n",
       "      <td>0.0</td>\n",
       "    </tr>\n",
       "    <tr>\n",
       "      <th>3</th>\n",
       "      <td>2988.72</td>\n",
       "      <td>2479.90</td>\n",
       "      <td>2199.0333</td>\n",
       "      <td>909.7926</td>\n",
       "      <td>1.3204</td>\n",
       "      <td>100.0</td>\n",
       "      <td>104.2367</td>\n",
       "      <td>0.1217</td>\n",
       "      <td>1.48820</td>\n",
       "      <td>-0.01240</td>\n",
       "      <td>...</td>\n",
       "      <td>8.5831</td>\n",
       "      <td>0.4990</td>\n",
       "      <td>0.0103</td>\n",
       "      <td>0.0025</td>\n",
       "      <td>2.0544</td>\n",
       "      <td>0.02020</td>\n",
       "      <td>0.01490</td>\n",
       "      <td>0.00440</td>\n",
       "      <td>73.8432</td>\n",
       "      <td>1.0</td>\n",
       "    </tr>\n",
       "    <tr>\n",
       "      <th>4</th>\n",
       "      <td>3032.24</td>\n",
       "      <td>2502.87</td>\n",
       "      <td>2233.3667</td>\n",
       "      <td>1326.5200</td>\n",
       "      <td>1.5334</td>\n",
       "      <td>100.0</td>\n",
       "      <td>100.3967</td>\n",
       "      <td>0.1235</td>\n",
       "      <td>1.50310</td>\n",
       "      <td>-0.00310</td>\n",
       "      <td>...</td>\n",
       "      <td>10.9698</td>\n",
       "      <td>0.4800</td>\n",
       "      <td>0.4766</td>\n",
       "      <td>0.1045</td>\n",
       "      <td>99.3032</td>\n",
       "      <td>0.02020</td>\n",
       "      <td>0.01490</td>\n",
       "      <td>0.00440</td>\n",
       "      <td>73.8432</td>\n",
       "      <td>1.0</td>\n",
       "    </tr>\n",
       "    <tr>\n",
       "      <th>...</th>\n",
       "      <td>...</td>\n",
       "      <td>...</td>\n",
       "      <td>...</td>\n",
       "      <td>...</td>\n",
       "      <td>...</td>\n",
       "      <td>...</td>\n",
       "      <td>...</td>\n",
       "      <td>...</td>\n",
       "      <td>...</td>\n",
       "      <td>...</td>\n",
       "      <td>...</td>\n",
       "      <td>...</td>\n",
       "      <td>...</td>\n",
       "      <td>...</td>\n",
       "      <td>...</td>\n",
       "      <td>...</td>\n",
       "      <td>...</td>\n",
       "      <td>...</td>\n",
       "      <td>...</td>\n",
       "      <td>...</td>\n",
       "      <td>...</td>\n",
       "    </tr>\n",
       "    <tr>\n",
       "      <th>1562</th>\n",
       "      <td>2899.41</td>\n",
       "      <td>2464.36</td>\n",
       "      <td>2179.7333</td>\n",
       "      <td>3085.3781</td>\n",
       "      <td>1.4843</td>\n",
       "      <td>100.0</td>\n",
       "      <td>82.2467</td>\n",
       "      <td>0.1248</td>\n",
       "      <td>1.34240</td>\n",
       "      <td>-0.00450</td>\n",
       "      <td>...</td>\n",
       "      <td>11.7256</td>\n",
       "      <td>0.4988</td>\n",
       "      <td>0.0143</td>\n",
       "      <td>0.0039</td>\n",
       "      <td>2.8669</td>\n",
       "      <td>0.00680</td>\n",
       "      <td>0.01380</td>\n",
       "      <td>0.00470</td>\n",
       "      <td>203.1720</td>\n",
       "      <td>1.0</td>\n",
       "    </tr>\n",
       "    <tr>\n",
       "      <th>1563</th>\n",
       "      <td>3052.31</td>\n",
       "      <td>2522.55</td>\n",
       "      <td>2198.5667</td>\n",
       "      <td>1124.6595</td>\n",
       "      <td>0.8763</td>\n",
       "      <td>100.0</td>\n",
       "      <td>98.4689</td>\n",
       "      <td>0.1205</td>\n",
       "      <td>1.43330</td>\n",
       "      <td>-0.00610</td>\n",
       "      <td>...</td>\n",
       "      <td>17.8379</td>\n",
       "      <td>0.4975</td>\n",
       "      <td>0.0131</td>\n",
       "      <td>0.0036</td>\n",
       "      <td>2.6238</td>\n",
       "      <td>0.00680</td>\n",
       "      <td>0.01380</td>\n",
       "      <td>0.00470</td>\n",
       "      <td>203.1720</td>\n",
       "      <td>1.0</td>\n",
       "    </tr>\n",
       "    <tr>\n",
       "      <th>1564</th>\n",
       "      <td>2978.81</td>\n",
       "      <td>2379.78</td>\n",
       "      <td>2206.3000</td>\n",
       "      <td>1110.4967</td>\n",
       "      <td>0.8236</td>\n",
       "      <td>100.0</td>\n",
       "      <td>99.4122</td>\n",
       "      <td>0.1208</td>\n",
       "      <td>1.47424</td>\n",
       "      <td>-0.00684</td>\n",
       "      <td>...</td>\n",
       "      <td>17.7267</td>\n",
       "      <td>0.4987</td>\n",
       "      <td>0.0153</td>\n",
       "      <td>0.0041</td>\n",
       "      <td>3.0590</td>\n",
       "      <td>0.01970</td>\n",
       "      <td>0.00860</td>\n",
       "      <td>0.00250</td>\n",
       "      <td>43.5231</td>\n",
       "      <td>1.0</td>\n",
       "    </tr>\n",
       "    <tr>\n",
       "      <th>1565</th>\n",
       "      <td>2894.92</td>\n",
       "      <td>2532.01</td>\n",
       "      <td>2177.0333</td>\n",
       "      <td>1183.7287</td>\n",
       "      <td>1.5726</td>\n",
       "      <td>100.0</td>\n",
       "      <td>98.7978</td>\n",
       "      <td>0.1213</td>\n",
       "      <td>1.46220</td>\n",
       "      <td>-0.00720</td>\n",
       "      <td>...</td>\n",
       "      <td>19.2104</td>\n",
       "      <td>0.5004</td>\n",
       "      <td>0.0178</td>\n",
       "      <td>0.0038</td>\n",
       "      <td>3.5662</td>\n",
       "      <td>0.02620</td>\n",
       "      <td>0.02450</td>\n",
       "      <td>0.00750</td>\n",
       "      <td>93.4941</td>\n",
       "      <td>1.0</td>\n",
       "    </tr>\n",
       "    <tr>\n",
       "      <th>1566</th>\n",
       "      <td>2944.92</td>\n",
       "      <td>2450.76</td>\n",
       "      <td>2195.4444</td>\n",
       "      <td>2914.1792</td>\n",
       "      <td>1.5978</td>\n",
       "      <td>100.0</td>\n",
       "      <td>85.1011</td>\n",
       "      <td>0.1235</td>\n",
       "      <td>1.44456</td>\n",
       "      <td>0.00248</td>\n",
       "      <td>...</td>\n",
       "      <td>22.9183</td>\n",
       "      <td>0.4987</td>\n",
       "      <td>0.0181</td>\n",
       "      <td>0.0040</td>\n",
       "      <td>3.6275</td>\n",
       "      <td>0.01170</td>\n",
       "      <td>0.01620</td>\n",
       "      <td>0.00450</td>\n",
       "      <td>137.7844</td>\n",
       "      <td>1.0</td>\n",
       "    </tr>\n",
       "  </tbody>\n",
       "</table>\n",
       "<p>1567 rows × 539 columns</p>\n",
       "</div>"
      ],
      "text/plain": [
       "            0        1          2          3       4      5         6       7  \\\n",
       "0     3030.93  2564.00  2187.7333  1411.1265  1.3602  100.0   97.6133  0.1242   \n",
       "1     3095.78  2465.14  2230.4222  1463.6606  0.8294  100.0  102.3433  0.1247   \n",
       "2     2932.61  2559.94  2186.4111  1698.0172  1.5102  100.0   95.4878  0.1241   \n",
       "3     2988.72  2479.90  2199.0333   909.7926  1.3204  100.0  104.2367  0.1217   \n",
       "4     3032.24  2502.87  2233.3667  1326.5200  1.5334  100.0  100.3967  0.1235   \n",
       "...       ...      ...        ...        ...     ...    ...       ...     ...   \n",
       "1562  2899.41  2464.36  2179.7333  3085.3781  1.4843  100.0   82.2467  0.1248   \n",
       "1563  3052.31  2522.55  2198.5667  1124.6595  0.8763  100.0   98.4689  0.1205   \n",
       "1564  2978.81  2379.78  2206.3000  1110.4967  0.8236  100.0   99.4122  0.1208   \n",
       "1565  2894.92  2532.01  2177.0333  1183.7287  1.5726  100.0   98.7978  0.1213   \n",
       "1566  2944.92  2450.76  2195.4444  2914.1792  1.5978  100.0   85.1011  0.1235   \n",
       "\n",
       "            8        9  ...      577     582     583     584      585  \\\n",
       "0     1.50050  0.01620  ...  14.9509  0.5005  0.0118  0.0035   2.3630   \n",
       "1     1.49660 -0.00050  ...  10.9003  0.5019  0.0223  0.0055   4.4447   \n",
       "2     1.44360  0.00410  ...   9.2721  0.4958  0.0157  0.0039   3.1745   \n",
       "3     1.48820 -0.01240  ...   8.5831  0.4990  0.0103  0.0025   2.0544   \n",
       "4     1.50310 -0.00310  ...  10.9698  0.4800  0.4766  0.1045  99.3032   \n",
       "...       ...      ...  ...      ...     ...     ...     ...      ...   \n",
       "1562  1.34240 -0.00450  ...  11.7256  0.4988  0.0143  0.0039   2.8669   \n",
       "1563  1.43330 -0.00610  ...  17.8379  0.4975  0.0131  0.0036   2.6238   \n",
       "1564  1.47424 -0.00684  ...  17.7267  0.4987  0.0153  0.0041   3.0590   \n",
       "1565  1.46220 -0.00720  ...  19.2104  0.5004  0.0178  0.0038   3.5662   \n",
       "1566  1.44456  0.00248  ...  22.9183  0.4987  0.0181  0.0040   3.6275   \n",
       "\n",
       "          586      587      588       589  Pass/Fail  \n",
       "0     0.01942  0.01266  0.00438   65.5742        1.0  \n",
       "1     0.00960  0.02010  0.00600  208.2045        1.0  \n",
       "2     0.05840  0.04840  0.01480   82.8602        0.0  \n",
       "3     0.02020  0.01490  0.00440   73.8432        1.0  \n",
       "4     0.02020  0.01490  0.00440   73.8432        1.0  \n",
       "...       ...      ...      ...       ...        ...  \n",
       "1562  0.00680  0.01380  0.00470  203.1720        1.0  \n",
       "1563  0.00680  0.01380  0.00470  203.1720        1.0  \n",
       "1564  0.01970  0.00860  0.00250   43.5231        1.0  \n",
       "1565  0.02620  0.02450  0.00750   93.4941        1.0  \n",
       "1566  0.01170  0.01620  0.00450  137.7844        1.0  \n",
       "\n",
       "[1567 rows x 539 columns]"
      ]
     },
     "execution_count": 765,
     "metadata": {},
     "output_type": "execute_result"
    }
   ],
   "source": [
    "step2(a)"
   ]
  },
  {
   "cell_type": "markdown",
   "metadata": {},
   "source": [
    "# *Pickling the pipe9 model* - *To pickle the model with pipeline we use joblib*"
   ]
  },
  {
   "cell_type": "code",
   "execution_count": 782,
   "metadata": {},
   "outputs": [],
   "source": [
    "# prod_model = pickle.dump(pipe9,open('pipe9.pkl','wb'))    "
   ]
  },
  {
   "cell_type": "code",
   "execution_count": 908,
   "metadata": {},
   "outputs": [],
   "source": [
    "#Pickle model\n",
    "import joblib\n",
    "joblib.dump(pipe9, 'pipe9_prod.pkl')\n",
    "\n",
    "#LoadModel\n",
    "with open('pipe9_prod.pkl','rb')as model1:\n",
    "    prod_model1 = joblib.load(model1)"
   ]
  },
  {
   "cell_type": "code",
   "execution_count": 913,
   "metadata": {},
   "outputs": [
    {
     "data": {
      "text/plain": [
       "Pipeline(steps=[('scale', StandardScaler()), ('pca', PCA(n_components=8)),\n",
       "                ('model',\n",
       "                 GridSearchCV(cv=StratifiedKFold(n_splits=5, random_state=None, shuffle=False),\n",
       "                              estimator=RandomForestClassifier(),\n",
       "                              param_grid={'n_estimators': [100, 200, 300, 400,\n",
       "                                                           500, 600, 700,\n",
       "                                                           800]}))])"
      ]
     },
     "execution_count": 913,
     "metadata": {},
     "output_type": "execute_result"
    }
   ],
   "source": [
    "prod_model1"
   ]
  },
  {
   "cell_type": "code",
   "execution_count": 943,
   "metadata": {},
   "outputs": [],
   "source": [
    "def step2(x):\n",
    "    knnimp = KNNImputer(n_neighbors=5)\n",
    "    x = x.drop('Time',axis=1)\n",
    "    b = knnimp.fit_transform(x)\n",
    "    dd = pd.DataFrame(b)\n",
    "    return dd\n",
    "\n",
    "\n",
    "\n",
    "#The function that will take inputs and produce the outputs in the form of dataframe\n",
    "def prod_func(x):\n",
    "    a = step1(x)\n",
    "    b = step2(a)\n",
    "    proba = prod_model1.predict_proba(b)\n",
    "    new_pred = np.where(proba[:,1]>0.38,1,0)\n",
    "    dd_ff = pd.DataFrame(new_pred)\n",
    "    dd_ff['Proba'] = prod_model1.predict_proba(b)[:,1]\n",
    "    return dd_ff\n",
    "    \n",
    "    "
   ]
  },
  {
   "cell_type": "code",
   "execution_count": 945,
   "metadata": {},
   "outputs": [
    {
     "data": {
      "text/html": [
       "<div>\n",
       "<style scoped>\n",
       "    .dataframe tbody tr th:only-of-type {\n",
       "        vertical-align: middle;\n",
       "    }\n",
       "\n",
       "    .dataframe tbody tr th {\n",
       "        vertical-align: top;\n",
       "    }\n",
       "\n",
       "    .dataframe thead th {\n",
       "        text-align: right;\n",
       "    }\n",
       "</style>\n",
       "<table border=\"1\" class=\"dataframe\">\n",
       "  <thead>\n",
       "    <tr style=\"text-align: right;\">\n",
       "      <th></th>\n",
       "      <th>0</th>\n",
       "      <th>Proba</th>\n",
       "    </tr>\n",
       "  </thead>\n",
       "  <tbody>\n",
       "    <tr>\n",
       "      <th>0</th>\n",
       "      <td>1</td>\n",
       "      <td>0.724</td>\n",
       "    </tr>\n",
       "    <tr>\n",
       "      <th>1</th>\n",
       "      <td>1</td>\n",
       "      <td>0.666</td>\n",
       "    </tr>\n",
       "    <tr>\n",
       "      <th>2</th>\n",
       "      <td>1</td>\n",
       "      <td>0.880</td>\n",
       "    </tr>\n",
       "    <tr>\n",
       "      <th>3</th>\n",
       "      <td>1</td>\n",
       "      <td>0.792</td>\n",
       "    </tr>\n",
       "    <tr>\n",
       "      <th>4</th>\n",
       "      <td>1</td>\n",
       "      <td>0.524</td>\n",
       "    </tr>\n",
       "    <tr>\n",
       "      <th>5</th>\n",
       "      <td>1</td>\n",
       "      <td>0.604</td>\n",
       "    </tr>\n",
       "    <tr>\n",
       "      <th>6</th>\n",
       "      <td>1</td>\n",
       "      <td>0.520</td>\n",
       "    </tr>\n",
       "    <tr>\n",
       "      <th>7</th>\n",
       "      <td>1</td>\n",
       "      <td>0.786</td>\n",
       "    </tr>\n",
       "    <tr>\n",
       "      <th>8</th>\n",
       "      <td>1</td>\n",
       "      <td>0.508</td>\n",
       "    </tr>\n",
       "    <tr>\n",
       "      <th>9</th>\n",
       "      <td>1</td>\n",
       "      <td>0.750</td>\n",
       "    </tr>\n",
       "    <tr>\n",
       "      <th>10</th>\n",
       "      <td>1</td>\n",
       "      <td>0.556</td>\n",
       "    </tr>\n",
       "    <tr>\n",
       "      <th>11</th>\n",
       "      <td>1</td>\n",
       "      <td>0.682</td>\n",
       "    </tr>\n",
       "    <tr>\n",
       "      <th>12</th>\n",
       "      <td>1</td>\n",
       "      <td>0.528</td>\n",
       "    </tr>\n",
       "    <tr>\n",
       "      <th>13</th>\n",
       "      <td>1</td>\n",
       "      <td>0.738</td>\n",
       "    </tr>\n",
       "    <tr>\n",
       "      <th>14</th>\n",
       "      <td>1</td>\n",
       "      <td>0.712</td>\n",
       "    </tr>\n",
       "    <tr>\n",
       "      <th>15</th>\n",
       "      <td>1</td>\n",
       "      <td>0.600</td>\n",
       "    </tr>\n",
       "    <tr>\n",
       "      <th>16</th>\n",
       "      <td>1</td>\n",
       "      <td>0.766</td>\n",
       "    </tr>\n",
       "    <tr>\n",
       "      <th>17</th>\n",
       "      <td>1</td>\n",
       "      <td>0.712</td>\n",
       "    </tr>\n",
       "  </tbody>\n",
       "</table>\n",
       "</div>"
      ],
      "text/plain": [
       "    0  Proba\n",
       "0   1  0.724\n",
       "1   1  0.666\n",
       "2   1  0.880\n",
       "3   1  0.792\n",
       "4   1  0.524\n",
       "5   1  0.604\n",
       "6   1  0.520\n",
       "7   1  0.786\n",
       "8   1  0.508\n",
       "9   1  0.750\n",
       "10  1  0.556\n",
       "11  1  0.682\n",
       "12  1  0.528\n",
       "13  1  0.738\n",
       "14  1  0.712\n",
       "15  1  0.600\n",
       "16  1  0.766\n",
       "17  1  0.712"
      ]
     },
     "execution_count": 945,
     "metadata": {},
     "output_type": "execute_result"
    }
   ],
   "source": [
    "prod_func(df)\n",
    "#Looks like all the inputs will get a pass in this case"
   ]
  },
  {
   "cell_type": "code",
   "execution_count": 953,
   "metadata": {},
   "outputs": [
    {
     "name": "stdout",
     "output_type": "stream",
     "text": [
      "              precision    recall  f1-score   support\n",
      "\n",
      "         0.0       0.61      0.94      0.74       293\n",
      "         1.0       0.88      0.41      0.55       293\n",
      "\n",
      "    accuracy                           0.67       586\n",
      "   macro avg       0.74      0.67      0.65       586\n",
      "weighted avg       0.74      0.67      0.65       586\n",
      "\n",
      "[[276  17]\n",
      " [174 119]]\n",
      "              precision    recall  f1-score   support\n",
      "\n",
      "         0.0       0.70      0.91      0.79       292\n",
      "         1.0       0.87      0.61      0.72       293\n",
      "\n",
      "    accuracy                           0.76       585\n",
      "   macro avg       0.78      0.76      0.75       585\n",
      "weighted avg       0.78      0.76      0.75       585\n",
      "\n",
      "[[265  27]\n",
      " [114 179]]\n",
      "              precision    recall  f1-score   support\n",
      "\n",
      "         0.0       0.86      0.95      0.90       292\n",
      "         1.0       0.94      0.84      0.89       293\n",
      "\n",
      "    accuracy                           0.89       585\n",
      "   macro avg       0.90      0.89      0.89       585\n",
      "weighted avg       0.90      0.89      0.89       585\n",
      "\n",
      "[[276  16]\n",
      " [ 46 247]]\n",
      "              precision    recall  f1-score   support\n",
      "\n",
      "         0.0       0.83      0.87      0.85       293\n",
      "         1.0       0.86      0.83      0.84       292\n",
      "\n",
      "    accuracy                           0.85       585\n",
      "   macro avg       0.85      0.85      0.85       585\n",
      "weighted avg       0.85      0.85      0.85       585\n",
      "\n",
      "[[254  39]\n",
      " [ 51 241]]\n",
      "              precision    recall  f1-score   support\n",
      "\n",
      "         0.0       0.78      0.90      0.84       293\n",
      "         1.0       0.88      0.74      0.81       292\n",
      "\n",
      "    accuracy                           0.82       585\n",
      "   macro avg       0.83      0.82      0.82       585\n",
      "weighted avg       0.83      0.82      0.82       585\n",
      "\n",
      "[[264  29]\n",
      " [ 75 217]]\n",
      "[0.674061433447099, 0.7589743589743589, 0.8940170940170941, 0.8461538461538461, 0.8222222222222222]\n"
     ]
    }
   ],
   "source": [
    "SM = over_sampling.SMOTE()\n",
    "X_SM,y_SM = SM.fit_resample(X,y)\n",
    "skcv = StratifiedKFold(n_splits=5)\n",
    "accuracy = []\n",
    "\n",
    "RFC_2 = RandomForestClassifier()\n",
    "param_grid = {'n_estimators':[100,200,300,400,500,600,700,800]}\n",
    "GSCV9 = GridSearchCV(estimator = RFC_2,param_grid=param_grid)\n",
    "pipe9_9 = Pipeline([('scale',StandardScaler()),\n",
    "                 ('pca',PCA(n_components=8)),\n",
    "                 ('model',GSCV9)])\n",
    "\n",
    "# X is the feature set and y is the target\n",
    "for train_index, test_index in skcv.split(X_SM, y_SM): \n",
    "    X1_train, X1_test = X_SM.iloc[train_index], X_SM.iloc[test_index] \n",
    "    y1_train, y1_test = y_SM.iloc[train_index], y_SM.iloc[test_index]\n",
    "    pipe9_9.fit(X1_train,y1_train)\n",
    "    pred = pipe9_9.predict(X1_test)\n",
    "    print(classification_report(y1_test,pred))\n",
    "    print(confusion_matrix(y1_test,pred))\n",
    "    score=accuracy_score(pred,y1_test)\n",
    "    accuracy.append(score)   \n",
    "print(accuracy)"
   ]
  },
  {
   "cell_type": "code",
   "execution_count": 956,
   "metadata": {},
   "outputs": [
    {
     "data": {
      "text/plain": [
       "0.7990857909629241"
      ]
     },
     "execution_count": 956,
     "metadata": {},
     "output_type": "execute_result"
    }
   ],
   "source": [
    "np.mean(accuracy)"
   ]
  },
  {
   "cell_type": "code",
   "execution_count": 957,
   "metadata": {},
   "outputs": [
    {
     "data": {
      "text/plain": [
       "0.07616123097594038"
      ]
     },
     "execution_count": 957,
     "metadata": {},
     "output_type": "execute_result"
    }
   ],
   "source": [
    "np.std(accuracy)"
   ]
  },
  {
   "cell_type": "code",
   "execution_count": 962,
   "metadata": {},
   "outputs": [
    {
     "data": {
      "text/plain": [
       "95.12"
      ]
     },
     "execution_count": 962,
     "metadata": {},
     "output_type": "execute_result"
    }
   ],
   "source": [
    "79.90+ (2*7.61)"
   ]
  },
  {
   "cell_type": "code",
   "execution_count": 963,
   "metadata": {},
   "outputs": [
    {
     "data": {
      "text/plain": [
       "64.68"
      ]
     },
     "execution_count": 963,
     "metadata": {},
     "output_type": "execute_result"
    }
   ],
   "source": [
    "79.90-(2*7.61)"
   ]
  },
  {
   "cell_type": "markdown",
   "metadata": {},
   "source": [
    "## We are 95% confident that the models accuracy score will be between 65% to 95%"
   ]
  },
  {
   "cell_type": "markdown",
   "metadata": {},
   "source": [
    "# Conclusion and improvisation:\n",
    "\n",
    "#### 1. The idea is to identify both True Positives and True Negatives to the maximum level. In this case lets take an example that we are manufacturing a Resistor.\n",
    "\n",
    "#### 2. If a process Fails and if we incorrectly identify it as a Pass then it would create a big issue. Since we identified the process as pass, we send the inputs to the machine to manufacture resistor and the ouptut will be either a bad resistor or a resistor with different resistance. For eg: If we would like to manufacture a 10Ohms resistor and while checking the machine if we get a pass, we proceed on to make resistors in bulk and finally when ouput comes we identify that the resistor produced was 5Ohms and not 10Ohms.\n",
    "\n",
    "#### 3. Our main motto is to not let this happen, so we will focus on improving our recall score. We can accept few incorrect predictions of fail for the actual Pass. This is actually, the model is actually a Pass but we predict it as Fail. Now, this will be passed on to further tests where it will be noticed that it is actually pass.\n",
    "\n",
    "#### 4. Now, if we only focus on recall and improve the score then precision would go down. This leads to identifying more of Actual Pass as Fails which is also an issue if it happens frequently. So, the ideal metric to look into is F1 score which will aim on reducing both False Negative an False Positives.\n",
    "\n",
    "#### 5. In this case we notice 93.36% (1463) of class 1 and only 6.63% (104) of class 0. An Oversampling or SMOTE or Downsampling will not help here. Downsampling leads to a loss of data which leads to reduction in variance of class 1 and oversampling leads to creating a duplicate or SMOTE synthetic oversampling data. This data will not be a normal distribution data and if a data is not normally distributed we will not be able to analyze and come to a conclusion.  The suggestion will be to get more of class 0 data input from the domain expertise.\n",
    "\n",
    "#### 6. The more we have class 0 data the more it is better to apply oversampling or SMOTE technique to fill in the imbalance issue. For eg: if we have 1463 of class 1 and atleast 500 class 0 then it is easy to apply oversampling or SMOTE technique to build a good model to predict both classes.\n",
    "\n",
    "#### 7. The model that best performed was Random Forest Classifier, the inputs were scaled, reduced in dimensionality to 8 features. The inputs used for training were SMOTE balanced.\n"
   ]
  }
 ],
 "metadata": {
  "kernelspec": {
   "display_name": "Python 3",
   "language": "python",
   "name": "python3"
  },
  "language_info": {
   "codemirror_mode": {
    "name": "ipython",
    "version": 3
   },
   "file_extension": ".py",
   "mimetype": "text/x-python",
   "name": "python",
   "nbconvert_exporter": "python",
   "pygments_lexer": "ipython3",
   "version": "3.8.5"
  }
 },
 "nbformat": 4,
 "nbformat_minor": 4
}
